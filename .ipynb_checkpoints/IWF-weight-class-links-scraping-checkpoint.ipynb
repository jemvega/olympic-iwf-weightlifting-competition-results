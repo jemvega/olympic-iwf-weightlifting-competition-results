{
 "cells": [
  {
   "cell_type": "code",
   "execution_count": null,
   "metadata": {},
   "outputs": [],
   "source": [
    "\"\"\"I might be able to delete this file. I'm going to do all links scraping in one notebook.\"\"\""
   ]
  },
  {
   "cell_type": "code",
   "execution_count": 8,
   "metadata": {},
   "outputs": [],
   "source": [
    "import re\n",
    "import requests\n",
    "import pandas as pd\n",
    "from bs4 import BeautifulSoup\n",
    "import parsing_functions"
   ]
  },
  {
   "cell_type": "code",
   "execution_count": 2,
   "metadata": {},
   "outputs": [],
   "source": [
    "# website_url = requests.get(\"https://en.wikipedia.org/wiki/1996_World_Weightlifting_Championships\")\n",
    "\n",
    "# soup = BeautifulSoup(website_url.text, \"lxml\")\n",
    "\n",
    "# print(soup.prettify())"
   ]
  },
  {
   "cell_type": "code",
   "execution_count": 10,
   "metadata": {},
   "outputs": [
    {
     "data": {
      "text/plain": [
       "['/wiki/1996_World_Weightlifting_Championships_%E2%80%93_Women%27s_46_kg',\n",
       " '/wiki/1996_World_Weightlifting_Championships_%E2%80%93_Women%27s_50_kg',\n",
       " '/wiki/1996_World_Weightlifting_Championships_%E2%80%93_Women%27s_54_kg',\n",
       " '/wiki/1996_World_Weightlifting_Championships_%E2%80%93_Women%27s_59_kg',\n",
       " '/wiki/1996_World_Weightlifting_Championships_%E2%80%93_Women%27s_64_kg',\n",
       " '/wiki/1996_World_Weightlifting_Championships_%E2%80%93_Women%27s_70_kg',\n",
       " '/wiki/1996_World_Weightlifting_Championships_%E2%80%93_Women%27s_76_kg',\n",
       " '/wiki/1996_World_Weightlifting_Championships_%E2%80%93_Women%27s_83_kg',\n",
       " '/wiki/1996_World_Weightlifting_Championships_%E2%80%93_Women%27s_%2B83_kg']"
      ]
     },
     "execution_count": 10,
     "metadata": {},
     "output_type": "execute_result"
    }
   ],
   "source": [
    "website_url = requests.get(\"https://en.wikipedia.org/wiki/1996_World_Weightlifting_Championships\")\n",
    "wiki = BeautifulSoup(website_url.text, \"lxml\")\n",
    "weightclass_urls = []\n",
    "for link in wiki.find_all(\"a\", attrs={\"href\": re.compile(\"^/wiki/1996_World_Weightlifting_Championships_\")}):\n",
    "    weightclass_urls.append(link.get('href'))\n",
    "weightclass_urls"
   ]
  },
  {
   "cell_type": "code",
   "execution_count": null,
   "metadata": {},
   "outputs": [],
   "source": [
    "%cd olympic-weightlifting-results"
   ]
  },
  {
   "cell_type": "code",
   "execution_count": null,
   "metadata": {},
   "outputs": [],
   "source": [
    "%pwd"
   ]
  },
  {
   "cell_type": "code",
   "execution_count": null,
   "metadata": {},
   "outputs": [],
   "source": [
    "!jupyter nbconvert --to script [YOUR NOTEBOOK].ipynb"
   ]
  }
 ],
 "metadata": {
  "kernelspec": {
   "display_name": "Python 3",
   "language": "python",
   "name": "python3"
  },
  "language_info": {
   "codemirror_mode": {
    "name": "ipython",
    "version": 3
   },
   "file_extension": ".py",
   "mimetype": "text/x-python",
   "name": "python",
   "nbconvert_exporter": "python",
   "pygments_lexer": "ipython3",
   "version": "3.7.1"
  }
 },
 "nbformat": 4,
 "nbformat_minor": 2
}
