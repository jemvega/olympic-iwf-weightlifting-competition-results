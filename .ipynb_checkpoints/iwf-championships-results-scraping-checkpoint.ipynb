{
 "cells": [
  {
   "cell_type": "code",
   "execution_count": null,
   "metadata": {},
   "outputs": [],
   "source": [
    "import re\n",
    "import requests\n",
    "from bs4 import BeautifulSoup\n",
    "import webscraping_functions as wf\n",
    "import time\n",
    "import concurrent.futures"
   ]
  },
  {
   "cell_type": "code",
   "execution_count": null,
   "metadata": {},
   "outputs": [],
   "source": [
    "url_domain = \"https://en.wikipedia.org\"\n",
    "website_url = \"https://en.wikipedia.org/wiki/World_Weightlifting_Championships\"\n",
    "header_name = \"Combined\"\n",
    "\n",
    "# Scrape the competition urls from the World_Weightlifting_Championships page on Wikipedia\n",
    "competition_urls = [\n",
    "    url_domain + elem for elem in wf.WikiParser.iwf_links(\n",
    "        website_url, header_name, wf.years_list\n",
    "                    )]\n",
    "\n",
    "# Use threading to grab the results url from every weightclass and append it to a list\n",
    "with concurrent.futures.ThreadPoolExecutor() as executor:\n",
    "    weightclass_urls = list(executor.map(wf.WikiParser.process_urls, competition_urls))\n",
    "    comp_urls = []\n",
    "    for index in range(len(weightclass_urls)):\n",
    "        for elem in weightclass_urls[index]:\n",
    "            comp_urls.append(url_domain + elem) \n",
    "\n",
    "# Use threading to write the results tables for every weightclass from 1996+ and write to .csv files\n",
    "with concurrent.futures.ThreadPoolExecutor() as executor:\n",
    "    futures = []\n",
    "    file_names = executor.map(wf.datatable_cleanup.results_table, comp_urls)\n",
    "    for names in file_names:\n",
    "        futures.append(names)\n",
    "        \n",
    "# A function to concate all of the above .csv files into one file\n",
    "file_name = \"IWF-championships-total-results-1996-2019\"\n",
    "wf.datatable_cleanup.concat_csv(file_name)"
   ]
  },
  {
   "cell_type": "code",
   "execution_count": 1,
   "metadata": {},
   "outputs": [
    {
     "name": "stderr",
     "output_type": "stream",
     "text": [
      "[NbConvertApp] Converting notebook iwf-championships-results-scraping.ipynb to script\n",
      "[NbConvertApp] Writing 7169 bytes to iwf-championships-results-scraping.py\n"
     ]
    }
   ],
   "source": [
    "!jupyter nbconvert --to script iwf-championships-results-scraping.ipynb"
   ]
  }
 ],
 "metadata": {
  "kernelspec": {
   "display_name": "Python 3",
   "language": "python",
   "name": "python3"
  },
  "language_info": {
   "codemirror_mode": {
    "name": "ipython",
    "version": 3
   },
   "file_extension": ".py",
   "mimetype": "text/x-python",
   "name": "python",
   "nbconvert_exporter": "python",
   "pygments_lexer": "ipython3",
   "version": "3.7.1"
  }
 },
 "nbformat": 4,
 "nbformat_minor": 2
}
