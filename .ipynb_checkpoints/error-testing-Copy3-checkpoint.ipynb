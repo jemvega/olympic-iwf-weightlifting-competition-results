{
 "cells": [
  {
   "cell_type": "code",
   "execution_count": null,
   "metadata": {},
   "outputs": [],
   "source": [
    "\"iwf-competition-analysis-visualizations\""
   ]
  },
  {
   "cell_type": "code",
   "execution_count": null,
   "metadata": {},
   "outputs": [],
   "source": [
    "# # A function to concate all of the above .csv files into one file\n",
    "# file_name = \"Olympic-Weightlifting-total-results-1980-2016\"\n",
    "# wf.datatable_cleanup.concat_csv(file_name)"
   ]
  },
  {
   "cell_type": "code",
   "execution_count": 1,
   "metadata": {},
   "outputs": [
    {
     "name": "stderr",
     "output_type": "stream",
     "text": [
      "[NbConvertApp] Converting notebook webscraping_functions.ipynb to script\n",
      "[NbConvertApp] Writing 13148 bytes to webscraping_functions.py\n"
     ]
    }
   ],
   "source": [
    "import os\n",
    "from glob import glob\n",
    "import pandas as pd\n",
    "import webscraping_functions as wf"
   ]
  },
  {
   "cell_type": "code",
   "execution_count": null,
   "metadata": {},
   "outputs": [],
   "source": [
    "country_codes = pd.read_html(\"https://www.iban.com/country-codes\")[0]\n",
    "country_codes.head()"
   ]
  },
  {
   "cell_type": "code",
   "execution_count": null,
   "metadata": {},
   "outputs": [],
   "source": [
    "phoebe = pd.read_html(\"https://www.iban.com/country-codes\")[0].values.tolist()\n",
    "phoebe"
   ]
  },
  {
   "cell_type": "code",
   "execution_count": null,
   "metadata": {},
   "outputs": [],
   "source": [
    "if \"China\" in country_codes[\"Country\"].values.tolist():\n",
    "    index = country_codes[\"Country\"].values.tolist().index(\"China\")\n",
    "    code = country_codes[\"Alpha-3 code\"][index]\n",
    "    print(code)\n",
    "else:\n",
    "    print(\"1\")"
   ]
  },
  {
   "cell_type": "code",
   "execution_count": 23,
   "metadata": {},
   "outputs": [
    {
     "data": {
      "text/plain": [
       "'C:\\\\Users\\\\jacqu\\\\Desktop\\\\Github Portfolio\\\\olympic-weightlifting-results\\\\competition-results'"
      ]
     },
     "execution_count": 23,
     "metadata": {},
     "output_type": "execute_result"
    }
   ],
   "source": [
    "%pwd"
   ]
  },
  {
   "cell_type": "code",
   "execution_count": 21,
   "metadata": {},
   "outputs": [],
   "source": [
    "from glob import glob"
   ]
  },
  {
   "cell_type": "code",
   "execution_count": 25,
   "metadata": {},
   "outputs": [],
   "source": [
    "file_name = \"IWF-Oly-weightlifting-combined-total-results-1980-2016\"\n",
    "os.chdir(\"C:\\\\Users\\\\jacqu\\\\Desktop\\\\Github Portfolio\\\\olympic-weightlifting-results\")"
   ]
  },
  {
   "cell_type": "code",
   "execution_count": 17,
   "metadata": {},
   "outputs": [],
   "source": [
    "file_name = \"Olympic-Weightlifting-total-results-1980-2016\"\n",
    "os.chdir(\"C:\\\\Users\\\\jacqu\\\\Desktop\\\\Github Portfolio\\\\olympic-weightlifting-results\\competition-results\\\\olympic-weightlifting-results-1980-2016\")"
   ]
  },
  {
   "cell_type": "code",
   "execution_count": 26,
   "metadata": {},
   "outputs": [
    {
     "data": {
      "text/plain": [
       "['IWF-championships-total-results-1996-2019.csv',\n",
       " 'Olympic-Weightlifting-total-results-1980-2016.csv']"
      ]
     },
     "execution_count": 26,
     "metadata": {},
     "output_type": "execute_result"
    }
   ],
   "source": [
    "file_pattern = \".csv\"\n",
    "file_rename = file_name + file_pattern\n",
    "list_of_files = [file for file in glob(\"*{}\".format(file_pattern))]\n",
    "# Combine all files in the list into a dataframe\n",
    "dataframe_csv = pd.concat([pd.read_csv(file, engine=\"python\") for file in list_of_files])\n",
    "# Export the dataframe to csv\n",
    "dataframe_csv.to_csv(file_rename, index=False, encoding='utf-8')\n",
    "list_of_files"
   ]
  },
  {
   "cell_type": "code",
   "execution_count": null,
   "metadata": {},
   "outputs": [],
   "source": [
    "file_name = \"IWF-championships-total-results-1996-2019\"\n",
    "os.chdir(\"C:\\\\Users\\\\jacqu\\\\Desktop\\\\Github Portfolio\\\\olympic-weightlifting-results\\iwf-championships-weightclass-results-1996-2019\")"
   ]
  },
  {
   "cell_type": "code",
   "execution_count": null,
   "metadata": {},
   "outputs": [],
   "source": [
    "file_pattern = \".csv\"\n",
    "file_rename = file_name + file_pattern\n",
    "list_of_files = [file for file in glob(\"*{}\".format(file_pattern))]\n",
    "# Combine all files in the list into a dataframe\n",
    "dataframe_csv = pd.concat([pd.read_csv(file, engine=\"python\") for file in list_of_files])\n",
    "# Export the dataframe to csv\n",
    "dataframe_csv.to_csv(file_rename, index=False, encoding='utf-8')\n",
    "list_of_files"
   ]
  },
  {
   "cell_type": "code",
   "execution_count": null,
   "metadata": {},
   "outputs": [],
   "source": [
    "concat"
   ]
  },
  {
   "cell_type": "code",
   "execution_count": null,
   "metadata": {},
   "outputs": [],
   "source": []
  },
  {
   "cell_type": "code",
   "execution_count": null,
   "metadata": {},
   "outputs": [],
   "source": [
    "from datetime import datetime\n",
    "import pandas as pd\n",
    "from pandas import Series, DataFrame\n",
    "import numpy as np\n",
    "import seaborn as sns\n",
    "import matplotlib.pyplot as plt\n",
    "import matplotlib.dates as mdates\n",
    "%matplotlib inline\n",
    "\n",
    "# #plt.show()"
   ]
  },
  {
   "cell_type": "code",
   "execution_count": null,
   "metadata": {},
   "outputs": [],
   "source": []
  },
  {
   "cell_type": "code",
   "execution_count": null,
   "metadata": {},
   "outputs": [],
   "source": [
    "if website_url[79:82] == \"Men\":\n",
    "    gender = \"M\"\n",
    "    return gender\n",
    "elif website_url[79:84] == \"Women\":\n",
    "    gender = \"W\"\n",
    "    return gender\n",
    "elif website_url[82:85] == \"Men\":\n",
    "    gender = \"M\"\n",
    "    return gender\n",
    "elif website_url[82:87] == \"Women\":\n",
    "    gender = \"W\"\n",
    "    return gender"
   ]
  },
  {
   "cell_type": "code",
   "execution_count": null,
   "metadata": {},
   "outputs": [],
   "source": [
    "len(\"https://en.wikipedia.org/wiki/1997_World_Weightlifting_Championships_%E2%80%93_\")"
   ]
  },
  {
   "cell_type": "code",
   "execution_count": null,
   "metadata": {},
   "outputs": [],
   "source": [
    "len(\"https://en.wikipedia.org/wiki/1997_World_Weightlifting_Championships_%E2%80%93_Men%27s_54_kg\")"
   ]
  },
  {
   "cell_type": "code",
   "execution_count": null,
   "metadata": {},
   "outputs": [],
   "source": [
    "len(\"https://en.wikipedia.org/wiki/1997_World_Weightlifting_Championships_%E2%80%93_Women%27s_46_kg\")"
   ]
  },
  {
   "cell_type": "code",
   "execution_count": null,
   "metadata": {},
   "outputs": [],
   "source": [
    "len(\"https://en.wikipedia.org/wiki/Weightlifting_at_the_2008_Summer_Olympics_%E2%80%93_Women%27s_53_kg\")"
   ]
  },
  {
   "cell_type": "code",
   "execution_count": null,
   "metadata": {},
   "outputs": [],
   "source": [
    "len(\"https://en.wikipedia.org/wiki/Weightlifting_at_the_2008_Summer_Olympics_%E2%80%93_\")"
   ]
  },
  {
   "cell_type": "code",
   "execution_count": null,
   "metadata": {},
   "outputs": [],
   "source": [
    "len(\"https://en.wikipedia.org/wiki/Weightlifting_at_the_2004_Summer_Olympics_%E2%80%93_Men%27s_77_kg\")"
   ]
  },
  {
   "cell_type": "code",
   "execution_count": null,
   "metadata": {},
   "outputs": [],
   "source": [
    "len(\"https://en.wikipedia.org/wiki/Weightlifting_at_the_2004_Summer_Olympics_%E2%80%93_\")"
   ]
  },
  {
   "cell_type": "code",
   "execution_count": 3,
   "metadata": {},
   "outputs": [
    {
     "name": "stderr",
     "output_type": "stream",
     "text": [
      "C:\\Users\\jacqu\\Desktop\\Github Portfolio\\olympic-weightlifting-results\\webscraping_functions.py:263: SettingWithCopyWarning: \n",
      "A value is trying to be set on a copy of a slice from a DataFrame\n",
      "\n",
      "See the caveats in the documentation: http://pandas.pydata.org/pandas-docs/stable/indexing.html#indexing-view-versus-copy\n",
      "  results_dataframe[\"Comp Rank\"][i] = podium[i]\n"
     ]
    }
   ],
   "source": [
    "#     def results_table(website_url):\n",
    "#         try:\n",
    "year = wf.datatable_cleanup.insert_year(website_url)\n",
    "gender = wf.datatable_cleanup.insert_gender(website_url)\n",
    "url_header = wf.WikiParser.get_h1_text(website_url)\n",
    "header_name = \"Results\"\n",
    "snatch_cols = [\"Snatch 1 (kg)\", \"Snatch 2 (kg)\", \"Snatch 3 (kg)\"] \n",
    "clean_cols = [\"C/J 1 (kg)\", \"C/J 2 (kg)\", \"C/J 3 (kg)\"]\n",
    "df = wf.WikiParser.results_to_dataframe(website_url, header_name)\n",
    "wf.ResultsCleanup.column_row_cleanup(df)\n",
    "wf.ResultsCleanup.data_cleanup(df)\n",
    "wf.ResultsCleanup.lift_rankings(df, snatch_cols, \"Max Snatch\", \"Snatch Rank\")\n",
    "wf.ResultsCleanup.lift_rankings(df, clean_cols, \"Max C/J\", \"C/J Rank\")\n",
    "df.insert(0,\"Year\", year)\n",
    "df.insert(1, \"Gender\", gender)\n",
    "file_name = url_header + \".csv\"\n",
    "df.to_csv(file_name)\n",
    "#             return file_name\n",
    "#         except:\n",
    "#             return \"Error\""
   ]
  },
  {
   "cell_type": "code",
   "execution_count": 2,
   "metadata": {},
   "outputs": [],
   "source": [
    "website_url = \"https://en.wikipedia.org/wiki/Weightlifting_at_the_2012_Summer_Olympics_%E2%80%93_Men%27s_69_kg\""
   ]
  },
  {
   "cell_type": "code",
   "execution_count": null,
   "metadata": {},
   "outputs": [],
   "source": [
    "website_url = \"https://en.wikipedia.org/wiki/Weightlifting_at_the_1980_Summer_Olympics_%E2%80%93_Men%27s_60_kg\""
   ]
  },
  {
   "cell_type": "code",
   "execution_count": null,
   "metadata": {},
   "outputs": [],
   "source": [
    "website_url = \"https://en.wikipedia.org/wiki/Weightlifting_at_the_2016_Summer_Olympics_%E2%80%93_Men%27s_69_kg\""
   ]
  },
  {
   "cell_type": "code",
   "execution_count": null,
   "metadata": {},
   "outputs": [],
   "source": [
    "website_url = \"https://en.wikipedia.org/wiki/Weightlifting_at_the_2016_Summer_Olympics_%E2%80%93_Women%27s_75_kg\""
   ]
  },
  {
   "cell_type": "code",
   "execution_count": null,
   "metadata": {},
   "outputs": [],
   "source": [
    "website_url = \"https://en.wikipedia.org/wiki/Weightlifting_at_the_1992_Summer_Olympics_%E2%80%93_Men%27s_56_kg\""
   ]
  },
  {
   "cell_type": "code",
   "execution_count": null,
   "metadata": {},
   "outputs": [],
   "source": [
    "website_url = \"https://en.wikipedia.org/wiki/Weightlifting_at_the_2000_Summer_Olympics_%E2%80%93_Men%27s_105_kg\""
   ]
  },
  {
   "cell_type": "code",
   "execution_count": null,
   "metadata": {},
   "outputs": [],
   "source": [
    "wesbite_url = \"https://en.wikipedia.org/wiki/Weightlifting_at_the_1996_Summer_Olympics_%E2%80%93_Men%27s_76_kg\""
   ]
  },
  {
   "cell_type": "code",
   "execution_count": null,
   "metadata": {},
   "outputs": [],
   "source": [
    "website_url = \"https://en.wikipedia.org/wiki/Weightlifting_at_the_1996_Summer_Olympics_%E2%80%93_Men%27s_99_kg\""
   ]
  },
  {
   "cell_type": "code",
   "execution_count": null,
   "metadata": {},
   "outputs": [],
   "source": [
    "header_name = \"Results\"\n",
    "results_dataframe = wf.WikiParser.results_to_dataframe(website_url, header_name)\n",
    "results_dataframe.head()"
   ]
  },
  {
   "cell_type": "code",
   "execution_count": null,
   "metadata": {},
   "outputs": [],
   "source": [
    "check_group(results_dataframe)"
   ]
  },
  {
   "cell_type": "code",
   "execution_count": null,
   "metadata": {},
   "outputs": [],
   "source": [
    "check_bodyweight(results_dataframe)"
   ]
  },
  {
   "cell_type": "code",
   "execution_count": null,
   "metadata": {},
   "outputs": [],
   "source": [
    "check_nation(results_dataframe)"
   ]
  },
  {
   "cell_type": "code",
   "execution_count": null,
   "metadata": {},
   "outputs": [],
   "source": [
    "check_max_lift(results_dataframe)"
   ]
  },
  {
   "cell_type": "code",
   "execution_count": null,
   "metadata": {},
   "outputs": [],
   "source": [
    "check_rank(results_dataframe)"
   ]
  },
  {
   "cell_type": "code",
   "execution_count": null,
   "metadata": {},
   "outputs": [],
   "source": [
    "column_names = (\n",
    "        \"Comp Rank, Athlete Name, Nationality, Group, Body Weight (kg), \"\n",
    "        \"Snatch 1 (kg), Snatch 2 (kg), Snatch 3 (kg), Max Snatch, Snatch Rank, \"\n",
    "        \"C/J 1 (kg), C/J 2 (kg), C/J 3 (kg), Max C/J, C/J Rank, Total\").split(\", \")\n",
    "results_dataframe.columns = column_names"
   ]
  },
  {
   "cell_type": "code",
   "execution_count": null,
   "metadata": {},
   "outputs": [],
   "source": [
    "results_dataframe.drop([0,1], inplace=True)\n",
    "results_dataframe.reset_index(inplace=True)\n",
    "results_dataframe.drop(\"index\", axis=1, inplace=True)\n",
    "# Change country name to country code for consistency\n",
    "for country in results_dataframe[\"Nationality\"].values.tolist():\n",
    "    if country in country_codes[\"Country\"].values.tolist():\n",
    "        index = country_codes[\"Country\"].values.tolist().index(country)\n",
    "        code = country_codes[\"Alpha-3 code\"][index]\n",
    "        results_dataframe[\"Nationality\"][index] = code\n",
    "    else:\n",
    "        pass\n",
    "results_dataframe.head()"
   ]
  },
  {
   "cell_type": "code",
   "execution_count": null,
   "metadata": {},
   "outputs": [],
   "source": [
    "\n",
    "def check_group(results_dataframe):\n",
    "    try: \n",
    "        if not \"Group\\n\" in results_dataframe.iloc[0].values:\n",
    "            results_dataframe.insert(2, \"Group\", \"A\")\n",
    "            return results_dataframe\n",
    "        else: \n",
    "            return results_dataframe\n",
    "    except:\n",
    "        pass\n",
    "\n",
    "\n",
    "def check_bodyweight(results_dataframe):\n",
    "    try:\n",
    "        if (not \"Bodyweight\\n\" or not \"Body weight\\n\") in results_dataframe.iloc[0].values:\n",
    "            results_dataframe.insert(3, \"Body Weight (kg)\", \"NaN\")\n",
    "            return results_dataframe\n",
    "        else:\n",
    "            return results_dataframe\n",
    "    except:\n",
    "        pass\n",
    "\n",
    "\n",
    "def check_nation(results_dataframe):\n",
    "    try:\n",
    "        if not \"Nation\\n\" in results_dataframe.iloc[0].values:\n",
    "            new_cols = results_dataframe[1].str.split(\"(\", 1, expand=True)\n",
    "            results_dataframe[1] = new_cols[0]\n",
    "            results_dataframe.insert(2, \"Nationality\", new_cols[1])\n",
    "            results_dataframe[\"Nationality\"] = results_dataframe[\"Nationality\"].str.rstrip(\")\")\n",
    "            return results_dataframe\n",
    "        else:\n",
    "            return results_dataframe\n",
    "    except:\n",
    "        pass\n",
    "\n",
    "\n",
    "def check_max_lift(results_dataframe):\n",
    "    try:\n",
    "        if not \"Result\\n\" in results_dataframe.iloc[1].values:\n",
    "            results_dataframe.insert(8, \"Max Snatch\", 0)\n",
    "            results_dataframe.insert(13, \"Max C/J\", 0)\n",
    "            return results_dataframe\n",
    "        else:\n",
    "            return results_dataframe\n",
    "    except:\n",
    "        pass\n",
    "\n",
    "\n",
    "def check_rank(results_dataframe):\n",
    "    try:\n",
    "        if not \"Rank\\n\" in results_dataframe.iloc[1].values:\n",
    "            results_dataframe.insert(9, \"Snatch Rank\", 0)\n",
    "            results_dataframe.insert(14, \"C/J Rank\", 0)\n",
    "            return results_dataframe\n",
    "        else:\n",
    "            results_dataframe[\"Snatch Rank\"] = results_dataframe[9]\n",
    "            results_dataframe[\"C/J Rank\"] = results_dataframe[14]\n",
    "            results_dataframe.drop(columns=[8, 14], inplace = True)\n",
    "            return results_dataframe\n",
    "    except:\n",
    "        pass"
   ]
  },
  {
   "cell_type": "code",
   "execution_count": null,
   "metadata": {},
   "outputs": [],
   "source": []
  },
  {
   "cell_type": "code",
   "execution_count": 15,
   "metadata": {},
   "outputs": [
    {
     "data": {
      "text/plain": [
       "'C:\\\\Users\\\\jacqu\\\\Desktop\\\\Github Portfolio\\\\olympic-weightlifting-results\\\\competition-results\\\\olympic-weightlifting-results-1980-2016'"
      ]
     },
     "execution_count": 15,
     "metadata": {},
     "output_type": "execute_result"
    }
   ],
   "source": [
    "%pwd"
   ]
  },
  {
   "cell_type": "code",
   "execution_count": 2,
   "metadata": {},
   "outputs": [
    {
     "data": {
      "text/plain": [
       "[\"Weightlifting at the 1992 Summer Olympics – Men's +110 kg.csv\",\n",
       " \"Weightlifting at the 1992 Summer Olympics – Men's 100 kg.csv\",\n",
       " \"Weightlifting at the 1992 Summer Olympics – Men's 110 kg.csv\",\n",
       " \"Weightlifting at the 1992 Summer Olympics – Men's 52 kg.csv\",\n",
       " \"Weightlifting at the 1992 Summer Olympics – Men's 56 kg.csv\",\n",
       " \"Weightlifting at the 1992 Summer Olympics – Men's 60 kg.csv\",\n",
       " \"Weightlifting at the 1992 Summer Olympics – Men's 67.5 kg.csv\",\n",
       " \"Weightlifting at the 1992 Summer Olympics – Men's 75 kg.csv\",\n",
       " \"Weightlifting at the 1992 Summer Olympics – Men's 82.5 kg.csv\",\n",
       " \"Weightlifting at the 1992 Summer Olympics – Men's 90 kg.csv\"]"
      ]
     },
     "execution_count": 2,
     "metadata": {},
     "output_type": "execute_result"
    }
   ],
   "source": [
    "files"
   ]
  },
  {
   "cell_type": "code",
   "execution_count": 15,
   "metadata": {
    "scrolled": true
   },
   "outputs": [],
   "source": [
    "import glob\n",
    "import os\n",
    "import pandas as pd\n",
    "os.chdir(\"C:\\\\Users\\\\jacqu\\\\Desktop\\\\Github Portfolio\\\\olympic-weightlifting-results\\\\competition-results\\\\olympic-weightlifting-results-1980-2016\")\n",
    "files = glob.glob(\"Weightlifting at the 1992 Summer Olympics – Men's*.csv\")\n",
    "files\n",
    "for f in files:\n",
    "    df = pd.read_csv(f, engine=\"python\")\n",
    "    df.drop(\"Unnamed: 0\", axis=1, inplace=True)\n",
    "    df.drop(\"Unnamed: 0.1\", axis=1, inplace=True)\n",
    "    df[\"Total\"] = df[\"Max Snatch\"] + df[\"Max C/J\"]\n",
    "    # manipulate df\n",
    "    df.to_csv(f)"
   ]
  },
  {
   "cell_type": "code",
   "execution_count": 12,
   "metadata": {},
   "outputs": [],
   "source": [
    "import glob\n",
    "files = glob.glob(\"Weightlifting at the 1992 Summer Olympics – Men.csv\")\n",
    "for f in files:\n",
    "    df = pd.read_csv(f)\n",
    "    df[\"Total\"] = df[\"Max Snatch\"] + df[\"Max C/J\"]\n",
    "    # manipulate df\n",
    "    df.to_csv(f)"
   ]
  },
  {
   "cell_type": "code",
   "execution_count": null,
   "metadata": {},
   "outputs": [],
   "source": []
  },
  {
   "cell_type": "code",
   "execution_count": null,
   "metadata": {},
   "outputs": [],
   "source": []
  },
  {
   "cell_type": "code",
   "execution_count": null,
   "metadata": {},
   "outputs": [],
   "source": []
  },
  {
   "cell_type": "code",
   "execution_count": null,
   "metadata": {},
   "outputs": [],
   "source": []
  },
  {
   "cell_type": "code",
   "execution_count": null,
   "metadata": {},
   "outputs": [],
   "source": []
  },
  {
   "cell_type": "code",
   "execution_count": null,
   "metadata": {},
   "outputs": [],
   "source": []
  },
  {
   "cell_type": "code",
   "execution_count": null,
   "metadata": {},
   "outputs": [],
   "source": []
  },
  {
   "cell_type": "code",
   "execution_count": null,
   "metadata": {},
   "outputs": [],
   "source": []
  },
  {
   "cell_type": "code",
   "execution_count": null,
   "metadata": {},
   "outputs": [],
   "source": []
  },
  {
   "cell_type": "code",
   "execution_count": null,
   "metadata": {},
   "outputs": [],
   "source": []
  },
  {
   "cell_type": "code",
   "execution_count": null,
   "metadata": {},
   "outputs": [],
   "source": []
  },
  {
   "cell_type": "code",
   "execution_count": null,
   "metadata": {},
   "outputs": [],
   "source": []
  },
  {
   "cell_type": "code",
   "execution_count": null,
   "metadata": {},
   "outputs": [],
   "source": []
  },
  {
   "cell_type": "code",
   "execution_count": null,
   "metadata": {},
   "outputs": [],
   "source": []
  },
  {
   "cell_type": "code",
   "execution_count": null,
   "metadata": {},
   "outputs": [],
   "source": [
    "def check_group(results_dataframe):\n",
    "    try: \n",
    "        if not \"Group\\n\" in results_dataframe.iloc[0].values:\n",
    "            results_dataframe.insert(2, \"Group\", \"A\")\n",
    "            return results_dataframe\n",
    "        else: \n",
    "            pass\n",
    "    except:\n",
    "        pass\n",
    "    \n",
    "def check_bodyweight(results_dataframe):\n",
    "    try:\n",
    "        if (not \"Bodyweight\\n\" or not \"Body weight\\n\") in results_dataframe.iloc[0].values:\n",
    "            results_dataframe.insert(3, \"Body Weight (kg)\", \"NaN\")\n",
    "            return results_dataframe\n",
    "        else:\n",
    "            pass\n",
    "    except:\n",
    "        pass\n",
    "    \n",
    "def check_nation(results_dataframe):\n",
    "    try:\n",
    "        if not \"Nation\\n\" in results_dataframe.iloc[0].values:\n",
    "            new_cols = results_dataframe[1].str.split(\"(\", 1, expand=True)\n",
    "            results_dataframe[1] = new_cols[0]\n",
    "            results_dataframe.insert(2, \"Nationality\", new_cols[1])\n",
    "            results_dataframe[\"Nationality\"] = results_dataframe[\"Nationality\"].str.rstrip(\")\")\n",
    "            return results_dataframe\n",
    "        else:\n",
    "            pass\n",
    "    except:\n",
    "        pass\n",
    "\n",
    "def check_max_lift(results_dataframe):\n",
    "    try:\n",
    "        if not \"Result\\n\" in results_dataframe.iloc[1].values:\n",
    "            results_dataframe.insert(8, \"Max Snatch\", 0)\n",
    "            results_dataframe.insert(13, \"Max C/J\", 0)\n",
    "            return results_dataframe\n",
    "        else:\n",
    "            pass\n",
    "    except:\n",
    "        pass\n",
    "    \n",
    "def check_rank(results_dataframe):\n",
    "    try:\n",
    "        if not \"Rank\\n\" in results_dataframe.iloc[1].values:\n",
    "            results_dataframe.insert(9, \"Snatch Rank\", 0)\n",
    "            results_dataframe.insert(14, \"C/J Rank\", 0)\n",
    "            return results_dataframe\n",
    "        else:\n",
    "            results_dataframe[\"Snatch Rank\"] = results_dataframe[8]\n",
    "            results_dataframe[\"C/J Rank\"] = results_dataframe[14]\n",
    "            results_dataframe.drop([8, 14], inplace = True)\n",
    "            return results_dataframe\n",
    "    except:\n",
    "        pass\n",
    "\n"
   ]
  },
  {
   "cell_type": "code",
   "execution_count": null,
   "metadata": {},
   "outputs": [],
   "source": [
    "wf.CheckFunctions.check_group(results_dataframe)\n",
    "wf.CheckFunctions.check_bodyweight(results_dataframe)\n",
    "wf.CheckFunctions.check_nation(results_dataframe)\n",
    "wf.CheckFunctions.check_max_lift(results_dataframe)\n",
    "wf.CheckFunctions.check_rank(results_dataframe)\n",
    "column_names = (\n",
    "        \"Comp Rank, Athlete Name, Nationality, Group, Body Weight (kg), \"\n",
    "        \"Snatch 1 (kg), Snatch 2 (kg), Snatch 3 (kg), Max Snatch, Snatch Rank, \"\n",
    "        \"C/J 1 (kg), C/J 2 (kg), C/J 3 (kg), Max C/J, C/J Rank, Total\").split(\", \")\n",
    "results_dataframe.columns = column_names\n",
    "\n",
    "results_dataframe.drop([0,1], inplace=True)\n",
    "results_dataframe.reset_index(inplace=True)\n",
    "results_dataframe.drop(\"index\", axis=1, inplace=True)\n",
    "# Change country name to country code for consistency\n",
    "for country in results_dataframe[\"Nationality\"].values.tolist():\n",
    "    if country in country_codes[\"Country\"].values.tolist():\n",
    "        index = country_codes[\"Country\"].values.tolist().index(country)\n",
    "        code = country_codes[\"Alpha-3 code\"][index]\n",
    "        results_dataframe[\"Nationality\"][index] = code\n",
    "    else:\n",
    "        pass\n",
    "results_dataframe.head()"
   ]
  },
  {
   "cell_type": "code",
   "execution_count": null,
   "metadata": {},
   "outputs": [],
   "source": [
    "wf.CheckFunctions.check_group(results_dataframe)\n",
    "\n",
    "wf.CheckFunctions.check_bodyweight(results_dataframe)\n",
    "\n",
    "wf.CheckFunctions.check_nation(results_dataframe)\n",
    "\n",
    "wf.CheckFunctions.check_result(results_dataframe)\n",
    "\n",
    "column_names = (\n",
    "        \"Comp Rank, Athlete Name, Nationality, Group, Body Weight (kg), \"\n",
    "        \"Snatch 1 (kg), Snatch 2 (kg), Snatch 3 (kg), Max Snatch, Snatch Rank, \"\n",
    "        \"C/J 1 (kg), C/J 2 (kg), C/J 3 (kg), Max C/J, C/J Rank, Total\").split(\", \")\n",
    "results_dataframe.columns = column_names\n",
    "# Insert Max Snatch and Max C/J\n",
    "results_dataframe.insert(7, \"Max Snatch\", 0)\n",
    "results_dataframe.insert(12, \"Max C/J\", 0)\n",
    "results_dataframe.drop([0,1], inplace=True)\n",
    "results_dataframe.reset_index(inplace=True)\n",
    "results_dataframe.drop(\"index\", axis=1, inplace=True)\n",
    "# Change country name to country code for consistency\n",
    "for country in results_dataframe[\"Nationality\"].values.tolist():\n",
    "    if country in country_codes[\"Country\"].values.tolist():\n",
    "        index = country_codes[\"Country\"].values.tolist().index(country)\n",
    "        code = country_codes[\"Alpha-3 code\"][index]\n",
    "        results_dataframe[\"Nationality\"][index] = code\n",
    "    else:\n",
    "        pass\n",
    "results_dataframe.head()"
   ]
  },
  {
   "cell_type": "code",
   "execution_count": null,
   "metadata": {},
   "outputs": [],
   "source": [
    "# Need to check for body weight, group, nation, and result data in table  \n",
    "if not \"Group\\n\" in results_dataframe.iloc[0].values:\n",
    "    results_dataframe.insert(2, \"Group\", \"A\")\n",
    "elif not (\"Bodyweight\\n\" or \"Body weight\\n\") in results_dataframe.iloc[0].values:\n",
    "    results_dataframe.insert(3, \"Body Weight (kg)\", \"NaN\")\n",
    "elif not \"Nation\\n\" in results_dataframe.iloc[0].values:\n",
    "    new_cols = results_dataframe[\"Athlete Name\"].str.split(\"(\", 1, expand=True)\n",
    "    results_dataframe[\"Athlete Name\"] = new_cols[0]\n",
    "    results_dataframe.insert(2, \"Nationality\", new_cols[1])\n",
    "    results_dataframe[\"Nationality\"] = results_dataframe[\"Nationality\"].str.rstrip(\")\")\n",
    "elif not \"Result\\n\" in results_dataframe.iloc[0].values:\n",
    "    results_dataframe.insert(6, \"Snatch Rank\", 0)\n",
    "    results_dataframe.inser(10, \"C/J Rank\", 0)\n",
    "                \n",
    "column_names = (\n",
    "        \"Comp Rank, Athlete Name, Nationality, Group, Body Weight (kg), \"\n",
    "        \"Snatch 1 (kg), Snatch 2 (kg), Snatch 3 (kg), Snatch Rank, \"\n",
    "        \"C/J 1 (kg), C/J 2 (kg), C/J 3 (kg), C/J Rank, Total\").split(\", \")\n",
    "results_dataframe.columns = column_names\n",
    "# Insert Max Snatch and Max C/J\n",
    "results_dataframe.insert(7, \"Max Snatch\", 0)\n",
    "results_dataframe.insert(12, \"Max C/J\", 0)\n",
    "results_dataframe.drop([0,1], inplace=True)\n",
    "results_dataframe.reset_index(inplace=True)\n",
    "results_dataframe.drop(\"index\", axis=1, inplace=True)\n",
    "# Change country name to country code for consistency\n",
    "for country in results_dataframe[\"Nationality\"].values.tolist():\n",
    "    if country in country_codes[\"Country\"].values.tolist():\n",
    "        index = country_codes[\"Country\"].values.tolist().index(country)\n",
    "        code = country_codes[\"Alpha-3 code\"][index]\n",
    "        results_dataframe[\"Nationality\"][index] = code\n",
    "    else:\n",
    "        pass\n",
    "results_dataframe.head()"
   ]
  },
  {
   "cell_type": "code",
   "execution_count": null,
   "metadata": {},
   "outputs": [],
   "source": [
    "# Need to check for body weight, group data, and nation in table  \n",
    "if \"Group\\n\" and (\"Bodyweight\\n\" or \"Body weight\\n\") and \"Nation\\n\" in results_dataframe.iloc[0].values:\n",
    "    column_names4 = (\n",
    "        \"Comp Rank, Athlete Name, Nationality, Group, Body Weight (kg), \"\n",
    "        \"Snatch 1 (kg), Snatch 2 (kg), Snatch 3 (kg), Snatch Rank, \"\n",
    "        \"C/J 1 (kg), C/J 2 (kg), C/J 3 (kg), C/J Rank, Total\").split(\", \")\n",
    "    results_dataframe.columns = column_names4\n",
    "else:\n",
    "    if (\"Bodyweight\\n\" or \"Body weight\") and not \"Group\\n\" in results_dataframe.iloc[0].values:\n",
    "        column_names1 = (\n",
    "            \"Comp Rank, Athlete Name, Body Weight (kg), \"\n",
    "            \"Snatch 1 (kg), Snatch 2 (kg), Snatch 3 (kg), Snatch Rank, \"\n",
    "            \"C/J 1 (kg), C/J 2 (kg), C/J 3 (kg), C/J Rank, Total\").split(\", \")\n",
    "        results_dataframe.columns = column_names1\n",
    "        results_dataframe.insert(2, \"Group\", \"A\")\n",
    "    elif \"Group\\n\" and not (\"Bodyweight\\n\" or \"Body weight\") in results_dataframe.iloc[0].values:\n",
    "        column_names2 = (\n",
    "            \"Comp Rank, Athlete Name, Group, \"\n",
    "            \"Snatch 1 (kg), Snatch 2 (kg), Snatch 3 (kg), Snatch Rank, \"\n",
    "            \"C/J 1 (kg), C/J 2 (kg), C/J 3 (kg), C/J Rank, Total\").split(\", \")\n",
    "        results_dataframe.columns = column_names2\n",
    "        results_dataframe.insert(3, \"Body Weight (kg)\", \"NaN\")\n",
    "    elif \"Group\\n\" and (\"Bodyweight\\n\" or \"Body weight\") in results_dataframe.iloc[0].values:\n",
    "        column_names3 = (\n",
    "            \"Comp Rank, Athlete Name, Group, Body Weight (kg), \"\n",
    "            \"Snatch 1 (kg), Snatch 2 (kg), Snatch 3 (kg), Snatch Rank, \"\n",
    "            \"C/J 1 (kg), C/J 2 (kg), C/J 3 (kg), C/J Rank, Total\").split(\", \")\n",
    "        results_dataframe.columns = column_names3\n",
    "    new_cols = results_dataframe[\"Athlete Name\"].str.split(\"(\", 1, expand=True)\n",
    "    results_dataframe[\"Athlete Name\"] = new_cols[0]\n",
    "    results_dataframe.insert(2, \"Nationality\", new_cols[1])\n",
    "    results_dataframe[\"Nationality\"] = results_dataframe[\"Nationality\"].str.rstrip(\")\")\n",
    "# Insert Max Snatch and Max C/J\n",
    "results_dataframe.insert(8, \"Max Snatch\", 0)\n",
    "results_dataframe.insert(13, \"Max C/J\", 0)\n",
    "results_dataframe.drop([0,1], inplace=True)\n",
    "results_dataframe.reset_index(inplace=True)\n",
    "results_dataframe.drop(\"index\", axis=1, inplace=True)\n",
    "# Change country name to country code for consistency\n",
    "for country in results_dataframe[\"Nationality\"].values.tolist():\n",
    "    if country in country_codes[\"Country\"].values.tolist():\n",
    "        index = country_codes[\"Country\"].values.tolist().index(country)\n",
    "        code = country_codes[\"Alpha-3 code\"][index]\n",
    "        results_dataframe[\"Nationality\"][index] = code\n",
    "    else:\n",
    "        pass\n",
    "results_dataframe.head()"
   ]
  },
  {
   "cell_type": "code",
   "execution_count": null,
   "metadata": {},
   "outputs": [],
   "source": []
  },
  {
   "cell_type": "code",
   "execution_count": null,
   "metadata": {},
   "outputs": [],
   "source": []
  },
  {
   "cell_type": "code",
   "execution_count": null,
   "metadata": {},
   "outputs": [],
   "source": [
    "website_url1 = \"https://en.wikipedia.org/wiki/Weightlifting_at_the_1980_Summer_Olympics\""
   ]
  },
  {
   "cell_type": "code",
   "execution_count": null,
   "metadata": {},
   "outputs": [],
   "source": [
    "website_url2 = \"https://en.wikipedia.org/wiki/1996_World_Weightlifting_Championships\""
   ]
  },
  {
   "cell_type": "code",
   "execution_count": null,
   "metadata": {},
   "outputs": [],
   "source": [
    "website_url1[51:55]"
   ]
  },
  {
   "cell_type": "code",
   "execution_count": null,
   "metadata": {},
   "outputs": [],
   "source": [
    "website_url2[30:34]"
   ]
  },
  {
   "cell_type": "code",
   "execution_count": null,
   "metadata": {},
   "outputs": [],
   "source": [
    "blue = \"https://en.wikipedia.org/wiki/\"\n",
    "len(blue)"
   ]
  },
  {
   "cell_type": "code",
   "execution_count": null,
   "metadata": {},
   "outputs": [],
   "source": [
    "green = \"https://en.wikipedia.org/wiki/Weightlifting\"\n",
    "len(green)"
   ]
  },
  {
   "cell_type": "code",
   "execution_count": null,
   "metadata": {},
   "outputs": [],
   "source": [
    "red = \"https://en.wikipedia.org/wiki/Weightlifting_at_the_\"\n",
    "len(red)"
   ]
  },
  {
   "cell_type": "code",
   "execution_count": null,
   "metadata": {},
   "outputs": [],
   "source": [
    "yellow = \"https://en.wikipedia.org/wiki/Weightlifting_at_the_1980\"\n",
    "len(yellow)"
   ]
  },
  {
   "cell_type": "code",
   "execution_count": null,
   "metadata": {},
   "outputs": [],
   "source": [
    "def check(website_url):\n",
    "    if website_url[30:43] == \"Weightlifting\":\n",
    "        year = website_url1[51:55]\n",
    "        print(\"olympic\")\n",
    "    else:\n",
    "        year = website_url2[30:34]\n",
    "        print(\"iwf\")"
   ]
  },
  {
   "cell_type": "code",
   "execution_count": null,
   "metadata": {},
   "outputs": [],
   "source": [
    "check(website_url1)"
   ]
  },
  {
   "cell_type": "code",
   "execution_count": null,
   "metadata": {},
   "outputs": [],
   "source": [
    "check(website_url2)"
   ]
  },
  {
   "cell_type": "code",
   "execution_count": null,
   "metadata": {},
   "outputs": [],
   "source": [
    "# Setting custom color palette from hex color codes \n",
    "\"\"\"\n",
    "Hexcodes and Color Names\n",
    "\"#B38867\", # Coffee\n",
    "\"#283655\", # Blueberry\n",
    "\"#69983D\", # Green Apple\n",
    "\"#D50000\", # Guardsman Red\n",
    "\"#A57298\", # Boquet\n",
    "\"#FFAA00\", # Web Orange/Goldenrod\n",
    "\"#F18D93\", # Pink Tulip\n",
    "\"#F0810F\", # Tangerine\n",
    "\"#66A5AD\", # Ocean\n",
    "\"\"\"\n",
    "\n",
    "color_names = \"coffee, blueberry, green, red, boquet, goldenrod, pink tulip, tangerine, ocean\".split(\", \")\n",
    "hexcodes = \"#B38867 #283655 #69983D #D50000 #A57298 #FFAA00 #F18D93 #F0810F #66A5AD\".split()\n",
    "colors_codes = list(zip(color_names, hexcodes))\n",
    "exercise_names = \"Deadlift BackSquat OverheadSquat FrontSquat BenchPress ShoulderPress SnatchPress Snatch Clean&Jerk\".split()\n",
    "color_map= dict(zip(exercise_names, colors_codes))"
   ]
  },
  {
   "cell_type": "code",
   "execution_count": null,
   "metadata": {
    "scrolled": true
   },
   "outputs": [],
   "source": [
    "color_df = pd.DataFrame.from_dict(color_map, orient=\"index\", columns=[\"Color Name\", \"Hexcode\"])\n",
    "color_df"
   ]
  },
  {
   "cell_type": "code",
   "execution_count": null,
   "metadata": {},
   "outputs": [],
   "source": [
    "colors = color_df[\"Hexcode\"].tolist()"
   ]
  },
  {
   "cell_type": "code",
   "execution_count": null,
   "metadata": {},
   "outputs": [],
   "source": [
    "palette = sns.set_palette(sns.color_palette(colors))\n",
    "sns.set_context(\"paper\")"
   ]
  },
  {
   "cell_type": "code",
   "execution_count": null,
   "metadata": {},
   "outputs": [],
   "source": [
    "df = pd.read_csv(\"workout_data_database.csv\")\n",
    "df.head()"
   ]
  },
  {
   "cell_type": "code",
   "execution_count": null,
   "metadata": {},
   "outputs": [],
   "source": [
    "df.drop(columns =[\"Unnamed: 0\"], inplace = True)\n",
    "df.head()"
   ]
  },
  {
   "cell_type": "code",
   "execution_count": null,
   "metadata": {},
   "outputs": [],
   "source": [
    "workout_data_list = df.values.tolist()\n",
    "workout_data_list[0:5]"
   ]
  },
  {
   "cell_type": "code",
   "execution_count": null,
   "metadata": {},
   "outputs": [],
   "source": [
    "# This changes the \"%Y-%m-%d %H:%M:%S\" string format in the list to datetime format \"%Y-%m-%d %H:%M:%S\" \n",
    "# to be able to use seaborn graphs below.\n",
    "for i in range(len(workout_data_list)):\n",
    "    try:\n",
    "        temp = datetime.strptime(workout_data_list[i][4], \"%Y-%m-%d %H:%M:%S\")\n",
    "        temp.strftime(\"%Y-%m-%d %H:%M:%S\")\n",
    "        workout_data_list[i][4] = temp\n",
    "    except:\n",
    "        pass"
   ]
  },
  {
   "cell_type": "code",
   "execution_count": null,
   "metadata": {},
   "outputs": [],
   "source": [
    "workout_data = pd.DataFrame(workout_data_list)\n",
    "workout_data.head()"
   ]
  },
  {
   "cell_type": "code",
   "execution_count": null,
   "metadata": {},
   "outputs": [],
   "source": [
    "workout_data.columns = \"exercise, sets, reps, weight_lbs, datetime, duration_minutes\".split(\", \")\n",
    "workout_data.head()"
   ]
  },
  {
   "cell_type": "code",
   "execution_count": null,
   "metadata": {},
   "outputs": [],
   "source": [
    "# A dataframe for total count of workouts for each exercise\n",
    "workout_count = workout_data[[\"exercise\", \"datetime\"]]\n",
    "workout_count.head()"
   ]
  },
  {
   "cell_type": "code",
   "execution_count": null,
   "metadata": {},
   "outputs": [],
   "source": [
    "# Plot for total count of workouts for each exercise\n",
    "plt.figure(figsize = (12,9))\n",
    "sns.set_context(\"paper\", font_scale = 2)\n",
    "graph = sns.swarmplot(\n",
    "    x=\"exercise\", \n",
    "    y=\"datetime\", \n",
    "    data=workout_count, \n",
    "    palette=colors, \n",
    "    order=exercise_names\n",
    "    )\n",
    "graph.set_xticklabels(graph.get_xticklabels(), rotation = 30)\n",
    "graph.yaxis.set_major_locator(mdates.WeekdayLocator(interval=5))\n",
    "graph.yaxis.set_major_formatter(mdates.DateFormatter(\"%b %d, %y\"))\n",
    "graph.set(\n",
    "    title=\"Workout Count per Exercise\", \n",
    "    xlabel=\"Exercise\", \n",
    "    ylabel=\"Date\"\n",
    "    )\n",
    "plt.savefig(\"Workout Count per Exercise.png\")"
   ]
  },
  {
   "cell_type": "code",
   "execution_count": null,
   "metadata": {},
   "outputs": [],
   "source": [
    "# A dataframe for max weight by each exercise. \n",
    "exercise_max = workout_data[[\"exercise\", \"weight_lbs\"]].groupby(\"exercise\").max()\n",
    "exercise_max[\"exercise\"] = exercise_max.index\n",
    "exercise_max"
   ]
  },
  {
   "cell_type": "code",
   "execution_count": null,
   "metadata": {},
   "outputs": [],
   "source": [
    "# Plot of max weight for each exercise\n",
    "plt.figure(figsize = (12,9))\n",
    "sns.set_context(\"paper\", font_scale = 2)\n",
    "graph = sns.barplot(\n",
    "    x=\"exercise\", \n",
    "    y=\"weight_lbs\", \n",
    "    data=exercise_max, \n",
    "    order=exercise_names\n",
    "    )\n",
    "graph.set_xticklabels(graph.get_xticklabels(), rotation = 30)\n",
    "graph.set(\n",
    "    title=\"Max Lifts per Exercise\", \n",
    "    xlabel=\"Exercise\", \n",
    "    ylabel=\"Weight (lbs)\", \n",
    "    yticks=np.arange(0, 300, 25)\n",
    "    )\n",
    "plt.savefig(\"Max Lifts per Exercise.png\")"
   ]
  },
  {
   "cell_type": "code",
   "execution_count": null,
   "metadata": {},
   "outputs": [],
   "source": [
    "# A dataframe for total intensity(total weight lifted) for each exercise\n",
    "total_intensity = workout_data[[\"exercise\", \"weight_lbs\"]].groupby(\"exercise\").sum()\n",
    "total_intensity[\"exercise\"] = total_intensity.index\n",
    "total_intensity"
   ]
  },
  {
   "cell_type": "code",
   "execution_count": null,
   "metadata": {},
   "outputs": [],
   "source": [
    "# Plot of total intensity for each exercise\n",
    "plt.figure(figsize = (12,9))\n",
    "sns.set_context(\"paper\", font_scale = 2)\n",
    "graph = sns.barplot(\n",
    "    x=\"exercise\", \n",
    "    y=\"weight_lbs\", \n",
    "    data=total_intensity, \n",
    "    order=exercise_names\n",
    "    )\n",
    "graph.set_xticklabels(graph.get_xticklabels(), rotation=30)\n",
    "graph.set(\n",
    "    title=\"Total Intensity\", \n",
    "    xlabel=\"Exercise\", \n",
    "    ylabel=\"Total Weight Lifted (lbs)\", \n",
    "    yticks=np.arange(0, 8000, 500)\n",
    "    )\n",
    "plt.savefig(\"Total Intensity.png\")"
   ]
  },
  {
   "cell_type": "code",
   "execution_count": null,
   "metadata": {},
   "outputs": [],
   "source": [
    "# A dataframe for total volume for each exercise\n",
    "total_reps = workout_data[\"sets\"]*workout_data[\"reps\"]\n",
    "workout_data[\"total volume\"] = total_reps\n",
    "total_volume = workout_data[[\"exercise\", \"total volume\"]].groupby(\"exercise\").sum()\n",
    "total_volume[\"exercise\"] = total_volume.index\n",
    "total_volume"
   ]
  },
  {
   "cell_type": "code",
   "execution_count": null,
   "metadata": {
    "scrolled": true
   },
   "outputs": [],
   "source": [
    "# Plot for total volume for each exercise\n",
    "plt.figure(figsize = (12,9))\n",
    "sns.set_context(\"paper\", font_scale = 2)\n",
    "graph = sns.barplot(\n",
    "    x=\"exercise\", \n",
    "    y=\"total volume\", \n",
    "    data=total_volume, \n",
    "    order=exercise_names\n",
    "    )\n",
    "graph.set_xticklabels(graph.get_xticklabels(), rotation = 30)\n",
    "graph.set(\n",
    "    title=\"Total Volume per Exercise\", \n",
    "    xlabel=\"Exercise\", \n",
    "    ylabel=\"Total Reps\", \n",
    "    yticks=np.arange(0, 1200, 100)\n",
    "    )\n",
    "plt.savefig(\"Total Volume.png\")"
   ]
  },
  {
   "cell_type": "code",
   "execution_count": null,
   "metadata": {},
   "outputs": [],
   "source": [
    "squats_intensity = workout_data[\n",
    "    [\"exercise\", \"datetime\", \"weight_lbs\"]\n",
    "    ].loc[\n",
    "    (workout_data[\"exercise\"] == \"BackSquat\") | \n",
    "    (workout_data[\"exercise\"] == \"OverheadSquat\") | \n",
    "    (workout_data[\"exercise\"] == \"FrontSquat\")\n",
    "    ]\n",
    "squats_intensity.head()"
   ]
  },
  {
   "cell_type": "code",
   "execution_count": null,
   "metadata": {},
   "outputs": [],
   "source": [
    "squats_volume = workout_data[\n",
    "    [\"exercise\", \"datetime\", \"total volume\"]\n",
    "    ].loc[\n",
    "    (workout_data[\"exercise\"] == \"BackSquat\") | \n",
    "    (workout_data[\"exercise\"] == \"OverheadSquat\") | \n",
    "    (workout_data[\"exercise\"] == \"FrontSquat\")\n",
    "    ]\n",
    "squats_volume.head()"
   ]
  },
  {
   "cell_type": "code",
   "execution_count": null,
   "metadata": {},
   "outputs": [],
   "source": [
    "presses_intensity = workout_data[\n",
    "    [\"exercise\", \"datetime\", \"weight_lbs\"]\n",
    "    ].loc[(workout_data[\"exercise\"] == \"BenchPress\") | \n",
    "    (workout_data[\"exercise\"] == \"ShoulderPress\")]\n",
    "presses_intensity.head()"
   ]
  },
  {
   "cell_type": "code",
   "execution_count": null,
   "metadata": {},
   "outputs": [],
   "source": [
    "presses_volume = workout_data[\n",
    "    [\"exercise\", \"datetime\", \"total volume\"]\n",
    "    ].loc[(workout_data[\"exercise\"] == \"BenchPress\") | \n",
    "    (workout_data[\"exercise\"] == \"ShoulderPress\")\n",
    "    ]\n",
    "presses_volume.head()"
   ]
  },
  {
   "cell_type": "code",
   "execution_count": null,
   "metadata": {},
   "outputs": [],
   "source": [
    "oly_lifts_intensity = workout_data[\n",
    "    [\"exercise\", \"datetime\", \"weight_lbs\"]\n",
    "    ].loc[\n",
    "    (workout_data[\"exercise\"] == \"Clean&Jerk\") | \n",
    "    (workout_data[\"exercise\"] == \"Snatch\")\n",
    "    ]\n",
    "oly_lifts_intensity.head()"
   ]
  },
  {
   "cell_type": "code",
   "execution_count": null,
   "metadata": {},
   "outputs": [],
   "source": [
    "oly_lifts_volume = workout_data[\n",
    "    [\"exercise\", \"datetime\", \"total volume\"]\n",
    "    ].loc[(workout_data[\"exercise\"] == \"Clean&Jerk\") | \n",
    "    (workout_data[\"exercise\"] == \"Snatch\")\n",
    "    ]\n",
    "oly_lifts_volume.head()"
   ]
  },
  {
   "cell_type": "code",
   "execution_count": null,
   "metadata": {},
   "outputs": [],
   "source": [
    "# Plot comparison for intensity for squats.\n",
    "plt.figure(figsize = (16,9))\n",
    "\n",
    "sns.set_context(\"paper\", font_scale = 2)\n",
    "graph = sns.lineplot(\n",
    "    x=\"datetime\", \n",
    "    y=\"weight_lbs\", \n",
    "    data=squats_intensity, \n",
    "    palette=colors[1:4], \n",
    "    hue=\"exercise\", \n",
    "    linewidth=3\n",
    "    )\n",
    "graph.set_xticklabels(squats_intensity[\"datetime\"].values, rotation = 30)\n",
    "graph.xaxis.set_major_locator(mdates.WeekdayLocator(interval=5))\n",
    "graph.xaxis.set_major_formatter(mdates.DateFormatter(\"%m/%d/%y\"))\n",
    "graph.set(\n",
    "    title=\"Squats Intensity vs. Time\", \n",
    "    xlabel=\"Time\", \n",
    "    ylabel=\"Weight (lbs)\", \n",
    "    yticks=np.arange(0, 250, 25)\n",
    "    )\n",
    "plt.legend(\n",
    "    title=\"Exercise\", \n",
    "    loc=\"upper right\", \n",
    "    labels=squats_intensity[\"exercise\"].unique()\n",
    "    )\n",
    "plt.savefig(\"Squats Intensity.png\")"
   ]
  },
  {
   "cell_type": "code",
   "execution_count": null,
   "metadata": {},
   "outputs": [],
   "source": [
    "# Plot comparison for intensity for squats.\n",
    "plt.figure(figsize = (16,9))\n",
    "\n",
    "sns.set_context(\"paper\", font_scale = 2)\n",
    "graph = sns.lineplot(\n",
    "    x=\"datetime\", \n",
    "    y=\"total volume\", \n",
    "    data=squats_volume, \n",
    "    palette=colors[1:4], \n",
    "    hue=\"exercise\", \n",
    "    linewidth=3\n",
    "    )\n",
    "graph.set_xticklabels(squats_volume[\"datetime\"].values, rotation = 30)\n",
    "graph.xaxis.set_major_locator(mdates.WeekdayLocator(interval=5))\n",
    "graph.xaxis.set_major_formatter(mdates.DateFormatter(\"%m/%d/%y\"))\n",
    "graph.set(\n",
    "    title=\"Squats Volume vs. Time\", \n",
    "    xlabel=\"Time\", \n",
    "    ylabel=\"Total Reps per Session\", \n",
    "    yticks=np.arange(0, 55, 5)\n",
    "    )\n",
    "plt.legend(\n",
    "    title=\"Exercise\", \n",
    "    loc=\"upper left\", \n",
    "    labels=squats_volume[\"exercise\"].unique()\n",
    "    )\n",
    "plt.savefig(\"Squats Volume.png\")"
   ]
  },
  {
   "cell_type": "code",
   "execution_count": null,
   "metadata": {
    "scrolled": true
   },
   "outputs": [],
   "source": [
    "# Plot comparison for intensity for squats.\n",
    "plt.figure(figsize = (16,9))\n",
    "\n",
    "sns.set_context(\"paper\", font_scale = 2)\n",
    "graph = sns.lineplot(\n",
    "    x=\"datetime\", \n",
    "    y=\"weight_lbs\", \n",
    "    data=presses_intensity, \n",
    "    palette=colors[4:6], \n",
    "    hue=\"exercise\", \n",
    "    linewidth=3\n",
    "    )\n",
    "graph.set_xticklabels(presses_intensity[\"datetime\"].values, rotation = 30)\n",
    "graph.xaxis.set_major_locator(mdates.WeekdayLocator(interval=5))\n",
    "graph.xaxis.set_major_formatter(mdates.DateFormatter(\"%m/%d/%y\"))\n",
    "graph.set(\n",
    "    title=\"Presses Intensity vs. Time\", \n",
    "    xlabel=\"Time\", \n",
    "    ylabel=\"Weight (lbs)\", \n",
    "    yticks=np.arange(0, 200, 25)\n",
    "    )\n",
    "plt.legend(\n",
    "    title=\"Exercise\", \n",
    "    loc=\"upper right\", \n",
    "    labels=presses_intensity[\"exercise\"].unique()\n",
    "    )\n",
    "plt.savefig(\"Presses Intensity.png\")"
   ]
  },
  {
   "cell_type": "code",
   "execution_count": null,
   "metadata": {
    "scrolled": true
   },
   "outputs": [],
   "source": [
    "# Plot comparison for intensity for squats.\n",
    "plt.figure(figsize = (16,9))\n",
    "\n",
    "sns.set_context(\"paper\", font_scale = 2)\n",
    "graph = sns.lineplot(\n",
    "    x=\"datetime\", \n",
    "    y=\"total volume\", \n",
    "    data=presses_volume, \n",
    "    palette=colors[4:6], \n",
    "    hue=\"exercise\", \n",
    "    linewidth=3\n",
    "    )\n",
    "graph.set_xticklabels(presses_volume[\"datetime\"].values, rotation = 30)\n",
    "graph.xaxis.set_major_locator(mdates.WeekdayLocator(interval=5))\n",
    "graph.xaxis.set_major_formatter(mdates.DateFormatter(\"%m/%d/%y\"))\n",
    "graph.set(\n",
    "    title=\"Presses Volume vs. Time\", \n",
    "    xlabel=\"Time\", \n",
    "    ylabel=\"Total Reps per Session\", \n",
    "    yticks=np.arange(0, 55, 5)\n",
    "    )\n",
    "plt.legend(\n",
    "    title=\"Exercise\", \n",
    "    loc=\"upper left\", \n",
    "    labels=presses_volume[\"exercise\"].unique()\n",
    "    )\n",
    "plt.savefig(\"Presses Volume.png\")"
   ]
  },
  {
   "cell_type": "code",
   "execution_count": null,
   "metadata": {
    "scrolled": true
   },
   "outputs": [],
   "source": [
    "# Plot comparison for intensity for squats.\n",
    "plt.figure(figsize = (16,9))\n",
    "\n",
    "sns.set_context(\"paper\", font_scale = 2)\n",
    "graph = sns.lineplot(\n",
    "    x=\"datetime\", \n",
    "    y=\"weight_lbs\", \n",
    "    data=oly_lifts_intensity, \n",
    "    palette=colors[7:9], \n",
    "    hue=\"exercise\", \n",
    "    linewidth=3\n",
    "    )\n",
    "graph.set_xticklabels(oly_lifts_intensity[\"datetime\"].values, rotation = 30)\n",
    "graph.xaxis.set_major_locator(mdates.WeekdayLocator(interval=5))\n",
    "graph.xaxis.set_major_formatter(mdates.DateFormatter(\"%m/%d/%y\"))\n",
    "graph.set(\n",
    "    title=\"Olympic Lifts Intensity vs. Time\", \n",
    "    xlabel=\"Time\", \n",
    "    ylabel=\"Weight (lbs)\",\n",
    "    yticks=np.arange(0, 150, 25)\n",
    "    )\n",
    "plt.legend(\n",
    "    title=\"Exercise\", \n",
    "    loc=\"upper right\", \n",
    "    labels=oly_lifts_intensity[\"exercise\"].unique()\n",
    "    )\n",
    "plt.savefig(\"Olympic Lifts Intensity.png\")"
   ]
  },
  {
   "cell_type": "code",
   "execution_count": null,
   "metadata": {
    "scrolled": true
   },
   "outputs": [],
   "source": [
    "# Plot comparison for intensity for squats.\n",
    "plt.figure(figsize = (16,9))\n",
    "\n",
    "sns.set_context(\"paper\", font_scale = 2)\n",
    "graph = sns.lineplot(\n",
    "    x=\"datetime\", \n",
    "    y=\"total volume\", \n",
    "    data=oly_lifts_volume, \n",
    "    palette=colors[7:9], \n",
    "    hue=\"exercise\", \n",
    "    linewidth=3\n",
    "    )\n",
    "graph.set_xticklabels(oly_lifts_volume[\"datetime\"].values, rotation = 30)\n",
    "graph.xaxis.set_major_locator(mdates.WeekdayLocator(interval=5))\n",
    "graph.xaxis.set_major_formatter(mdates.DateFormatter(\"%m/%d/%y\"))\n",
    "graph.set(\n",
    "    title=\"Olympic Lifts Volume vs. Time\", \n",
    "    xlabel=\"Time\", \n",
    "    ylabel=\"Total Reps per Session\",\n",
    "    yticks=np.arange(0, 30, 3)\n",
    "    )\n",
    "plt.legend(\n",
    "    title=\"Exercise\", \n",
    "    loc=\"upper right\", \n",
    "    labels=oly_lifts_volume[\"exercise\"].unique()\n",
    "    )\n",
    "plt.savefig(\"Olympic Lifts Volume.png\")"
   ]
  },
  {
   "cell_type": "code",
   "execution_count": null,
   "metadata": {},
   "outputs": [],
   "source": [
    "\"\"\" Analytics Below \"\"\""
   ]
  },
  {
   "cell_type": "code",
   "execution_count": null,
   "metadata": {},
   "outputs": [],
   "source": [
    "# Shoulder Press Volume to Deadlift Volme Percent Ratio\n",
    "dl = total_volume.loc[\"Deadlift\"][0]\n",
    "sp = total_volume.loc[\"ShoulderPress\"][0]\n",
    "\n",
    "round(sp/dl*100, 2)"
   ]
  },
  {
   "cell_type": "code",
   "execution_count": null,
   "metadata": {},
   "outputs": [],
   "source": [
    "# Deadlift Max to Shoulder Press Max Percent Ratio\n",
    "dl = exercise_max.loc[\"Deadlift\"][0]\n",
    "sp = exercise_max.loc[\"ShoulderPress\"][0]\n",
    "\n",
    "round(dl/sp*100, 2)"
   ]
  },
  {
   "cell_type": "code",
   "execution_count": null,
   "metadata": {},
   "outputs": [],
   "source": [
    "# Squats Total Volume to Presses Total Volume Percent Ratio\n",
    "sq = squats_volume[\"total volume\"].sum()\n",
    "pr = presses_volume[\"total volume\"].sum()\n",
    "\n",
    "round(sq/pr*100, 2)"
   ]
  },
  {
   "cell_type": "code",
   "execution_count": null,
   "metadata": {},
   "outputs": [],
   "source": [
    "# Squts Total Intensity to Presses Total Intensity Percent Ratio\n",
    "sq = squats_intensity[\"weight_lbs\"].sum()\n",
    "pr = presses_intensity[\"weight_lbs\"].sum()\n",
    "\n",
    "round(sq/pr*100, 2)"
   ]
  },
  {
   "cell_type": "code",
   "execution_count": null,
   "metadata": {},
   "outputs": [],
   "source": [
    "# Snatch Total Volume to Clean&Jerk Total Volume Percent Ratio\n",
    "cj = total_volume.loc[\"Clean&Jerk\"][0]\n",
    "sn = total_volume.loc[\"Snatch\"][0]\n",
    "\n",
    "round(sn/cj*100, 2)"
   ]
  },
  {
   "cell_type": "code",
   "execution_count": null,
   "metadata": {},
   "outputs": [],
   "source": [
    "# Snatch Total Intensity to Clean&Jerk Total Intensity Percent Ratio\n",
    "cj = total_intensity.loc[\"Clean&Jerk\"][0]\n",
    "sn = total_intensity.loc[\"Snatch\"][0]\n",
    "\n",
    "round(sn/cj*100, 2)"
   ]
  },
  {
   "cell_type": "code",
   "execution_count": null,
   "metadata": {},
   "outputs": [],
   "source": [
    "# Front Squat Max to Back Squat Max Percent Ratio\n",
    "fs = exercise_max.loc[\"FrontSquat\"][0]\n",
    "bs = exercise_max.loc[\"BackSquat\"][0]\n",
    "\n",
    "round(fs/bs*100, 2)"
   ]
  },
  {
   "cell_type": "code",
   "execution_count": null,
   "metadata": {},
   "outputs": [],
   "source": [
    "# Average duration of workouts out of 111 workouts with non-null data in duration_minutes\n",
    "len(workout_data[\"duration_minutes\"].loc[workout_data[\"duration_minutes\"] != -1]) # No. workouts with non-null duration\n",
    "\n",
    "avg_duration = workout_data[\"duration_minutes\"].loc[workout_data[\"duration_minutes\"] != -1].mean()\n",
    "round(avg_duration, 2)"
   ]
  },
  {
   "cell_type": "code",
   "execution_count": null,
   "metadata": {},
   "outputs": [],
   "source": [
    "# Average number of sets in workouts\n",
    "avg_sets = workout_data[\"sets\"].mean()\n",
    "round(avg_sets, 2)"
   ]
  },
  {
   "cell_type": "code",
   "execution_count": null,
   "metadata": {},
   "outputs": [],
   "source": [
    "# Average number of reps in workouts\n",
    "avg_reps = workout_data[\"reps\"].mean()\n",
    "round(avg_reps, 2)"
   ]
  },
  {
   "cell_type": "code",
   "execution_count": null,
   "metadata": {},
   "outputs": [],
   "source": [
    "# Average weight lifted in workouts\n",
    "avg_weight = workout_data[\"weight_lbs\"].mean()\n",
    "round(avg_weight, 2)"
   ]
  }
 ],
 "metadata": {
  "kernelspec": {
   "display_name": "Python 3",
   "language": "python",
   "name": "python3"
  },
  "language_info": {
   "codemirror_mode": {
    "name": "ipython",
    "version": 3
   },
   "file_extension": ".py",
   "mimetype": "text/x-python",
   "name": "python",
   "nbconvert_exporter": "python",
   "pygments_lexer": "ipython3",
   "version": "3.7.1"
  }
 },
 "nbformat": 4,
 "nbformat_minor": 2
}
