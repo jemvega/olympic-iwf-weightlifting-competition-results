{
 "cells": [
  {
   "cell_type": "code",
   "execution_count": 81,
   "metadata": {},
   "outputs": [],
   "source": [
    "import re\n",
    "import requests\n",
    "from bs4 import BeautifulSoup\n",
    "import parsing_functions as pf\n",
    "import time\n",
    "import concurrent.futures"
   ]
  },
  {
   "cell_type": "code",
   "execution_count": 4,
   "metadata": {},
   "outputs": [],
   "source": [
    "url_domain = \"https://en.wikipedia.org\"\n",
    "website_url = \"https://en.wikipedia.org/wiki/World_Weightlifting_Championships\"\n",
    "header_name = \"Combined\""
   ]
  },
  {
   "cell_type": "code",
   "execution_count": 6,
   "metadata": {},
   "outputs": [
    {
     "data": {
      "text/plain": [
       "['https://en.wikipedia.org/wiki/1996_World_Weightlifting_Championships',\n",
       " 'https://en.wikipedia.org/wiki/1997_World_Weightlifting_Championships',\n",
       " 'https://en.wikipedia.org/wiki/1998_World_Weightlifting_Championships',\n",
       " 'https://en.wikipedia.org/wiki/1999_World_Weightlifting_Championships',\n",
       " 'https://en.wikipedia.org/wiki/2001_World_Weightlifting_Championships',\n",
       " 'https://en.wikipedia.org/wiki/2002_World_Weightlifting_Championships',\n",
       " 'https://en.wikipedia.org/wiki/2003_World_Weightlifting_Championships',\n",
       " 'https://en.wikipedia.org/wiki/2005_World_Weightlifting_Championships',\n",
       " 'https://en.wikipedia.org/wiki/2006_World_Weightlifting_Championships',\n",
       " 'https://en.wikipedia.org/wiki/2007_World_Weightlifting_Championships',\n",
       " 'https://en.wikipedia.org/wiki/2009_World_Weightlifting_Championships',\n",
       " 'https://en.wikipedia.org/wiki/2010_World_Weightlifting_Championships',\n",
       " 'https://en.wikipedia.org/wiki/2011_World_Weightlifting_Championships',\n",
       " 'https://en.wikipedia.org/wiki/2013_World_Weightlifting_Championships',\n",
       " 'https://en.wikipedia.org/wiki/2014_World_Weightlifting_Championships',\n",
       " 'https://en.wikipedia.org/wiki/2015_World_Weightlifting_Championships',\n",
       " 'https://en.wikipedia.org/wiki/2017_World_Weightlifting_Championships',\n",
       " 'https://en.wikipedia.org/wiki/2018_World_Weightlifting_Championships',\n",
       " 'https://en.wikipedia.org/wiki/2019_World_Weightlifting_Championships']"
      ]
     },
     "execution_count": 6,
     "metadata": {},
     "output_type": "execute_result"
    }
   ],
   "source": [
    "competition_urls = [url_domain + elem for elem in pf.wiki_parser.wikitable_links(website_url, header_name, pf.years_list)]\n",
    "\n",
    "competition_urls"
   ]
  },
  {
   "cell_type": "code",
   "execution_count": 65,
   "metadata": {
    "collapsed": true
   },
   "outputs": [
    {
     "data": {
      "text/plain": [
       "['https://en.wikipedia.org/wiki/1996_World_Weightlifting_Championships',\n",
       " 'https://en.wikipedia.org/wiki/1997_World_Weightlifting_Championships',\n",
       " 'https://en.wikipedia.org/wiki/1998_World_Weightlifting_Championships',\n",
       " 'https://en.wikipedia.org/wiki/1999_World_Weightlifting_Championships',\n",
       " 'https://en.wikipedia.org/wiki/2001_World_Weightlifting_Championships',\n",
       " 'https://en.wikipedia.org/wiki/2002_World_Weightlifting_Championships',\n",
       " 'https://en.wikipedia.org/wiki/2003_World_Weightlifting_Championships',\n",
       " 'https://en.wikipedia.org/wiki/2005_World_Weightlifting_Championships',\n",
       " 'https://en.wikipedia.org/wiki/2006_World_Weightlifting_Championships',\n",
       " 'https://en.wikipedia.org/wiki/2007_World_Weightlifting_Championships',\n",
       " 'https://en.wikipedia.org/wiki/2009_World_Weightlifting_Championships',\n",
       " 'https://en.wikipedia.org/wiki/2010_World_Weightlifting_Championships',\n",
       " 'https://en.wikipedia.org/wiki/2011_World_Weightlifting_Championships',\n",
       " 'https://en.wikipedia.org/wiki/2013_World_Weightlifting_Championships',\n",
       " 'https://en.wikipedia.org/wiki/2014_World_Weightlifting_Championships',\n",
       " 'https://en.wikipedia.org/wiki/2015_World_Weightlifting_Championships',\n",
       " 'https://en.wikipedia.org/wiki/2017_World_Weightlifting_Championships',\n",
       " 'https://en.wikipedia.org/wiki/2018_World_Weightlifting_Championships',\n",
       " 'https://en.wikipedia.org/wiki/2019_World_Weightlifting_Championships']"
      ]
     },
     "execution_count": 65,
     "metadata": {},
     "output_type": "execute_result"
    }
   ],
   "source": [
    "competition_urls"
   ]
  },
  {
   "cell_type": "code",
   "execution_count": 25,
   "metadata": {
    "collapsed": true
   },
   "outputs": [
    {
     "data": {
      "text/plain": [
       "['/wiki/1996_World_Weightlifting_Championships',\n",
       " '/wiki/1997_World_Weightlifting_Championships',\n",
       " '/wiki/1998_World_Weightlifting_Championships',\n",
       " '/wiki/1999_World_Weightlifting_Championships',\n",
       " '/wiki/2001_World_Weightlifting_Championships',\n",
       " '/wiki/2002_World_Weightlifting_Championships',\n",
       " '/wiki/2003_World_Weightlifting_Championships',\n",
       " '/wiki/2005_World_Weightlifting_Championships',\n",
       " '/wiki/2006_World_Weightlifting_Championships',\n",
       " '/wiki/2007_World_Weightlifting_Championships',\n",
       " '/wiki/2009_World_Weightlifting_Championships',\n",
       " '/wiki/2010_World_Weightlifting_Championships',\n",
       " '/wiki/2011_World_Weightlifting_Championships',\n",
       " '/wiki/2013_World_Weightlifting_Championships',\n",
       " '/wiki/2014_World_Weightlifting_Championships',\n",
       " '/wiki/2015_World_Weightlifting_Championships',\n",
       " '/wiki/2017_World_Weightlifting_Championships',\n",
       " '/wiki/2018_World_Weightlifting_Championships',\n",
       " '/wiki/2019_World_Weightlifting_Championships']"
      ]
     },
     "execution_count": 25,
     "metadata": {},
     "output_type": "execute_result"
    }
   ],
   "source": [
    "shortened_urls = [competition_urls[index][24:] for index in range(len(competition_urls))]\n",
    "shortened_urls"
   ]
  },
  {
   "cell_type": "code",
   "execution_count": 10,
   "metadata": {},
   "outputs": [],
   "source": [
    "short = competition_urls[1][24:]"
   ]
  },
  {
   "cell_type": "code",
   "execution_count": 29,
   "metadata": {},
   "outputs": [
    {
     "name": "stdout",
     "output_type": "stream",
     "text": [
      "Fininshed in 420.05 second(s)\n"
     ]
    }
   ],
   "source": [
    "start = time.perf_counter()\n",
    "\n",
    "for url in competition_urls:\n",
    "    website_url = requests.get(url)\n",
    "    page = BeautifulSoup(website_url.text, \"lxml\")\n",
    "    weightclass_urls = []\n",
    "    for short in shortened_urls:\n",
    "        for link in page.find_all(\"a\", attrs={\"href\": re.compile(f\"^{short}_\")}):\n",
    "            weightclass_urls.append(link.get('href'))\n",
    "    weightclass_urls\n",
    "    \n",
    "finish = time.perf_counter()\n",
    "print(f\"Fininshed in {round(finish-start, 2)} second(s)\")"
   ]
  },
  {
   "cell_type": "code",
   "execution_count": 33,
   "metadata": {
    "collapsed": true
   },
   "outputs": [
    {
     "ename": "KeyboardInterrupt",
     "evalue": "",
     "output_type": "error",
     "traceback": [
      "\u001b[1;31m---------------------------------------------------------------------------\u001b[0m",
      "\u001b[1;31mTimeoutError\u001b[0m                              Traceback (most recent call last)",
      "\u001b[1;32mC:\\ProgramData\\Anaconda3\\lib\\site-packages\\urllib3\\util\\connection.py\u001b[0m in \u001b[0;36mcreate_connection\u001b[1;34m(address, timeout, source_address, socket_options)\u001b[0m\n\u001b[0;32m     69\u001b[0m                 \u001b[0msock\u001b[0m\u001b[1;33m.\u001b[0m\u001b[0mbind\u001b[0m\u001b[1;33m(\u001b[0m\u001b[0msource_address\u001b[0m\u001b[1;33m)\u001b[0m\u001b[1;33m\u001b[0m\u001b[1;33m\u001b[0m\u001b[0m\n\u001b[1;32m---> 70\u001b[1;33m             \u001b[0msock\u001b[0m\u001b[1;33m.\u001b[0m\u001b[0mconnect\u001b[0m\u001b[1;33m(\u001b[0m\u001b[0msa\u001b[0m\u001b[1;33m)\u001b[0m\u001b[1;33m\u001b[0m\u001b[1;33m\u001b[0m\u001b[0m\n\u001b[0m\u001b[0;32m     71\u001b[0m             \u001b[1;32mreturn\u001b[0m \u001b[0msock\u001b[0m\u001b[1;33m\u001b[0m\u001b[1;33m\u001b[0m\u001b[0m\n",
      "\u001b[1;31mTimeoutError\u001b[0m: [WinError 10060] A connection attempt failed because the connected party did not properly respond after a period of time, or established connection failed because connected host has failed to respond",
      "\nDuring handling of the above exception, another exception occurred:\n",
      "\u001b[1;31mKeyboardInterrupt\u001b[0m                         Traceback (most recent call last)",
      "\u001b[1;32m<ipython-input-33-01082b9264b1>\u001b[0m in \u001b[0;36m<module>\u001b[1;34m\u001b[0m\n\u001b[0;32m      1\u001b[0m \u001b[1;32mfor\u001b[0m \u001b[0murl\u001b[0m \u001b[1;32min\u001b[0m \u001b[0mcompetition_urls\u001b[0m\u001b[1;33m:\u001b[0m\u001b[1;33m\u001b[0m\u001b[1;33m\u001b[0m\u001b[0m\n\u001b[1;32m----> 2\u001b[1;33m     \u001b[0mwebsite_url\u001b[0m \u001b[1;33m=\u001b[0m \u001b[0mrequests\u001b[0m\u001b[1;33m.\u001b[0m\u001b[0mget\u001b[0m\u001b[1;33m(\u001b[0m\u001b[0murl\u001b[0m\u001b[1;33m)\u001b[0m\u001b[1;33m\u001b[0m\u001b[1;33m\u001b[0m\u001b[0m\n\u001b[0m\u001b[0;32m      3\u001b[0m     \u001b[0mpage\u001b[0m \u001b[1;33m=\u001b[0m \u001b[0mBeautifulSoup\u001b[0m\u001b[1;33m(\u001b[0m\u001b[0mwebsite_url\u001b[0m\u001b[1;33m.\u001b[0m\u001b[0mtext\u001b[0m\u001b[1;33m,\u001b[0m \u001b[1;34m\"lxml\"\u001b[0m\u001b[1;33m)\u001b[0m\u001b[1;33m\u001b[0m\u001b[1;33m\u001b[0m\u001b[0m\n\u001b[0;32m      4\u001b[0m     \u001b[0mweightclass_urls\u001b[0m \u001b[1;33m=\u001b[0m \u001b[1;33m[\u001b[0m\u001b[1;33m]\u001b[0m\u001b[1;33m\u001b[0m\u001b[1;33m\u001b[0m\u001b[0m\n\u001b[0;32m      5\u001b[0m     \u001b[1;32mfor\u001b[0m \u001b[0mshort\u001b[0m \u001b[1;32min\u001b[0m \u001b[0mshortened_urls\u001b[0m\u001b[1;33m:\u001b[0m\u001b[1;33m\u001b[0m\u001b[1;33m\u001b[0m\u001b[0m\n",
      "\u001b[1;32mC:\\ProgramData\\Anaconda3\\lib\\site-packages\\requests\\api.py\u001b[0m in \u001b[0;36mget\u001b[1;34m(url, params, **kwargs)\u001b[0m\n\u001b[0;32m     73\u001b[0m \u001b[1;33m\u001b[0m\u001b[0m\n\u001b[0;32m     74\u001b[0m     \u001b[0mkwargs\u001b[0m\u001b[1;33m.\u001b[0m\u001b[0msetdefault\u001b[0m\u001b[1;33m(\u001b[0m\u001b[1;34m'allow_redirects'\u001b[0m\u001b[1;33m,\u001b[0m \u001b[1;32mTrue\u001b[0m\u001b[1;33m)\u001b[0m\u001b[1;33m\u001b[0m\u001b[1;33m\u001b[0m\u001b[0m\n\u001b[1;32m---> 75\u001b[1;33m     \u001b[1;32mreturn\u001b[0m \u001b[0mrequest\u001b[0m\u001b[1;33m(\u001b[0m\u001b[1;34m'get'\u001b[0m\u001b[1;33m,\u001b[0m \u001b[0murl\u001b[0m\u001b[1;33m,\u001b[0m \u001b[0mparams\u001b[0m\u001b[1;33m=\u001b[0m\u001b[0mparams\u001b[0m\u001b[1;33m,\u001b[0m \u001b[1;33m**\u001b[0m\u001b[0mkwargs\u001b[0m\u001b[1;33m)\u001b[0m\u001b[1;33m\u001b[0m\u001b[1;33m\u001b[0m\u001b[0m\n\u001b[0m\u001b[0;32m     76\u001b[0m \u001b[1;33m\u001b[0m\u001b[0m\n\u001b[0;32m     77\u001b[0m \u001b[1;33m\u001b[0m\u001b[0m\n",
      "\u001b[1;32mC:\\ProgramData\\Anaconda3\\lib\\site-packages\\requests\\api.py\u001b[0m in \u001b[0;36mrequest\u001b[1;34m(method, url, **kwargs)\u001b[0m\n\u001b[0;32m     58\u001b[0m     \u001b[1;31m# cases, and look like a memory leak in others.\u001b[0m\u001b[1;33m\u001b[0m\u001b[1;33m\u001b[0m\u001b[1;33m\u001b[0m\u001b[0m\n\u001b[0;32m     59\u001b[0m     \u001b[1;32mwith\u001b[0m \u001b[0msessions\u001b[0m\u001b[1;33m.\u001b[0m\u001b[0mSession\u001b[0m\u001b[1;33m(\u001b[0m\u001b[1;33m)\u001b[0m \u001b[1;32mas\u001b[0m \u001b[0msession\u001b[0m\u001b[1;33m:\u001b[0m\u001b[1;33m\u001b[0m\u001b[1;33m\u001b[0m\u001b[0m\n\u001b[1;32m---> 60\u001b[1;33m         \u001b[1;32mreturn\u001b[0m \u001b[0msession\u001b[0m\u001b[1;33m.\u001b[0m\u001b[0mrequest\u001b[0m\u001b[1;33m(\u001b[0m\u001b[0mmethod\u001b[0m\u001b[1;33m=\u001b[0m\u001b[0mmethod\u001b[0m\u001b[1;33m,\u001b[0m \u001b[0murl\u001b[0m\u001b[1;33m=\u001b[0m\u001b[0murl\u001b[0m\u001b[1;33m,\u001b[0m \u001b[1;33m**\u001b[0m\u001b[0mkwargs\u001b[0m\u001b[1;33m)\u001b[0m\u001b[1;33m\u001b[0m\u001b[1;33m\u001b[0m\u001b[0m\n\u001b[0m\u001b[0;32m     61\u001b[0m \u001b[1;33m\u001b[0m\u001b[0m\n\u001b[0;32m     62\u001b[0m \u001b[1;33m\u001b[0m\u001b[0m\n",
      "\u001b[1;32mC:\\ProgramData\\Anaconda3\\lib\\site-packages\\requests\\sessions.py\u001b[0m in \u001b[0;36mrequest\u001b[1;34m(self, method, url, params, data, headers, cookies, files, auth, timeout, allow_redirects, proxies, hooks, stream, verify, cert, json)\u001b[0m\n\u001b[0;32m    531\u001b[0m         }\n\u001b[0;32m    532\u001b[0m         \u001b[0msend_kwargs\u001b[0m\u001b[1;33m.\u001b[0m\u001b[0mupdate\u001b[0m\u001b[1;33m(\u001b[0m\u001b[0msettings\u001b[0m\u001b[1;33m)\u001b[0m\u001b[1;33m\u001b[0m\u001b[1;33m\u001b[0m\u001b[0m\n\u001b[1;32m--> 533\u001b[1;33m         \u001b[0mresp\u001b[0m \u001b[1;33m=\u001b[0m \u001b[0mself\u001b[0m\u001b[1;33m.\u001b[0m\u001b[0msend\u001b[0m\u001b[1;33m(\u001b[0m\u001b[0mprep\u001b[0m\u001b[1;33m,\u001b[0m \u001b[1;33m**\u001b[0m\u001b[0msend_kwargs\u001b[0m\u001b[1;33m)\u001b[0m\u001b[1;33m\u001b[0m\u001b[1;33m\u001b[0m\u001b[0m\n\u001b[0m\u001b[0;32m    534\u001b[0m \u001b[1;33m\u001b[0m\u001b[0m\n\u001b[0;32m    535\u001b[0m         \u001b[1;32mreturn\u001b[0m \u001b[0mresp\u001b[0m\u001b[1;33m\u001b[0m\u001b[1;33m\u001b[0m\u001b[0m\n",
      "\u001b[1;32mC:\\ProgramData\\Anaconda3\\lib\\site-packages\\requests\\sessions.py\u001b[0m in \u001b[0;36msend\u001b[1;34m(self, request, **kwargs)\u001b[0m\n\u001b[0;32m    644\u001b[0m \u001b[1;33m\u001b[0m\u001b[0m\n\u001b[0;32m    645\u001b[0m         \u001b[1;31m# Send the request\u001b[0m\u001b[1;33m\u001b[0m\u001b[1;33m\u001b[0m\u001b[1;33m\u001b[0m\u001b[0m\n\u001b[1;32m--> 646\u001b[1;33m         \u001b[0mr\u001b[0m \u001b[1;33m=\u001b[0m \u001b[0madapter\u001b[0m\u001b[1;33m.\u001b[0m\u001b[0msend\u001b[0m\u001b[1;33m(\u001b[0m\u001b[0mrequest\u001b[0m\u001b[1;33m,\u001b[0m \u001b[1;33m**\u001b[0m\u001b[0mkwargs\u001b[0m\u001b[1;33m)\u001b[0m\u001b[1;33m\u001b[0m\u001b[1;33m\u001b[0m\u001b[0m\n\u001b[0m\u001b[0;32m    647\u001b[0m \u001b[1;33m\u001b[0m\u001b[0m\n\u001b[0;32m    648\u001b[0m         \u001b[1;31m# Total elapsed time of the request (approximately)\u001b[0m\u001b[1;33m\u001b[0m\u001b[1;33m\u001b[0m\u001b[1;33m\u001b[0m\u001b[0m\n",
      "\u001b[1;32mC:\\ProgramData\\Anaconda3\\lib\\site-packages\\requests\\adapters.py\u001b[0m in \u001b[0;36msend\u001b[1;34m(self, request, stream, timeout, verify, cert, proxies)\u001b[0m\n\u001b[0;32m    447\u001b[0m                     \u001b[0mdecode_content\u001b[0m\u001b[1;33m=\u001b[0m\u001b[1;32mFalse\u001b[0m\u001b[1;33m,\u001b[0m\u001b[1;33m\u001b[0m\u001b[1;33m\u001b[0m\u001b[0m\n\u001b[0;32m    448\u001b[0m                     \u001b[0mretries\u001b[0m\u001b[1;33m=\u001b[0m\u001b[0mself\u001b[0m\u001b[1;33m.\u001b[0m\u001b[0mmax_retries\u001b[0m\u001b[1;33m,\u001b[0m\u001b[1;33m\u001b[0m\u001b[1;33m\u001b[0m\u001b[0m\n\u001b[1;32m--> 449\u001b[1;33m                     \u001b[0mtimeout\u001b[0m\u001b[1;33m=\u001b[0m\u001b[0mtimeout\u001b[0m\u001b[1;33m\u001b[0m\u001b[1;33m\u001b[0m\u001b[0m\n\u001b[0m\u001b[0;32m    450\u001b[0m                 )\n\u001b[0;32m    451\u001b[0m \u001b[1;33m\u001b[0m\u001b[0m\n",
      "\u001b[1;32mC:\\ProgramData\\Anaconda3\\lib\\site-packages\\urllib3\\connectionpool.py\u001b[0m in \u001b[0;36murlopen\u001b[1;34m(self, method, url, body, headers, retries, redirect, assert_same_host, timeout, pool_timeout, release_conn, chunked, body_pos, **response_kw)\u001b[0m\n\u001b[0;32m    598\u001b[0m                                                   \u001b[0mtimeout\u001b[0m\u001b[1;33m=\u001b[0m\u001b[0mtimeout_obj\u001b[0m\u001b[1;33m,\u001b[0m\u001b[1;33m\u001b[0m\u001b[1;33m\u001b[0m\u001b[0m\n\u001b[0;32m    599\u001b[0m                                                   \u001b[0mbody\u001b[0m\u001b[1;33m=\u001b[0m\u001b[0mbody\u001b[0m\u001b[1;33m,\u001b[0m \u001b[0mheaders\u001b[0m\u001b[1;33m=\u001b[0m\u001b[0mheaders\u001b[0m\u001b[1;33m,\u001b[0m\u001b[1;33m\u001b[0m\u001b[1;33m\u001b[0m\u001b[0m\n\u001b[1;32m--> 600\u001b[1;33m                                                   chunked=chunked)\n\u001b[0m\u001b[0;32m    601\u001b[0m \u001b[1;33m\u001b[0m\u001b[0m\n\u001b[0;32m    602\u001b[0m             \u001b[1;31m# If we're going to release the connection in ``finally:``, then\u001b[0m\u001b[1;33m\u001b[0m\u001b[1;33m\u001b[0m\u001b[1;33m\u001b[0m\u001b[0m\n",
      "\u001b[1;32mC:\\ProgramData\\Anaconda3\\lib\\site-packages\\urllib3\\connectionpool.py\u001b[0m in \u001b[0;36m_make_request\u001b[1;34m(self, conn, method, url, timeout, chunked, **httplib_request_kw)\u001b[0m\n\u001b[0;32m    341\u001b[0m         \u001b[1;31m# Trigger any extra validation we need to do.\u001b[0m\u001b[1;33m\u001b[0m\u001b[1;33m\u001b[0m\u001b[1;33m\u001b[0m\u001b[0m\n\u001b[0;32m    342\u001b[0m         \u001b[1;32mtry\u001b[0m\u001b[1;33m:\u001b[0m\u001b[1;33m\u001b[0m\u001b[1;33m\u001b[0m\u001b[0m\n\u001b[1;32m--> 343\u001b[1;33m             \u001b[0mself\u001b[0m\u001b[1;33m.\u001b[0m\u001b[0m_validate_conn\u001b[0m\u001b[1;33m(\u001b[0m\u001b[0mconn\u001b[0m\u001b[1;33m)\u001b[0m\u001b[1;33m\u001b[0m\u001b[1;33m\u001b[0m\u001b[0m\n\u001b[0m\u001b[0;32m    344\u001b[0m         \u001b[1;32mexcept\u001b[0m \u001b[1;33m(\u001b[0m\u001b[0mSocketTimeout\u001b[0m\u001b[1;33m,\u001b[0m \u001b[0mBaseSSLError\u001b[0m\u001b[1;33m)\u001b[0m \u001b[1;32mas\u001b[0m \u001b[0me\u001b[0m\u001b[1;33m:\u001b[0m\u001b[1;33m\u001b[0m\u001b[1;33m\u001b[0m\u001b[0m\n\u001b[0;32m    345\u001b[0m             \u001b[1;31m# Py2 raises this as a BaseSSLError, Py3 raises it as socket timeout.\u001b[0m\u001b[1;33m\u001b[0m\u001b[1;33m\u001b[0m\u001b[1;33m\u001b[0m\u001b[0m\n",
      "\u001b[1;32mC:\\ProgramData\\Anaconda3\\lib\\site-packages\\urllib3\\connectionpool.py\u001b[0m in \u001b[0;36m_validate_conn\u001b[1;34m(self, conn)\u001b[0m\n\u001b[0;32m    837\u001b[0m         \u001b[1;31m# Force connect early to allow us to validate the connection.\u001b[0m\u001b[1;33m\u001b[0m\u001b[1;33m\u001b[0m\u001b[1;33m\u001b[0m\u001b[0m\n\u001b[0;32m    838\u001b[0m         \u001b[1;32mif\u001b[0m \u001b[1;32mnot\u001b[0m \u001b[0mgetattr\u001b[0m\u001b[1;33m(\u001b[0m\u001b[0mconn\u001b[0m\u001b[1;33m,\u001b[0m \u001b[1;34m'sock'\u001b[0m\u001b[1;33m,\u001b[0m \u001b[1;32mNone\u001b[0m\u001b[1;33m)\u001b[0m\u001b[1;33m:\u001b[0m  \u001b[1;31m# AppEngine might not have  `.sock`\u001b[0m\u001b[1;33m\u001b[0m\u001b[1;33m\u001b[0m\u001b[0m\n\u001b[1;32m--> 839\u001b[1;33m             \u001b[0mconn\u001b[0m\u001b[1;33m.\u001b[0m\u001b[0mconnect\u001b[0m\u001b[1;33m(\u001b[0m\u001b[1;33m)\u001b[0m\u001b[1;33m\u001b[0m\u001b[1;33m\u001b[0m\u001b[0m\n\u001b[0m\u001b[0;32m    840\u001b[0m \u001b[1;33m\u001b[0m\u001b[0m\n\u001b[0;32m    841\u001b[0m         \u001b[1;32mif\u001b[0m \u001b[1;32mnot\u001b[0m \u001b[0mconn\u001b[0m\u001b[1;33m.\u001b[0m\u001b[0mis_verified\u001b[0m\u001b[1;33m:\u001b[0m\u001b[1;33m\u001b[0m\u001b[1;33m\u001b[0m\u001b[0m\n",
      "\u001b[1;32mC:\\ProgramData\\Anaconda3\\lib\\site-packages\\urllib3\\connection.py\u001b[0m in \u001b[0;36mconnect\u001b[1;34m(self)\u001b[0m\n\u001b[0;32m    299\u001b[0m     \u001b[1;32mdef\u001b[0m \u001b[0mconnect\u001b[0m\u001b[1;33m(\u001b[0m\u001b[0mself\u001b[0m\u001b[1;33m)\u001b[0m\u001b[1;33m:\u001b[0m\u001b[1;33m\u001b[0m\u001b[1;33m\u001b[0m\u001b[0m\n\u001b[0;32m    300\u001b[0m         \u001b[1;31m# Add certificate verification\u001b[0m\u001b[1;33m\u001b[0m\u001b[1;33m\u001b[0m\u001b[1;33m\u001b[0m\u001b[0m\n\u001b[1;32m--> 301\u001b[1;33m         \u001b[0mconn\u001b[0m \u001b[1;33m=\u001b[0m \u001b[0mself\u001b[0m\u001b[1;33m.\u001b[0m\u001b[0m_new_conn\u001b[0m\u001b[1;33m(\u001b[0m\u001b[1;33m)\u001b[0m\u001b[1;33m\u001b[0m\u001b[1;33m\u001b[0m\u001b[0m\n\u001b[0m\u001b[0;32m    302\u001b[0m         \u001b[0mhostname\u001b[0m \u001b[1;33m=\u001b[0m \u001b[0mself\u001b[0m\u001b[1;33m.\u001b[0m\u001b[0mhost\u001b[0m\u001b[1;33m\u001b[0m\u001b[1;33m\u001b[0m\u001b[0m\n\u001b[0;32m    303\u001b[0m \u001b[1;33m\u001b[0m\u001b[0m\n",
      "\u001b[1;32mC:\\ProgramData\\Anaconda3\\lib\\site-packages\\urllib3\\connection.py\u001b[0m in \u001b[0;36m_new_conn\u001b[1;34m(self)\u001b[0m\n\u001b[0;32m    157\u001b[0m         \u001b[1;32mtry\u001b[0m\u001b[1;33m:\u001b[0m\u001b[1;33m\u001b[0m\u001b[1;33m\u001b[0m\u001b[0m\n\u001b[0;32m    158\u001b[0m             conn = connection.create_connection(\n\u001b[1;32m--> 159\u001b[1;33m                 (self._dns_host, self.port), self.timeout, **extra_kw)\n\u001b[0m\u001b[0;32m    160\u001b[0m \u001b[1;33m\u001b[0m\u001b[0m\n\u001b[0;32m    161\u001b[0m         \u001b[1;32mexcept\u001b[0m \u001b[0mSocketTimeout\u001b[0m \u001b[1;32mas\u001b[0m \u001b[0me\u001b[0m\u001b[1;33m:\u001b[0m\u001b[1;33m\u001b[0m\u001b[1;33m\u001b[0m\u001b[0m\n",
      "\u001b[1;32mC:\\ProgramData\\Anaconda3\\lib\\site-packages\\urllib3\\util\\connection.py\u001b[0m in \u001b[0;36mcreate_connection\u001b[1;34m(address, timeout, source_address, socket_options)\u001b[0m\n\u001b[0;32m     68\u001b[0m             \u001b[1;32mif\u001b[0m \u001b[0msource_address\u001b[0m\u001b[1;33m:\u001b[0m\u001b[1;33m\u001b[0m\u001b[1;33m\u001b[0m\u001b[0m\n\u001b[0;32m     69\u001b[0m                 \u001b[0msock\u001b[0m\u001b[1;33m.\u001b[0m\u001b[0mbind\u001b[0m\u001b[1;33m(\u001b[0m\u001b[0msource_address\u001b[0m\u001b[1;33m)\u001b[0m\u001b[1;33m\u001b[0m\u001b[1;33m\u001b[0m\u001b[0m\n\u001b[1;32m---> 70\u001b[1;33m             \u001b[0msock\u001b[0m\u001b[1;33m.\u001b[0m\u001b[0mconnect\u001b[0m\u001b[1;33m(\u001b[0m\u001b[0msa\u001b[0m\u001b[1;33m)\u001b[0m\u001b[1;33m\u001b[0m\u001b[1;33m\u001b[0m\u001b[0m\n\u001b[0m\u001b[0;32m     71\u001b[0m             \u001b[1;32mreturn\u001b[0m \u001b[0msock\u001b[0m\u001b[1;33m\u001b[0m\u001b[1;33m\u001b[0m\u001b[0m\n\u001b[0;32m     72\u001b[0m \u001b[1;33m\u001b[0m\u001b[0m\n",
      "\u001b[1;31mKeyboardInterrupt\u001b[0m: "
     ]
    }
   ],
   "source": [
    "for url in competition_urls:\n",
    "    website_url = requests.get(url)\n",
    "    page = BeautifulSoup(website_url.text, \"lxml\")\n",
    "    weightclass_urls = []\n",
    "    for short in shortened_urls:\n",
    "        for link in page.find_all(\"a\", attrs={\"href\": re.compile(f\"^{short}_\")}):\n",
    "            weightclass_urls.append(link.get('href'))\n",
    "    weightclass_urls"
   ]
  },
  {
   "cell_type": "code",
   "execution_count": 59,
   "metadata": {
    "collapsed": true
   },
   "outputs": [
    {
     "ename": "KeyboardInterrupt",
     "evalue": "",
     "output_type": "error",
     "traceback": [
      "\u001b[1;31m---------------------------------------------------------------------------\u001b[0m",
      "\u001b[1;31mTimeoutError\u001b[0m                              Traceback (most recent call last)",
      "\u001b[1;32mC:\\ProgramData\\Anaconda3\\lib\\site-packages\\urllib3\\util\\connection.py\u001b[0m in \u001b[0;36mcreate_connection\u001b[1;34m(address, timeout, source_address, socket_options)\u001b[0m\n\u001b[0;32m     69\u001b[0m                 \u001b[0msock\u001b[0m\u001b[1;33m.\u001b[0m\u001b[0mbind\u001b[0m\u001b[1;33m(\u001b[0m\u001b[0msource_address\u001b[0m\u001b[1;33m)\u001b[0m\u001b[1;33m\u001b[0m\u001b[1;33m\u001b[0m\u001b[0m\n\u001b[1;32m---> 70\u001b[1;33m             \u001b[0msock\u001b[0m\u001b[1;33m.\u001b[0m\u001b[0mconnect\u001b[0m\u001b[1;33m(\u001b[0m\u001b[0msa\u001b[0m\u001b[1;33m)\u001b[0m\u001b[1;33m\u001b[0m\u001b[1;33m\u001b[0m\u001b[0m\n\u001b[0m\u001b[0;32m     71\u001b[0m             \u001b[1;32mreturn\u001b[0m \u001b[0msock\u001b[0m\u001b[1;33m\u001b[0m\u001b[1;33m\u001b[0m\u001b[0m\n",
      "\u001b[1;31mTimeoutError\u001b[0m: [WinError 10060] A connection attempt failed because the connected party did not properly respond after a period of time, or established connection failed because connected host has failed to respond",
      "\nDuring handling of the above exception, another exception occurred:\n",
      "\u001b[1;31mKeyboardInterrupt\u001b[0m                         Traceback (most recent call last)",
      "\u001b[1;32m<ipython-input-59-ca077079dfe1>\u001b[0m in \u001b[0;36m<module>\u001b[1;34m\u001b[0m\n\u001b[0;32m      1\u001b[0m \u001b[1;32mfor\u001b[0m \u001b[0melem\u001b[0m \u001b[1;32min\u001b[0m \u001b[0mcompetition_urls\u001b[0m\u001b[1;33m:\u001b[0m\u001b[1;33m\u001b[0m\u001b[1;33m\u001b[0m\u001b[0m\n\u001b[1;32m----> 2\u001b[1;33m     \u001b[0mwebsite_url\u001b[0m \u001b[1;33m=\u001b[0m \u001b[0mrequests\u001b[0m\u001b[1;33m.\u001b[0m\u001b[0mget\u001b[0m\u001b[1;33m(\u001b[0m\u001b[0melem\u001b[0m\u001b[1;33m)\u001b[0m\u001b[1;33m\u001b[0m\u001b[1;33m\u001b[0m\u001b[0m\n\u001b[0m\u001b[0;32m      3\u001b[0m     \u001b[0mpage\u001b[0m \u001b[1;33m=\u001b[0m \u001b[0mBeautifulSoup\u001b[0m\u001b[1;33m(\u001b[0m\u001b[0mwebsite_url\u001b[0m\u001b[1;33m.\u001b[0m\u001b[0mtext\u001b[0m\u001b[1;33m,\u001b[0m \u001b[1;34m\"lxml\"\u001b[0m\u001b[1;33m)\u001b[0m\u001b[1;33m\u001b[0m\u001b[1;33m\u001b[0m\u001b[0m\n\u001b[0;32m      4\u001b[0m     \u001b[0mweightclass_urls\u001b[0m \u001b[1;33m=\u001b[0m \u001b[1;33m[\u001b[0m\u001b[1;33m]\u001b[0m\u001b[1;33m\u001b[0m\u001b[1;33m\u001b[0m\u001b[0m\n\u001b[0;32m      5\u001b[0m     \u001b[1;32mfor\u001b[0m \u001b[0mindex\u001b[0m \u001b[1;32min\u001b[0m \u001b[0mrange\u001b[0m\u001b[1;33m(\u001b[0m\u001b[0mlen\u001b[0m\u001b[1;33m(\u001b[0m\u001b[0mcompetition_urls\u001b[0m\u001b[1;33m)\u001b[0m\u001b[1;33m)\u001b[0m\u001b[1;33m:\u001b[0m\u001b[1;33m\u001b[0m\u001b[1;33m\u001b[0m\u001b[0m\n",
      "\u001b[1;32mC:\\ProgramData\\Anaconda3\\lib\\site-packages\\requests\\api.py\u001b[0m in \u001b[0;36mget\u001b[1;34m(url, params, **kwargs)\u001b[0m\n\u001b[0;32m     73\u001b[0m \u001b[1;33m\u001b[0m\u001b[0m\n\u001b[0;32m     74\u001b[0m     \u001b[0mkwargs\u001b[0m\u001b[1;33m.\u001b[0m\u001b[0msetdefault\u001b[0m\u001b[1;33m(\u001b[0m\u001b[1;34m'allow_redirects'\u001b[0m\u001b[1;33m,\u001b[0m \u001b[1;32mTrue\u001b[0m\u001b[1;33m)\u001b[0m\u001b[1;33m\u001b[0m\u001b[1;33m\u001b[0m\u001b[0m\n\u001b[1;32m---> 75\u001b[1;33m     \u001b[1;32mreturn\u001b[0m \u001b[0mrequest\u001b[0m\u001b[1;33m(\u001b[0m\u001b[1;34m'get'\u001b[0m\u001b[1;33m,\u001b[0m \u001b[0murl\u001b[0m\u001b[1;33m,\u001b[0m \u001b[0mparams\u001b[0m\u001b[1;33m=\u001b[0m\u001b[0mparams\u001b[0m\u001b[1;33m,\u001b[0m \u001b[1;33m**\u001b[0m\u001b[0mkwargs\u001b[0m\u001b[1;33m)\u001b[0m\u001b[1;33m\u001b[0m\u001b[1;33m\u001b[0m\u001b[0m\n\u001b[0m\u001b[0;32m     76\u001b[0m \u001b[1;33m\u001b[0m\u001b[0m\n\u001b[0;32m     77\u001b[0m \u001b[1;33m\u001b[0m\u001b[0m\n",
      "\u001b[1;32mC:\\ProgramData\\Anaconda3\\lib\\site-packages\\requests\\api.py\u001b[0m in \u001b[0;36mrequest\u001b[1;34m(method, url, **kwargs)\u001b[0m\n\u001b[0;32m     58\u001b[0m     \u001b[1;31m# cases, and look like a memory leak in others.\u001b[0m\u001b[1;33m\u001b[0m\u001b[1;33m\u001b[0m\u001b[1;33m\u001b[0m\u001b[0m\n\u001b[0;32m     59\u001b[0m     \u001b[1;32mwith\u001b[0m \u001b[0msessions\u001b[0m\u001b[1;33m.\u001b[0m\u001b[0mSession\u001b[0m\u001b[1;33m(\u001b[0m\u001b[1;33m)\u001b[0m \u001b[1;32mas\u001b[0m \u001b[0msession\u001b[0m\u001b[1;33m:\u001b[0m\u001b[1;33m\u001b[0m\u001b[1;33m\u001b[0m\u001b[0m\n\u001b[1;32m---> 60\u001b[1;33m         \u001b[1;32mreturn\u001b[0m \u001b[0msession\u001b[0m\u001b[1;33m.\u001b[0m\u001b[0mrequest\u001b[0m\u001b[1;33m(\u001b[0m\u001b[0mmethod\u001b[0m\u001b[1;33m=\u001b[0m\u001b[0mmethod\u001b[0m\u001b[1;33m,\u001b[0m \u001b[0murl\u001b[0m\u001b[1;33m=\u001b[0m\u001b[0murl\u001b[0m\u001b[1;33m,\u001b[0m \u001b[1;33m**\u001b[0m\u001b[0mkwargs\u001b[0m\u001b[1;33m)\u001b[0m\u001b[1;33m\u001b[0m\u001b[1;33m\u001b[0m\u001b[0m\n\u001b[0m\u001b[0;32m     61\u001b[0m \u001b[1;33m\u001b[0m\u001b[0m\n\u001b[0;32m     62\u001b[0m \u001b[1;33m\u001b[0m\u001b[0m\n",
      "\u001b[1;32mC:\\ProgramData\\Anaconda3\\lib\\site-packages\\requests\\sessions.py\u001b[0m in \u001b[0;36mrequest\u001b[1;34m(self, method, url, params, data, headers, cookies, files, auth, timeout, allow_redirects, proxies, hooks, stream, verify, cert, json)\u001b[0m\n\u001b[0;32m    531\u001b[0m         }\n\u001b[0;32m    532\u001b[0m         \u001b[0msend_kwargs\u001b[0m\u001b[1;33m.\u001b[0m\u001b[0mupdate\u001b[0m\u001b[1;33m(\u001b[0m\u001b[0msettings\u001b[0m\u001b[1;33m)\u001b[0m\u001b[1;33m\u001b[0m\u001b[1;33m\u001b[0m\u001b[0m\n\u001b[1;32m--> 533\u001b[1;33m         \u001b[0mresp\u001b[0m \u001b[1;33m=\u001b[0m \u001b[0mself\u001b[0m\u001b[1;33m.\u001b[0m\u001b[0msend\u001b[0m\u001b[1;33m(\u001b[0m\u001b[0mprep\u001b[0m\u001b[1;33m,\u001b[0m \u001b[1;33m**\u001b[0m\u001b[0msend_kwargs\u001b[0m\u001b[1;33m)\u001b[0m\u001b[1;33m\u001b[0m\u001b[1;33m\u001b[0m\u001b[0m\n\u001b[0m\u001b[0;32m    534\u001b[0m \u001b[1;33m\u001b[0m\u001b[0m\n\u001b[0;32m    535\u001b[0m         \u001b[1;32mreturn\u001b[0m \u001b[0mresp\u001b[0m\u001b[1;33m\u001b[0m\u001b[1;33m\u001b[0m\u001b[0m\n",
      "\u001b[1;32mC:\\ProgramData\\Anaconda3\\lib\\site-packages\\requests\\sessions.py\u001b[0m in \u001b[0;36msend\u001b[1;34m(self, request, **kwargs)\u001b[0m\n\u001b[0;32m    644\u001b[0m \u001b[1;33m\u001b[0m\u001b[0m\n\u001b[0;32m    645\u001b[0m         \u001b[1;31m# Send the request\u001b[0m\u001b[1;33m\u001b[0m\u001b[1;33m\u001b[0m\u001b[1;33m\u001b[0m\u001b[0m\n\u001b[1;32m--> 646\u001b[1;33m         \u001b[0mr\u001b[0m \u001b[1;33m=\u001b[0m \u001b[0madapter\u001b[0m\u001b[1;33m.\u001b[0m\u001b[0msend\u001b[0m\u001b[1;33m(\u001b[0m\u001b[0mrequest\u001b[0m\u001b[1;33m,\u001b[0m \u001b[1;33m**\u001b[0m\u001b[0mkwargs\u001b[0m\u001b[1;33m)\u001b[0m\u001b[1;33m\u001b[0m\u001b[1;33m\u001b[0m\u001b[0m\n\u001b[0m\u001b[0;32m    647\u001b[0m \u001b[1;33m\u001b[0m\u001b[0m\n\u001b[0;32m    648\u001b[0m         \u001b[1;31m# Total elapsed time of the request (approximately)\u001b[0m\u001b[1;33m\u001b[0m\u001b[1;33m\u001b[0m\u001b[1;33m\u001b[0m\u001b[0m\n",
      "\u001b[1;32mC:\\ProgramData\\Anaconda3\\lib\\site-packages\\requests\\adapters.py\u001b[0m in \u001b[0;36msend\u001b[1;34m(self, request, stream, timeout, verify, cert, proxies)\u001b[0m\n\u001b[0;32m    447\u001b[0m                     \u001b[0mdecode_content\u001b[0m\u001b[1;33m=\u001b[0m\u001b[1;32mFalse\u001b[0m\u001b[1;33m,\u001b[0m\u001b[1;33m\u001b[0m\u001b[1;33m\u001b[0m\u001b[0m\n\u001b[0;32m    448\u001b[0m                     \u001b[0mretries\u001b[0m\u001b[1;33m=\u001b[0m\u001b[0mself\u001b[0m\u001b[1;33m.\u001b[0m\u001b[0mmax_retries\u001b[0m\u001b[1;33m,\u001b[0m\u001b[1;33m\u001b[0m\u001b[1;33m\u001b[0m\u001b[0m\n\u001b[1;32m--> 449\u001b[1;33m                     \u001b[0mtimeout\u001b[0m\u001b[1;33m=\u001b[0m\u001b[0mtimeout\u001b[0m\u001b[1;33m\u001b[0m\u001b[1;33m\u001b[0m\u001b[0m\n\u001b[0m\u001b[0;32m    450\u001b[0m                 )\n\u001b[0;32m    451\u001b[0m \u001b[1;33m\u001b[0m\u001b[0m\n",
      "\u001b[1;32mC:\\ProgramData\\Anaconda3\\lib\\site-packages\\urllib3\\connectionpool.py\u001b[0m in \u001b[0;36murlopen\u001b[1;34m(self, method, url, body, headers, retries, redirect, assert_same_host, timeout, pool_timeout, release_conn, chunked, body_pos, **response_kw)\u001b[0m\n\u001b[0;32m    598\u001b[0m                                                   \u001b[0mtimeout\u001b[0m\u001b[1;33m=\u001b[0m\u001b[0mtimeout_obj\u001b[0m\u001b[1;33m,\u001b[0m\u001b[1;33m\u001b[0m\u001b[1;33m\u001b[0m\u001b[0m\n\u001b[0;32m    599\u001b[0m                                                   \u001b[0mbody\u001b[0m\u001b[1;33m=\u001b[0m\u001b[0mbody\u001b[0m\u001b[1;33m,\u001b[0m \u001b[0mheaders\u001b[0m\u001b[1;33m=\u001b[0m\u001b[0mheaders\u001b[0m\u001b[1;33m,\u001b[0m\u001b[1;33m\u001b[0m\u001b[1;33m\u001b[0m\u001b[0m\n\u001b[1;32m--> 600\u001b[1;33m                                                   chunked=chunked)\n\u001b[0m\u001b[0;32m    601\u001b[0m \u001b[1;33m\u001b[0m\u001b[0m\n\u001b[0;32m    602\u001b[0m             \u001b[1;31m# If we're going to release the connection in ``finally:``, then\u001b[0m\u001b[1;33m\u001b[0m\u001b[1;33m\u001b[0m\u001b[1;33m\u001b[0m\u001b[0m\n",
      "\u001b[1;32mC:\\ProgramData\\Anaconda3\\lib\\site-packages\\urllib3\\connectionpool.py\u001b[0m in \u001b[0;36m_make_request\u001b[1;34m(self, conn, method, url, timeout, chunked, **httplib_request_kw)\u001b[0m\n\u001b[0;32m    341\u001b[0m         \u001b[1;31m# Trigger any extra validation we need to do.\u001b[0m\u001b[1;33m\u001b[0m\u001b[1;33m\u001b[0m\u001b[1;33m\u001b[0m\u001b[0m\n\u001b[0;32m    342\u001b[0m         \u001b[1;32mtry\u001b[0m\u001b[1;33m:\u001b[0m\u001b[1;33m\u001b[0m\u001b[1;33m\u001b[0m\u001b[0m\n\u001b[1;32m--> 343\u001b[1;33m             \u001b[0mself\u001b[0m\u001b[1;33m.\u001b[0m\u001b[0m_validate_conn\u001b[0m\u001b[1;33m(\u001b[0m\u001b[0mconn\u001b[0m\u001b[1;33m)\u001b[0m\u001b[1;33m\u001b[0m\u001b[1;33m\u001b[0m\u001b[0m\n\u001b[0m\u001b[0;32m    344\u001b[0m         \u001b[1;32mexcept\u001b[0m \u001b[1;33m(\u001b[0m\u001b[0mSocketTimeout\u001b[0m\u001b[1;33m,\u001b[0m \u001b[0mBaseSSLError\u001b[0m\u001b[1;33m)\u001b[0m \u001b[1;32mas\u001b[0m \u001b[0me\u001b[0m\u001b[1;33m:\u001b[0m\u001b[1;33m\u001b[0m\u001b[1;33m\u001b[0m\u001b[0m\n\u001b[0;32m    345\u001b[0m             \u001b[1;31m# Py2 raises this as a BaseSSLError, Py3 raises it as socket timeout.\u001b[0m\u001b[1;33m\u001b[0m\u001b[1;33m\u001b[0m\u001b[1;33m\u001b[0m\u001b[0m\n",
      "\u001b[1;32mC:\\ProgramData\\Anaconda3\\lib\\site-packages\\urllib3\\connectionpool.py\u001b[0m in \u001b[0;36m_validate_conn\u001b[1;34m(self, conn)\u001b[0m\n\u001b[0;32m    837\u001b[0m         \u001b[1;31m# Force connect early to allow us to validate the connection.\u001b[0m\u001b[1;33m\u001b[0m\u001b[1;33m\u001b[0m\u001b[1;33m\u001b[0m\u001b[0m\n\u001b[0;32m    838\u001b[0m         \u001b[1;32mif\u001b[0m \u001b[1;32mnot\u001b[0m \u001b[0mgetattr\u001b[0m\u001b[1;33m(\u001b[0m\u001b[0mconn\u001b[0m\u001b[1;33m,\u001b[0m \u001b[1;34m'sock'\u001b[0m\u001b[1;33m,\u001b[0m \u001b[1;32mNone\u001b[0m\u001b[1;33m)\u001b[0m\u001b[1;33m:\u001b[0m  \u001b[1;31m# AppEngine might not have  `.sock`\u001b[0m\u001b[1;33m\u001b[0m\u001b[1;33m\u001b[0m\u001b[0m\n\u001b[1;32m--> 839\u001b[1;33m             \u001b[0mconn\u001b[0m\u001b[1;33m.\u001b[0m\u001b[0mconnect\u001b[0m\u001b[1;33m(\u001b[0m\u001b[1;33m)\u001b[0m\u001b[1;33m\u001b[0m\u001b[1;33m\u001b[0m\u001b[0m\n\u001b[0m\u001b[0;32m    840\u001b[0m \u001b[1;33m\u001b[0m\u001b[0m\n\u001b[0;32m    841\u001b[0m         \u001b[1;32mif\u001b[0m \u001b[1;32mnot\u001b[0m \u001b[0mconn\u001b[0m\u001b[1;33m.\u001b[0m\u001b[0mis_verified\u001b[0m\u001b[1;33m:\u001b[0m\u001b[1;33m\u001b[0m\u001b[1;33m\u001b[0m\u001b[0m\n",
      "\u001b[1;32mC:\\ProgramData\\Anaconda3\\lib\\site-packages\\urllib3\\connection.py\u001b[0m in \u001b[0;36mconnect\u001b[1;34m(self)\u001b[0m\n\u001b[0;32m    299\u001b[0m     \u001b[1;32mdef\u001b[0m \u001b[0mconnect\u001b[0m\u001b[1;33m(\u001b[0m\u001b[0mself\u001b[0m\u001b[1;33m)\u001b[0m\u001b[1;33m:\u001b[0m\u001b[1;33m\u001b[0m\u001b[1;33m\u001b[0m\u001b[0m\n\u001b[0;32m    300\u001b[0m         \u001b[1;31m# Add certificate verification\u001b[0m\u001b[1;33m\u001b[0m\u001b[1;33m\u001b[0m\u001b[1;33m\u001b[0m\u001b[0m\n\u001b[1;32m--> 301\u001b[1;33m         \u001b[0mconn\u001b[0m \u001b[1;33m=\u001b[0m \u001b[0mself\u001b[0m\u001b[1;33m.\u001b[0m\u001b[0m_new_conn\u001b[0m\u001b[1;33m(\u001b[0m\u001b[1;33m)\u001b[0m\u001b[1;33m\u001b[0m\u001b[1;33m\u001b[0m\u001b[0m\n\u001b[0m\u001b[0;32m    302\u001b[0m         \u001b[0mhostname\u001b[0m \u001b[1;33m=\u001b[0m \u001b[0mself\u001b[0m\u001b[1;33m.\u001b[0m\u001b[0mhost\u001b[0m\u001b[1;33m\u001b[0m\u001b[1;33m\u001b[0m\u001b[0m\n\u001b[0;32m    303\u001b[0m \u001b[1;33m\u001b[0m\u001b[0m\n",
      "\u001b[1;32mC:\\ProgramData\\Anaconda3\\lib\\site-packages\\urllib3\\connection.py\u001b[0m in \u001b[0;36m_new_conn\u001b[1;34m(self)\u001b[0m\n\u001b[0;32m    157\u001b[0m         \u001b[1;32mtry\u001b[0m\u001b[1;33m:\u001b[0m\u001b[1;33m\u001b[0m\u001b[1;33m\u001b[0m\u001b[0m\n\u001b[0;32m    158\u001b[0m             conn = connection.create_connection(\n\u001b[1;32m--> 159\u001b[1;33m                 (self._dns_host, self.port), self.timeout, **extra_kw)\n\u001b[0m\u001b[0;32m    160\u001b[0m \u001b[1;33m\u001b[0m\u001b[0m\n\u001b[0;32m    161\u001b[0m         \u001b[1;32mexcept\u001b[0m \u001b[0mSocketTimeout\u001b[0m \u001b[1;32mas\u001b[0m \u001b[0me\u001b[0m\u001b[1;33m:\u001b[0m\u001b[1;33m\u001b[0m\u001b[1;33m\u001b[0m\u001b[0m\n",
      "\u001b[1;32mC:\\ProgramData\\Anaconda3\\lib\\site-packages\\urllib3\\util\\connection.py\u001b[0m in \u001b[0;36mcreate_connection\u001b[1;34m(address, timeout, source_address, socket_options)\u001b[0m\n\u001b[0;32m     68\u001b[0m             \u001b[1;32mif\u001b[0m \u001b[0msource_address\u001b[0m\u001b[1;33m:\u001b[0m\u001b[1;33m\u001b[0m\u001b[1;33m\u001b[0m\u001b[0m\n\u001b[0;32m     69\u001b[0m                 \u001b[0msock\u001b[0m\u001b[1;33m.\u001b[0m\u001b[0mbind\u001b[0m\u001b[1;33m(\u001b[0m\u001b[0msource_address\u001b[0m\u001b[1;33m)\u001b[0m\u001b[1;33m\u001b[0m\u001b[1;33m\u001b[0m\u001b[0m\n\u001b[1;32m---> 70\u001b[1;33m             \u001b[0msock\u001b[0m\u001b[1;33m.\u001b[0m\u001b[0mconnect\u001b[0m\u001b[1;33m(\u001b[0m\u001b[0msa\u001b[0m\u001b[1;33m)\u001b[0m\u001b[1;33m\u001b[0m\u001b[1;33m\u001b[0m\u001b[0m\n\u001b[0m\u001b[0;32m     71\u001b[0m             \u001b[1;32mreturn\u001b[0m \u001b[0msock\u001b[0m\u001b[1;33m\u001b[0m\u001b[1;33m\u001b[0m\u001b[0m\n\u001b[0;32m     72\u001b[0m \u001b[1;33m\u001b[0m\u001b[0m\n",
      "\u001b[1;31mKeyboardInterrupt\u001b[0m: "
     ]
    }
   ],
   "source": [
    "for elem in competition_urls:\n",
    "    website_url = requests.get(elem)\n",
    "    page = BeautifulSoup(website_url.text, \"lxml\")\n",
    "    weightclass_urls = []\n",
    "    for index in range(len(competition_urls)):\n",
    "        for link in page.find_all(\"a\", attrs={\"href\": re.compile(f\"^{competition_urls[index][24:]}_\")}):\n",
    "            weightclass_urls.append(link.get('href'))\n",
    "    weightclass_urls"
   ]
  },
  {
   "cell_type": "code",
   "execution_count": 79,
   "metadata": {},
   "outputs": [],
   "source": [
    "# start = time.perf_counter()\n",
    "\n",
    "def process_urls(url):\n",
    "    website_url = requests.get(url)\n",
    "    page = BeautifulSoup(website_url.text, \"lxml\")\n",
    "    weightclass_urls = []\n",
    "#     for index in range(len(competition_urls)):\n",
    "    for link in page.find_all(\"a\", attrs={\"href\": re.compile(f\"^{url[24:]}_\")}):\n",
    "        weightclass_urls.append(link.get('href'))\n",
    "    return weightclass_urls\n",
    "    \n",
    "# finish = time.perf_counter()\n",
    "# print(f\"Fininshed in {round(finish-start, 2)} second(s)\")"
   ]
  },
  {
   "cell_type": "code",
   "execution_count": 91,
   "metadata": {},
   "outputs": [
    {
     "data": {
      "text/plain": [
       "'https://en.wikipedia.org/wiki/1996_World_Weightlifting_Championships'"
      ]
     },
     "execution_count": 91,
     "metadata": {},
     "output_type": "execute_result"
    }
   ],
   "source": [
    "competition_urls[0]"
   ]
  },
  {
   "cell_type": "code",
   "execution_count": 111,
   "metadata": {},
   "outputs": [
    {
     "name": "stdout",
     "output_type": "stream",
     "text": [
      "<generator object _chain_from_iterable_of_lists at 0x00000230CF852CF0>\n"
     ]
    }
   ],
   "source": [
    "print(blue)"
   ]
  },
  {
   "cell_type": "code",
   "execution_count": 112,
   "metadata": {},
   "outputs": [
    {
     "name": "stdout",
     "output_type": "stream",
     "text": [
      "<generator object Executor.map.<locals>.result_iterator at 0x00000230CF8539A8>\n"
     ]
    }
   ],
   "source": [
    "print(green)"
   ]
  },
  {
   "cell_type": "code",
   "execution_count": 109,
   "metadata": {},
   "outputs": [
    {
     "data": {
      "text/plain": [
       "<generator object _chain_from_iterable_of_lists at 0x00000230D08CEB10>"
      ]
     },
     "execution_count": 109,
     "metadata": {},
     "output_type": "execute_result"
    }
   ],
   "source": [
    "yellow"
   ]
  },
  {
   "cell_type": "code",
   "execution_count": 116,
   "metadata": {},
   "outputs": [
    {
     "ename": "AttributeError",
     "evalue": "'generator' object has no attribute 'result'",
     "output_type": "error",
     "traceback": [
      "\u001b[1;31m---------------------------------------------------------------------------\u001b[0m",
      "\u001b[1;31mAttributeError\u001b[0m                            Traceback (most recent call last)",
      "\u001b[1;32m<ipython-input-116-28919712022f>\u001b[0m in \u001b[0;36m<module>\u001b[1;34m\u001b[0m\n\u001b[1;32m----> 1\u001b[1;33m \u001b[0mred\u001b[0m\u001b[1;33m.\u001b[0m\u001b[0mresult\u001b[0m\u001b[1;33m\u001b[0m\u001b[1;33m\u001b[0m\u001b[0m\n\u001b[0m",
      "\u001b[1;31mAttributeError\u001b[0m: 'generator' object has no attribute 'result'"
     ]
    }
   ],
   "source": [
    "red.result"
   ]
  },
  {
   "cell_type": "code",
   "execution_count": 102,
   "metadata": {},
   "outputs": [],
   "source": [
    "with concurrent.futures.ProcessPoolExecutor() as executor:\n",
    "    blue = executor.map(process_urls, competition_urls)"
   ]
  },
  {
   "cell_type": "code",
   "execution_count": 103,
   "metadata": {},
   "outputs": [],
   "source": [
    "with concurrent.futures.ThreadPoolExecutor() as executor:\n",
    "    green = executor.map(process_urls, competition_urls)"
   ]
  },
  {
   "cell_type": "code",
   "execution_count": 104,
   "metadata": {},
   "outputs": [],
   "source": [
    "with concurrent.futures.ProcessPoolExecutor() as executor:\n",
    "    yellow = executor.map(process_urls, competition_urls)"
   ]
  },
  {
   "cell_type": "code",
   "execution_count": 105,
   "metadata": {},
   "outputs": [],
   "source": [
    "with concurrent.futures.ThreadPoolExecutor() as executor:\n",
    "    red = executor.map(process_urls, competition_urls)"
   ]
  },
  {
   "cell_type": "code",
   "execution_count": 89,
   "metadata": {},
   "outputs": [
    {
     "data": {
      "text/plain": [
       "[<generator object _chain_from_iterable_of_lists at 0x00000230D092ECF0>]"
      ]
     },
     "execution_count": 89,
     "metadata": {},
     "output_type": "execute_result"
    }
   ],
   "source": [
    "phoebe"
   ]
  },
  {
   "cell_type": "code",
   "execution_count": 95,
   "metadata": {},
   "outputs": [
    {
     "name": "stdout",
     "output_type": "stream",
     "text": [
      "Fininshed in 0.0 second(s)\n"
     ]
    }
   ],
   "source": [
    "start = time.perf_counter()\n",
    "leslie = []\n",
    "with concurrent.futures.ProcessPoolExecutor() as executor:\n",
    "    for elem in competition_urls:\n",
    "        gloria = process_urls(elem)\n",
    "        leslie.append(elem)\n",
    "\n",
    "finish = time.perf_counter()\n",
    "print(f\"Fininshed in {round(finish-start, 2)} second(s)\")"
   ]
  },
  {
   "cell_type": "code",
   "execution_count": 120,
   "metadata": {},
   "outputs": [
    {
     "name": "stdout",
     "output_type": "stream",
     "text": [
      "Fininshed in 407.87 second(s)\n"
     ]
    }
   ],
   "source": [
    "start = time.perf_counter()\n",
    "burgandy = []\n",
    "with concurrent.futures.ProcessPoolExecutor() as executor:\n",
    "    for elem in competition_urls:\n",
    "        gold = process_urls(elem)\n",
    "        burgandy.append(elem)\n",
    "\n",
    "finish = time.perf_counter()\n",
    "print(f\"Fininshed in {round(finish-start, 2)} second(s)\")"
   ]
  },
  {
   "cell_type": "code",
   "execution_count": 121,
   "metadata": {},
   "outputs": [
    {
     "name": "stdout",
     "output_type": "stream",
     "text": [
      "Fininshed in 407.59 second(s)\n"
     ]
    }
   ],
   "source": [
    "start = time.perf_counter()\n",
    "black = []\n",
    "with concurrent.futures.ThreadPoolExecutor() as executor:\n",
    "    for elem in competition_urls:\n",
    "        beige = process_urls(elem)\n",
    "        black.append(elem)\n",
    "\n",
    "finish = time.perf_counter()\n",
    "print(f\"Fininshed in {round(finish-start, 2)} second(s)\")"
   ]
  },
  {
   "cell_type": "code",
   "execution_count": 98,
   "metadata": {},
   "outputs": [
    {
     "name": "stdout",
     "output_type": "stream",
     "text": [
      "Fininshed in 407.16 second(s)\n"
     ]
    }
   ],
   "source": [
    "start = time.perf_counter()\n",
    "\n",
    "phoebe = []\n",
    "with concurrent.futures.ProcessPoolExecutor() as executor:\n",
    "    for elem in competition_urls:\n",
    "        jelly = process_urls(elem)\n",
    "        phoebe.append(elem)\n",
    "phoebe\n",
    "\n",
    "finish = time.perf_counter()\n",
    "print(f\"Fininshed in {round(finish-start, 2)} second(s)\")"
   ]
  },
  {
   "cell_type": "code",
   "execution_count": 122,
   "metadata": {},
   "outputs": [
    {
     "data": {
      "text/plain": [
       "['https://en.wikipedia.org/wiki/1996_World_Weightlifting_Championships',\n",
       " 'https://en.wikipedia.org/wiki/1997_World_Weightlifting_Championships',\n",
       " 'https://en.wikipedia.org/wiki/1998_World_Weightlifting_Championships',\n",
       " 'https://en.wikipedia.org/wiki/1999_World_Weightlifting_Championships',\n",
       " 'https://en.wikipedia.org/wiki/2001_World_Weightlifting_Championships',\n",
       " 'https://en.wikipedia.org/wiki/2002_World_Weightlifting_Championships',\n",
       " 'https://en.wikipedia.org/wiki/2003_World_Weightlifting_Championships',\n",
       " 'https://en.wikipedia.org/wiki/2005_World_Weightlifting_Championships',\n",
       " 'https://en.wikipedia.org/wiki/2006_World_Weightlifting_Championships',\n",
       " 'https://en.wikipedia.org/wiki/2007_World_Weightlifting_Championships',\n",
       " 'https://en.wikipedia.org/wiki/2009_World_Weightlifting_Championships',\n",
       " 'https://en.wikipedia.org/wiki/2010_World_Weightlifting_Championships',\n",
       " 'https://en.wikipedia.org/wiki/2011_World_Weightlifting_Championships',\n",
       " 'https://en.wikipedia.org/wiki/2013_World_Weightlifting_Championships',\n",
       " 'https://en.wikipedia.org/wiki/2014_World_Weightlifting_Championships',\n",
       " 'https://en.wikipedia.org/wiki/2015_World_Weightlifting_Championships',\n",
       " 'https://en.wikipedia.org/wiki/2017_World_Weightlifting_Championships',\n",
       " 'https://en.wikipedia.org/wiki/2018_World_Weightlifting_Championships',\n",
       " 'https://en.wikipedia.org/wiki/2019_World_Weightlifting_Championships']"
      ]
     },
     "execution_count": 122,
     "metadata": {},
     "output_type": "execute_result"
    }
   ],
   "source": [
    "black"
   ]
  },
  {
   "cell_type": "code",
   "execution_count": 123,
   "metadata": {},
   "outputs": [
    {
     "data": {
      "text/plain": [
       "['https://en.wikipedia.org/wiki/1996_World_Weightlifting_Championships',\n",
       " 'https://en.wikipedia.org/wiki/1997_World_Weightlifting_Championships',\n",
       " 'https://en.wikipedia.org/wiki/1998_World_Weightlifting_Championships',\n",
       " 'https://en.wikipedia.org/wiki/1999_World_Weightlifting_Championships',\n",
       " 'https://en.wikipedia.org/wiki/2001_World_Weightlifting_Championships',\n",
       " 'https://en.wikipedia.org/wiki/2002_World_Weightlifting_Championships',\n",
       " 'https://en.wikipedia.org/wiki/2003_World_Weightlifting_Championships',\n",
       " 'https://en.wikipedia.org/wiki/2005_World_Weightlifting_Championships',\n",
       " 'https://en.wikipedia.org/wiki/2006_World_Weightlifting_Championships',\n",
       " 'https://en.wikipedia.org/wiki/2007_World_Weightlifting_Championships',\n",
       " 'https://en.wikipedia.org/wiki/2009_World_Weightlifting_Championships',\n",
       " 'https://en.wikipedia.org/wiki/2010_World_Weightlifting_Championships',\n",
       " 'https://en.wikipedia.org/wiki/2011_World_Weightlifting_Championships',\n",
       " 'https://en.wikipedia.org/wiki/2013_World_Weightlifting_Championships',\n",
       " 'https://en.wikipedia.org/wiki/2014_World_Weightlifting_Championships',\n",
       " 'https://en.wikipedia.org/wiki/2015_World_Weightlifting_Championships',\n",
       " 'https://en.wikipedia.org/wiki/2017_World_Weightlifting_Championships',\n",
       " 'https://en.wikipedia.org/wiki/2018_World_Weightlifting_Championships',\n",
       " 'https://en.wikipedia.org/wiki/2019_World_Weightlifting_Championships']"
      ]
     },
     "execution_count": 123,
     "metadata": {},
     "output_type": "execute_result"
    }
   ],
   "source": [
    "burgandy"
   ]
  },
  {
   "cell_type": "code",
   "execution_count": 113,
   "metadata": {
    "collapsed": true
   },
   "outputs": [
    {
     "data": {
      "text/plain": [
       "['https://en.wikipedia.org/wiki/1996_World_Weightlifting_Championships',\n",
       " 'https://en.wikipedia.org/wiki/1997_World_Weightlifting_Championships',\n",
       " 'https://en.wikipedia.org/wiki/1998_World_Weightlifting_Championships',\n",
       " 'https://en.wikipedia.org/wiki/1999_World_Weightlifting_Championships',\n",
       " 'https://en.wikipedia.org/wiki/2001_World_Weightlifting_Championships',\n",
       " 'https://en.wikipedia.org/wiki/2002_World_Weightlifting_Championships',\n",
       " 'https://en.wikipedia.org/wiki/2003_World_Weightlifting_Championships',\n",
       " 'https://en.wikipedia.org/wiki/2005_World_Weightlifting_Championships',\n",
       " 'https://en.wikipedia.org/wiki/2006_World_Weightlifting_Championships',\n",
       " 'https://en.wikipedia.org/wiki/2007_World_Weightlifting_Championships',\n",
       " 'https://en.wikipedia.org/wiki/2009_World_Weightlifting_Championships',\n",
       " 'https://en.wikipedia.org/wiki/2010_World_Weightlifting_Championships',\n",
       " 'https://en.wikipedia.org/wiki/1996_World_Weightlifting_Championships',\n",
       " 'https://en.wikipedia.org/wiki/1997_World_Weightlifting_Championships',\n",
       " 'https://en.wikipedia.org/wiki/1998_World_Weightlifting_Championships',\n",
       " 'https://en.wikipedia.org/wiki/1999_World_Weightlifting_Championships',\n",
       " 'https://en.wikipedia.org/wiki/2001_World_Weightlifting_Championships',\n",
       " 'https://en.wikipedia.org/wiki/2002_World_Weightlifting_Championships',\n",
       " 'https://en.wikipedia.org/wiki/2003_World_Weightlifting_Championships',\n",
       " 'https://en.wikipedia.org/wiki/2005_World_Weightlifting_Championships',\n",
       " 'https://en.wikipedia.org/wiki/2006_World_Weightlifting_Championships',\n",
       " 'https://en.wikipedia.org/wiki/2007_World_Weightlifting_Championships',\n",
       " 'https://en.wikipedia.org/wiki/2009_World_Weightlifting_Championships',\n",
       " 'https://en.wikipedia.org/wiki/2010_World_Weightlifting_Championships',\n",
       " 'https://en.wikipedia.org/wiki/2011_World_Weightlifting_Championships',\n",
       " 'https://en.wikipedia.org/wiki/2013_World_Weightlifting_Championships',\n",
       " 'https://en.wikipedia.org/wiki/2014_World_Weightlifting_Championships',\n",
       " 'https://en.wikipedia.org/wiki/2015_World_Weightlifting_Championships',\n",
       " 'https://en.wikipedia.org/wiki/2017_World_Weightlifting_Championships',\n",
       " 'https://en.wikipedia.org/wiki/2018_World_Weightlifting_Championships',\n",
       " 'https://en.wikipedia.org/wiki/2019_World_Weightlifting_Championships']"
      ]
     },
     "execution_count": 113,
     "metadata": {},
     "output_type": "execute_result"
    }
   ],
   "source": [
    "phoebe"
   ]
  },
  {
   "cell_type": "code",
   "execution_count": 114,
   "metadata": {
    "collapsed": true
   },
   "outputs": [
    {
     "data": {
      "text/plain": [
       "['https://en.wikipedia.org/wiki/1996_World_Weightlifting_Championships',\n",
       " 'https://en.wikipedia.org/wiki/1997_World_Weightlifting_Championships',\n",
       " 'https://en.wikipedia.org/wiki/1998_World_Weightlifting_Championships',\n",
       " 'https://en.wikipedia.org/wiki/1999_World_Weightlifting_Championships',\n",
       " 'https://en.wikipedia.org/wiki/2001_World_Weightlifting_Championships',\n",
       " 'https://en.wikipedia.org/wiki/2002_World_Weightlifting_Championships',\n",
       " 'https://en.wikipedia.org/wiki/2003_World_Weightlifting_Championships',\n",
       " 'https://en.wikipedia.org/wiki/2005_World_Weightlifting_Championships',\n",
       " 'https://en.wikipedia.org/wiki/2006_World_Weightlifting_Championships',\n",
       " 'https://en.wikipedia.org/wiki/2007_World_Weightlifting_Championships',\n",
       " 'https://en.wikipedia.org/wiki/2009_World_Weightlifting_Championships',\n",
       " 'https://en.wikipedia.org/wiki/2010_World_Weightlifting_Championships',\n",
       " 'https://en.wikipedia.org/wiki/2011_World_Weightlifting_Championships',\n",
       " 'https://en.wikipedia.org/wiki/2013_World_Weightlifting_Championships',\n",
       " 'https://en.wikipedia.org/wiki/2014_World_Weightlifting_Championships',\n",
       " 'https://en.wikipedia.org/wiki/2015_World_Weightlifting_Championships',\n",
       " 'https://en.wikipedia.org/wiki/2017_World_Weightlifting_Championships',\n",
       " 'https://en.wikipedia.org/wiki/2018_World_Weightlifting_Championships',\n",
       " 'https://en.wikipedia.org/wiki/2019_World_Weightlifting_Championships']"
      ]
     },
     "execution_count": 114,
     "metadata": {},
     "output_type": "execute_result"
    }
   ],
   "source": [
    "leslie"
   ]
  },
  {
   "cell_type": "code",
   "execution_count": 118,
   "metadata": {},
   "outputs": [
    {
     "name": "stdout",
     "output_type": "stream",
     "text": [
      "Fininshed in 408.21 second(s)\n"
     ]
    }
   ],
   "source": [
    "start = time.perf_counter()\n",
    "\n",
    "frida = []\n",
    "with concurrent.futures.ThreadPoolExecutor() as executor:\n",
    "    for elem in competition_urls:\n",
    "        jelly = process_urls(elem)\n",
    "        frida.append(elem)\n",
    "frida\n",
    "\n",
    "finish = time.perf_counter()\n",
    "print(f\"Fininshed in {round(finish-start, 2)} second(s)\")"
   ]
  },
  {
   "cell_type": "code",
   "execution_count": 119,
   "metadata": {},
   "outputs": [
    {
     "data": {
      "text/plain": [
       "['https://en.wikipedia.org/wiki/1996_World_Weightlifting_Championships',\n",
       " 'https://en.wikipedia.org/wiki/1997_World_Weightlifting_Championships',\n",
       " 'https://en.wikipedia.org/wiki/1998_World_Weightlifting_Championships',\n",
       " 'https://en.wikipedia.org/wiki/1999_World_Weightlifting_Championships',\n",
       " 'https://en.wikipedia.org/wiki/2001_World_Weightlifting_Championships',\n",
       " 'https://en.wikipedia.org/wiki/2002_World_Weightlifting_Championships',\n",
       " 'https://en.wikipedia.org/wiki/2003_World_Weightlifting_Championships',\n",
       " 'https://en.wikipedia.org/wiki/2005_World_Weightlifting_Championships',\n",
       " 'https://en.wikipedia.org/wiki/2006_World_Weightlifting_Championships',\n",
       " 'https://en.wikipedia.org/wiki/2007_World_Weightlifting_Championships',\n",
       " 'https://en.wikipedia.org/wiki/2009_World_Weightlifting_Championships',\n",
       " 'https://en.wikipedia.org/wiki/2010_World_Weightlifting_Championships',\n",
       " 'https://en.wikipedia.org/wiki/2011_World_Weightlifting_Championships',\n",
       " 'https://en.wikipedia.org/wiki/2013_World_Weightlifting_Championships',\n",
       " 'https://en.wikipedia.org/wiki/2014_World_Weightlifting_Championships',\n",
       " 'https://en.wikipedia.org/wiki/2015_World_Weightlifting_Championships',\n",
       " 'https://en.wikipedia.org/wiki/2017_World_Weightlifting_Championships',\n",
       " 'https://en.wikipedia.org/wiki/2018_World_Weightlifting_Championships',\n",
       " 'https://en.wikipedia.org/wiki/2019_World_Weightlifting_Championships']"
      ]
     },
     "execution_count": 119,
     "metadata": {},
     "output_type": "execute_result"
    }
   ],
   "source": [
    "frida"
   ]
  },
  {
   "cell_type": "code",
   "execution_count": 85,
   "metadata": {
    "collapsed": true
   },
   "outputs": [
    {
     "data": {
      "text/plain": [
       "[['/wiki/1996_World_Weightlifting_Championships_%E2%80%93_Women%27s_46_kg',\n",
       "  '/wiki/1996_World_Weightlifting_Championships_%E2%80%93_Women%27s_50_kg',\n",
       "  '/wiki/1996_World_Weightlifting_Championships_%E2%80%93_Women%27s_54_kg',\n",
       "  '/wiki/1996_World_Weightlifting_Championships_%E2%80%93_Women%27s_59_kg',\n",
       "  '/wiki/1996_World_Weightlifting_Championships_%E2%80%93_Women%27s_64_kg',\n",
       "  '/wiki/1996_World_Weightlifting_Championships_%E2%80%93_Women%27s_70_kg',\n",
       "  '/wiki/1996_World_Weightlifting_Championships_%E2%80%93_Women%27s_76_kg',\n",
       "  '/wiki/1996_World_Weightlifting_Championships_%E2%80%93_Women%27s_83_kg',\n",
       "  '/wiki/1996_World_Weightlifting_Championships_%E2%80%93_Women%27s_%2B83_kg'],\n",
       " ['/wiki/1997_World_Weightlifting_Championships_%E2%80%93_Men%27s_54_kg',\n",
       "  '/wiki/1997_World_Weightlifting_Championships_%E2%80%93_Men%27s_59_kg',\n",
       "  '/wiki/1997_World_Weightlifting_Championships_%E2%80%93_Men%27s_64_kg',\n",
       "  '/wiki/1997_World_Weightlifting_Championships_%E2%80%93_Men%27s_70_kg',\n",
       "  '/wiki/1997_World_Weightlifting_Championships_%E2%80%93_Men%27s_76_kg',\n",
       "  '/wiki/1997_World_Weightlifting_Championships_%E2%80%93_Men%27s_83_kg',\n",
       "  '/wiki/1997_World_Weightlifting_Championships_%E2%80%93_Men%27s_91_kg',\n",
       "  '/wiki/1997_World_Weightlifting_Championships_%E2%80%93_Men%27s_99_kg',\n",
       "  '/wiki/1997_World_Weightlifting_Championships_%E2%80%93_Men%27s_108_kg',\n",
       "  '/wiki/1997_World_Weightlifting_Championships_%E2%80%93_Men%27s_%2B108_kg',\n",
       "  '/wiki/1997_World_Weightlifting_Championships_%E2%80%93_Women%27s_46_kg',\n",
       "  '/wiki/1997_World_Weightlifting_Championships_%E2%80%93_Women%27s_50_kg',\n",
       "  '/wiki/1997_World_Weightlifting_Championships_%E2%80%93_Women%27s_54_kg',\n",
       "  '/wiki/1997_World_Weightlifting_Championships_%E2%80%93_Women%27s_59_kg',\n",
       "  '/wiki/1997_World_Weightlifting_Championships_%E2%80%93_Women%27s_64_kg',\n",
       "  '/wiki/1997_World_Weightlifting_Championships_%E2%80%93_Women%27s_70_kg',\n",
       "  '/wiki/1997_World_Weightlifting_Championships_%E2%80%93_Women%27s_76_kg',\n",
       "  '/wiki/1997_World_Weightlifting_Championships_%E2%80%93_Women%27s_83_kg',\n",
       "  '/wiki/1997_World_Weightlifting_Championships_%E2%80%93_Women%27s_%2B83_kg'],\n",
       " ['/wiki/1998_World_Weightlifting_Championships_%E2%80%93_Men%27s_56_kg',\n",
       "  '/wiki/1998_World_Weightlifting_Championships_%E2%80%93_Men%27s_62_kg',\n",
       "  '/wiki/1998_World_Weightlifting_Championships_%E2%80%93_Men%27s_69_kg',\n",
       "  '/wiki/1998_World_Weightlifting_Championships_%E2%80%93_Men%27s_77_kg',\n",
       "  '/wiki/1998_World_Weightlifting_Championships_%E2%80%93_Men%27s_85_kg',\n",
       "  '/wiki/1998_World_Weightlifting_Championships_%E2%80%93_Men%27s_94_kg',\n",
       "  '/wiki/1998_World_Weightlifting_Championships_%E2%80%93_Men%27s_105_kg',\n",
       "  '/wiki/1998_World_Weightlifting_Championships_%E2%80%93_Men%27s_%2B105_kg',\n",
       "  '/wiki/1998_World_Weightlifting_Championships_%E2%80%93_Women%27s_48_kg',\n",
       "  '/wiki/1998_World_Weightlifting_Championships_%E2%80%93_Women%27s_53_kg',\n",
       "  '/wiki/1998_World_Weightlifting_Championships_%E2%80%93_Women%27s_58_kg',\n",
       "  '/wiki/1998_World_Weightlifting_Championships_%E2%80%93_Women%27s_63_kg',\n",
       "  '/wiki/1998_World_Weightlifting_Championships_%E2%80%93_Women%27s_69_kg',\n",
       "  '/wiki/1998_World_Weightlifting_Championships_%E2%80%93_Women%27s_75_kg',\n",
       "  '/wiki/1998_World_Weightlifting_Championships_%E2%80%93_Women%27s_%2B75_kg'],\n",
       " ['/wiki/1999_World_Weightlifting_Championships_%E2%80%93_Men%27s_56_kg',\n",
       "  '/wiki/1999_World_Weightlifting_Championships_%E2%80%93_Men%27s_62_kg',\n",
       "  '/wiki/1999_World_Weightlifting_Championships_%E2%80%93_Men%27s_69_kg',\n",
       "  '/wiki/1999_World_Weightlifting_Championships_%E2%80%93_Men%27s_77_kg',\n",
       "  '/wiki/1999_World_Weightlifting_Championships_%E2%80%93_Men%27s_85_kg',\n",
       "  '/wiki/1999_World_Weightlifting_Championships_%E2%80%93_Men%27s_94_kg',\n",
       "  '/wiki/1999_World_Weightlifting_Championships_%E2%80%93_Men%27s_105_kg',\n",
       "  '/wiki/1999_World_Weightlifting_Championships_%E2%80%93_Men%27s_%2B105_kg',\n",
       "  '/wiki/1999_World_Weightlifting_Championships_%E2%80%93_Women%27s_48_kg',\n",
       "  '/wiki/1999_World_Weightlifting_Championships_%E2%80%93_Women%27s_53_kg',\n",
       "  '/wiki/1999_World_Weightlifting_Championships_%E2%80%93_Women%27s_58_kg',\n",
       "  '/wiki/1999_World_Weightlifting_Championships_%E2%80%93_Women%27s_63_kg',\n",
       "  '/wiki/1999_World_Weightlifting_Championships_%E2%80%93_Women%27s_69_kg',\n",
       "  '/wiki/1999_World_Weightlifting_Championships_%E2%80%93_Women%27s_75_kg',\n",
       "  '/wiki/1999_World_Weightlifting_Championships_%E2%80%93_Women%27s_%2B75_kg'],\n",
       " ['/wiki/2001_World_Weightlifting_Championships_%E2%80%93_Men%27s_56_kg',\n",
       "  '/wiki/2001_World_Weightlifting_Championships_%E2%80%93_Men%27s_62_kg',\n",
       "  '/wiki/2001_World_Weightlifting_Championships_%E2%80%93_Men%27s_69_kg',\n",
       "  '/wiki/2001_World_Weightlifting_Championships_%E2%80%93_Men%27s_77_kg',\n",
       "  '/wiki/2001_World_Weightlifting_Championships_%E2%80%93_Men%27s_85_kg',\n",
       "  '/wiki/2001_World_Weightlifting_Championships_%E2%80%93_Men%27s_94_kg',\n",
       "  '/wiki/2001_World_Weightlifting_Championships_%E2%80%93_Men%27s_105_kg',\n",
       "  '/wiki/2001_World_Weightlifting_Championships_%E2%80%93_Men%27s_%2B105_kg',\n",
       "  '/wiki/2001_World_Weightlifting_Championships_%E2%80%93_Women%27s_48_kg',\n",
       "  '/wiki/2001_World_Weightlifting_Championships_%E2%80%93_Women%27s_53_kg',\n",
       "  '/wiki/2001_World_Weightlifting_Championships_%E2%80%93_Women%27s_58_kg',\n",
       "  '/wiki/2001_World_Weightlifting_Championships_%E2%80%93_Women%27s_63_kg',\n",
       "  '/wiki/2001_World_Weightlifting_Championships_%E2%80%93_Women%27s_69_kg',\n",
       "  '/wiki/2001_World_Weightlifting_Championships_%E2%80%93_Women%27s_75_kg',\n",
       "  '/wiki/2001_World_Weightlifting_Championships_%E2%80%93_Women%27s_%2B75_kg'],\n",
       " ['/wiki/2002_World_Weightlifting_Championships_%E2%80%93_Men%27s_56_kg',\n",
       "  '/wiki/2002_World_Weightlifting_Championships_%E2%80%93_Men%27s_62_kg',\n",
       "  '/wiki/2002_World_Weightlifting_Championships_%E2%80%93_Men%27s_69_kg',\n",
       "  '/wiki/2002_World_Weightlifting_Championships_%E2%80%93_Men%27s_77_kg',\n",
       "  '/wiki/2002_World_Weightlifting_Championships_%E2%80%93_Men%27s_85_kg',\n",
       "  '/wiki/2002_World_Weightlifting_Championships_%E2%80%93_Men%27s_94_kg',\n",
       "  '/wiki/2002_World_Weightlifting_Championships_%E2%80%93_Men%27s_105_kg',\n",
       "  '/wiki/2002_World_Weightlifting_Championships_%E2%80%93_Men%27s_%2B105_kg',\n",
       "  '/wiki/2002_World_Weightlifting_Championships_%E2%80%93_Women%27s_48_kg',\n",
       "  '/wiki/2002_World_Weightlifting_Championships_%E2%80%93_Women%27s_53_kg',\n",
       "  '/wiki/2002_World_Weightlifting_Championships_%E2%80%93_Women%27s_58_kg',\n",
       "  '/wiki/2002_World_Weightlifting_Championships_%E2%80%93_Women%27s_63_kg',\n",
       "  '/wiki/2002_World_Weightlifting_Championships_%E2%80%93_Women%27s_69_kg',\n",
       "  '/wiki/2002_World_Weightlifting_Championships_%E2%80%93_Women%27s_75_kg',\n",
       "  '/wiki/2002_World_Weightlifting_Championships_%E2%80%93_Women%27s_%2B75_kg'],\n",
       " ['/wiki/2003_World_Weightlifting_Championships_%E2%80%93_Men%27s_56_kg',\n",
       "  '/wiki/2003_World_Weightlifting_Championships_%E2%80%93_Men%27s_62_kg',\n",
       "  '/wiki/2003_World_Weightlifting_Championships_%E2%80%93_Men%27s_69_kg',\n",
       "  '/wiki/2003_World_Weightlifting_Championships_%E2%80%93_Men%27s_77_kg',\n",
       "  '/wiki/2003_World_Weightlifting_Championships_%E2%80%93_Men%27s_85_kg',\n",
       "  '/wiki/2003_World_Weightlifting_Championships_%E2%80%93_Men%27s_94_kg',\n",
       "  '/wiki/2003_World_Weightlifting_Championships_%E2%80%93_Men%27s_105_kg',\n",
       "  '/wiki/2003_World_Weightlifting_Championships_%E2%80%93_Men%27s_%2B105_kg',\n",
       "  '/wiki/2003_World_Weightlifting_Championships_%E2%80%93_Women%27s_48_kg',\n",
       "  '/wiki/2003_World_Weightlifting_Championships_%E2%80%93_Women%27s_53_kg',\n",
       "  '/wiki/2003_World_Weightlifting_Championships_%E2%80%93_Women%27s_58_kg',\n",
       "  '/wiki/2003_World_Weightlifting_Championships_%E2%80%93_Women%27s_63_kg',\n",
       "  '/wiki/2003_World_Weightlifting_Championships_%E2%80%93_Women%27s_69_kg',\n",
       "  '/wiki/2003_World_Weightlifting_Championships_%E2%80%93_Women%27s_75_kg',\n",
       "  '/wiki/2003_World_Weightlifting_Championships_%E2%80%93_Women%27s_%2B75_kg'],\n",
       " ['/wiki/2005_World_Weightlifting_Championships_%E2%80%93_Men%27s_56_kg',\n",
       "  '/wiki/2005_World_Weightlifting_Championships_%E2%80%93_Men%27s_62_kg',\n",
       "  '/wiki/2005_World_Weightlifting_Championships_%E2%80%93_Men%27s_69_kg',\n",
       "  '/wiki/2005_World_Weightlifting_Championships_%E2%80%93_Men%27s_77_kg',\n",
       "  '/wiki/2005_World_Weightlifting_Championships_%E2%80%93_Men%27s_85_kg',\n",
       "  '/wiki/2005_World_Weightlifting_Championships_%E2%80%93_Men%27s_94_kg',\n",
       "  '/wiki/2005_World_Weightlifting_Championships_%E2%80%93_Men%27s_105_kg',\n",
       "  '/wiki/2005_World_Weightlifting_Championships_%E2%80%93_Men%27s_%2B105_kg',\n",
       "  '/wiki/2005_World_Weightlifting_Championships_%E2%80%93_Women%27s_48_kg',\n",
       "  '/wiki/2005_World_Weightlifting_Championships_%E2%80%93_Women%27s_53_kg',\n",
       "  '/wiki/2005_World_Weightlifting_Championships_%E2%80%93_Women%27s_58_kg',\n",
       "  '/wiki/2005_World_Weightlifting_Championships_%E2%80%93_Women%27s_63_kg',\n",
       "  '/wiki/2005_World_Weightlifting_Championships_%E2%80%93_Women%27s_69_kg',\n",
       "  '/wiki/2005_World_Weightlifting_Championships_%E2%80%93_Women%27s_75_kg',\n",
       "  '/wiki/2005_World_Weightlifting_Championships_%E2%80%93_Women%27s_%2B75_kg'],\n",
       " ['/wiki/2006_World_Weightlifting_Championships_%E2%80%93_Men%27s_56_kg',\n",
       "  '/wiki/2006_World_Weightlifting_Championships_%E2%80%93_Men%27s_62_kg',\n",
       "  '/wiki/2006_World_Weightlifting_Championships_%E2%80%93_Men%27s_69_kg',\n",
       "  '/wiki/2006_World_Weightlifting_Championships_%E2%80%93_Men%27s_77_kg',\n",
       "  '/wiki/2006_World_Weightlifting_Championships_%E2%80%93_Men%27s_85_kg',\n",
       "  '/wiki/2006_World_Weightlifting_Championships_%E2%80%93_Men%27s_94_kg',\n",
       "  '/wiki/2006_World_Weightlifting_Championships_%E2%80%93_Men%27s_105_kg',\n",
       "  '/wiki/2006_World_Weightlifting_Championships_%E2%80%93_Men%27s_%2B105_kg',\n",
       "  '/wiki/2006_World_Weightlifting_Championships_%E2%80%93_Women%27s_48_kg',\n",
       "  '/wiki/2006_World_Weightlifting_Championships_%E2%80%93_Women%27s_53_kg',\n",
       "  '/wiki/2006_World_Weightlifting_Championships_%E2%80%93_Women%27s_58_kg',\n",
       "  '/wiki/2006_World_Weightlifting_Championships_%E2%80%93_Women%27s_63_kg',\n",
       "  '/wiki/2006_World_Weightlifting_Championships_%E2%80%93_Women%27s_69_kg',\n",
       "  '/wiki/2006_World_Weightlifting_Championships_%E2%80%93_Women%27s_75_kg',\n",
       "  '/wiki/2006_World_Weightlifting_Championships_%E2%80%93_Women%27s_%2B75_kg'],\n",
       " ['/wiki/2007_World_Weightlifting_Championships_%E2%80%93_Men%27s_56_kg',\n",
       "  '/wiki/2007_World_Weightlifting_Championships_%E2%80%93_Men%27s_62_kg',\n",
       "  '/wiki/2007_World_Weightlifting_Championships_%E2%80%93_Men%27s_69_kg',\n",
       "  '/wiki/2007_World_Weightlifting_Championships_%E2%80%93_Men%27s_77_kg',\n",
       "  '/wiki/2007_World_Weightlifting_Championships_%E2%80%93_Men%27s_85_kg',\n",
       "  '/wiki/2007_World_Weightlifting_Championships_%E2%80%93_Men%27s_94_kg',\n",
       "  '/wiki/2007_World_Weightlifting_Championships_%E2%80%93_Men%27s_105_kg',\n",
       "  '/wiki/2007_World_Weightlifting_Championships_%E2%80%93_Men%27s_%2B105_kg',\n",
       "  '/wiki/2007_World_Weightlifting_Championships_%E2%80%93_Women%27s_48_kg',\n",
       "  '/wiki/2007_World_Weightlifting_Championships_%E2%80%93_Women%27s_53_kg',\n",
       "  '/wiki/2007_World_Weightlifting_Championships_%E2%80%93_Women%27s_58_kg',\n",
       "  '/wiki/2007_World_Weightlifting_Championships_%E2%80%93_Women%27s_63_kg',\n",
       "  '/wiki/2007_World_Weightlifting_Championships_%E2%80%93_Women%27s_69_kg',\n",
       "  '/wiki/2007_World_Weightlifting_Championships_%E2%80%93_Women%27s_75_kg',\n",
       "  '/wiki/2007_World_Weightlifting_Championships_%E2%80%93_Women%27s_%2B75_kg'],\n",
       " ['/wiki/2009_World_Weightlifting_Championships_%E2%80%93_Men%27s_56_kg',\n",
       "  '/wiki/2009_World_Weightlifting_Championships_%E2%80%93_Men%27s_62_kg',\n",
       "  '/wiki/2009_World_Weightlifting_Championships_%E2%80%93_Men%27s_69_kg',\n",
       "  '/wiki/2009_World_Weightlifting_Championships_%E2%80%93_Men%27s_77_kg',\n",
       "  '/wiki/2009_World_Weightlifting_Championships_%E2%80%93_Men%27s_85_kg',\n",
       "  '/wiki/2009_World_Weightlifting_Championships_%E2%80%93_Men%27s_94_kg',\n",
       "  '/wiki/2009_World_Weightlifting_Championships_%E2%80%93_Men%27s_105_kg',\n",
       "  '/wiki/2009_World_Weightlifting_Championships_%E2%80%93_Men%27s_%2B105_kg',\n",
       "  '/wiki/2009_World_Weightlifting_Championships_%E2%80%93_Women%27s_48_kg',\n",
       "  '/wiki/2009_World_Weightlifting_Championships_%E2%80%93_Women%27s_53_kg',\n",
       "  '/wiki/2009_World_Weightlifting_Championships_%E2%80%93_Women%27s_58_kg',\n",
       "  '/wiki/2009_World_Weightlifting_Championships_%E2%80%93_Women%27s_63_kg',\n",
       "  '/wiki/2009_World_Weightlifting_Championships_%E2%80%93_Women%27s_69_kg',\n",
       "  '/wiki/2009_World_Weightlifting_Championships_%E2%80%93_Women%27s_75_kg',\n",
       "  '/wiki/2009_World_Weightlifting_Championships_%E2%80%93_Women%27s_%2B75_kg'],\n",
       " ['/wiki/2010_World_Weightlifting_Championships_%E2%80%93_Men%27s_56_kg',\n",
       "  '/wiki/2010_World_Weightlifting_Championships_%E2%80%93_Men%27s_62_kg',\n",
       "  '/wiki/2010_World_Weightlifting_Championships_%E2%80%93_Men%27s_69_kg',\n",
       "  '/wiki/2010_World_Weightlifting_Championships_%E2%80%93_Men%27s_77_kg',\n",
       "  '/wiki/2010_World_Weightlifting_Championships_%E2%80%93_Men%27s_85_kg',\n",
       "  '/wiki/2010_World_Weightlifting_Championships_%E2%80%93_Men%27s_94_kg',\n",
       "  '/wiki/2010_World_Weightlifting_Championships_%E2%80%93_Men%27s_105_kg',\n",
       "  '/wiki/2010_World_Weightlifting_Championships_%E2%80%93_Men%27s_%2B105_kg',\n",
       "  '/wiki/2010_World_Weightlifting_Championships_%E2%80%93_Women%27s_48_kg',\n",
       "  '/wiki/2010_World_Weightlifting_Championships_%E2%80%93_Women%27s_53_kg',\n",
       "  '/wiki/2010_World_Weightlifting_Championships_%E2%80%93_Women%27s_58_kg',\n",
       "  '/wiki/2010_World_Weightlifting_Championships_%E2%80%93_Women%27s_63_kg',\n",
       "  '/wiki/2010_World_Weightlifting_Championships_%E2%80%93_Women%27s_69_kg',\n",
       "  '/wiki/2010_World_Weightlifting_Championships_%E2%80%93_Women%27s_75_kg',\n",
       "  '/wiki/2010_World_Weightlifting_Championships_%E2%80%93_Women%27s_%2B75_kg'],\n",
       " ['/wiki/2011_World_Weightlifting_Championships_%E2%80%93_Men%27s_56_kg',\n",
       "  '/wiki/2011_World_Weightlifting_Championships_%E2%80%93_Men%27s_62_kg',\n",
       "  '/wiki/2011_World_Weightlifting_Championships_%E2%80%93_Men%27s_69_kg',\n",
       "  '/wiki/2011_World_Weightlifting_Championships_%E2%80%93_Men%27s_77_kg',\n",
       "  '/wiki/2011_World_Weightlifting_Championships_%E2%80%93_Men%27s_85_kg',\n",
       "  '/wiki/2011_World_Weightlifting_Championships_%E2%80%93_Men%27s_94_kg',\n",
       "  '/wiki/2011_World_Weightlifting_Championships_%E2%80%93_Men%27s_105_kg',\n",
       "  '/wiki/2011_World_Weightlifting_Championships_%E2%80%93_Men%27s_%2B105_kg',\n",
       "  '/wiki/2011_World_Weightlifting_Championships_%E2%80%93_Women%27s_48_kg',\n",
       "  '/wiki/2011_World_Weightlifting_Championships_%E2%80%93_Women%27s_53_kg',\n",
       "  '/wiki/2011_World_Weightlifting_Championships_%E2%80%93_Women%27s_58_kg',\n",
       "  '/wiki/2011_World_Weightlifting_Championships_%E2%80%93_Women%27s_63_kg',\n",
       "  '/wiki/2011_World_Weightlifting_Championships_%E2%80%93_Women%27s_69_kg',\n",
       "  '/wiki/2011_World_Weightlifting_Championships_%E2%80%93_Women%27s_75_kg',\n",
       "  '/wiki/2011_World_Weightlifting_Championships_%E2%80%93_Women%27s_%2B75_kg'],\n",
       " ['/wiki/2013_World_Weightlifting_Championships_%E2%80%93_Men%27s_56_kg',\n",
       "  '/wiki/2013_World_Weightlifting_Championships_%E2%80%93_Men%27s_62_kg',\n",
       "  '/wiki/2013_World_Weightlifting_Championships_%E2%80%93_Men%27s_69_kg',\n",
       "  '/wiki/2013_World_Weightlifting_Championships_%E2%80%93_Men%27s_77_kg',\n",
       "  '/wiki/2013_World_Weightlifting_Championships_%E2%80%93_Men%27s_85_kg',\n",
       "  '/wiki/2013_World_Weightlifting_Championships_%E2%80%93_Men%27s_94_kg',\n",
       "  '/wiki/2013_World_Weightlifting_Championships_%E2%80%93_Men%27s_105_kg',\n",
       "  '/wiki/2013_World_Weightlifting_Championships_%E2%80%93_Men%27s_%2B105_kg',\n",
       "  '/wiki/2013_World_Weightlifting_Championships_%E2%80%93_Women%27s_48_kg',\n",
       "  '/wiki/2013_World_Weightlifting_Championships_%E2%80%93_Women%27s_53_kg',\n",
       "  '/wiki/2013_World_Weightlifting_Championships_%E2%80%93_Women%27s_58_kg',\n",
       "  '/wiki/2013_World_Weightlifting_Championships_%E2%80%93_Women%27s_63_kg',\n",
       "  '/wiki/2013_World_Weightlifting_Championships_%E2%80%93_Women%27s_69_kg',\n",
       "  '/wiki/2013_World_Weightlifting_Championships_%E2%80%93_Women%27s_75_kg',\n",
       "  '/wiki/2013_World_Weightlifting_Championships_%E2%80%93_Women%27s_%2B75_kg'],\n",
       " ['/wiki/2014_World_Weightlifting_Championships_%E2%80%93_Men%27s_56_kg',\n",
       "  '/wiki/2014_World_Weightlifting_Championships_%E2%80%93_Men%27s_62_kg',\n",
       "  '/wiki/2014_World_Weightlifting_Championships_%E2%80%93_Men%27s_69_kg',\n",
       "  '/wiki/2014_World_Weightlifting_Championships_%E2%80%93_Men%27s_77_kg',\n",
       "  '/wiki/2014_World_Weightlifting_Championships_%E2%80%93_Men%27s_85_kg',\n",
       "  '/wiki/2014_World_Weightlifting_Championships_%E2%80%93_Men%27s_94_kg',\n",
       "  '/wiki/2014_World_Weightlifting_Championships_%E2%80%93_Men%27s_105_kg',\n",
       "  '/wiki/2014_World_Weightlifting_Championships_%E2%80%93_Men%27s_%2B105_kg',\n",
       "  '/wiki/2014_World_Weightlifting_Championships_%E2%80%93_Women%27s_48_kg',\n",
       "  '/wiki/2014_World_Weightlifting_Championships_%E2%80%93_Women%27s_53_kg',\n",
       "  '/wiki/2014_World_Weightlifting_Championships_%E2%80%93_Women%27s_58_kg',\n",
       "  '/wiki/2014_World_Weightlifting_Championships_%E2%80%93_Women%27s_63_kg',\n",
       "  '/wiki/2014_World_Weightlifting_Championships_%E2%80%93_Women%27s_69_kg',\n",
       "  '/wiki/2014_World_Weightlifting_Championships_%E2%80%93_Women%27s_75_kg',\n",
       "  '/wiki/2014_World_Weightlifting_Championships_%E2%80%93_Women%27s_%2B75_kg'],\n",
       " ['/wiki/2015_World_Weightlifting_Championships_%E2%80%93_Men%27s_56_kg',\n",
       "  '/wiki/2015_World_Weightlifting_Championships_%E2%80%93_Men%27s_62_kg',\n",
       "  '/wiki/2015_World_Weightlifting_Championships_%E2%80%93_Men%27s_69_kg',\n",
       "  '/wiki/2015_World_Weightlifting_Championships_%E2%80%93_Men%27s_77_kg',\n",
       "  '/wiki/2015_World_Weightlifting_Championships_%E2%80%93_Men%27s_85_kg',\n",
       "  '/wiki/2015_World_Weightlifting_Championships_%E2%80%93_Men%27s_94_kg',\n",
       "  '/wiki/2015_World_Weightlifting_Championships_%E2%80%93_Men%27s_105_kg',\n",
       "  '/wiki/2015_World_Weightlifting_Championships_%E2%80%93_Men%27s_%2B105_kg',\n",
       "  '/wiki/2015_World_Weightlifting_Championships_%E2%80%93_Women%27s_48_kg',\n",
       "  '/wiki/2015_World_Weightlifting_Championships_%E2%80%93_Women%27s_53_kg',\n",
       "  '/wiki/2015_World_Weightlifting_Championships_%E2%80%93_Women%27s_58_kg',\n",
       "  '/wiki/2015_World_Weightlifting_Championships_%E2%80%93_Women%27s_63_kg',\n",
       "  '/wiki/2015_World_Weightlifting_Championships_%E2%80%93_Women%27s_69_kg',\n",
       "  '/wiki/2015_World_Weightlifting_Championships_%E2%80%93_Women%27s_75_kg',\n",
       "  '/wiki/2015_World_Weightlifting_Championships_%E2%80%93_Women%27s_%2B75_kg'],\n",
       " ['/wiki/2017_World_Weightlifting_Championships_%E2%80%93_Men%27s_56_kg',\n",
       "  '/wiki/2017_World_Weightlifting_Championships_%E2%80%93_Men%27s_62_kg',\n",
       "  '/wiki/2017_World_Weightlifting_Championships_%E2%80%93_Men%27s_69_kg',\n",
       "  '/wiki/2017_World_Weightlifting_Championships_%E2%80%93_Men%27s_77_kg',\n",
       "  '/wiki/2017_World_Weightlifting_Championships_%E2%80%93_Men%27s_85_kg',\n",
       "  '/wiki/2017_World_Weightlifting_Championships_%E2%80%93_Men%27s_94_kg',\n",
       "  '/wiki/2017_World_Weightlifting_Championships_%E2%80%93_Men%27s_105_kg',\n",
       "  '/wiki/2017_World_Weightlifting_Championships_%E2%80%93_Men%27s_%2B105_kg',\n",
       "  '/wiki/2017_World_Weightlifting_Championships_%E2%80%93_Women%27s_48_kg',\n",
       "  '/wiki/2017_World_Weightlifting_Championships_%E2%80%93_Women%27s_53_kg',\n",
       "  '/wiki/2017_World_Weightlifting_Championships_%E2%80%93_Women%27s_58_kg',\n",
       "  '/wiki/2017_World_Weightlifting_Championships_%E2%80%93_Women%27s_63_kg',\n",
       "  '/wiki/2017_World_Weightlifting_Championships_%E2%80%93_Women%27s_69_kg',\n",
       "  '/wiki/2017_World_Weightlifting_Championships_%E2%80%93_Women%27s_75_kg',\n",
       "  '/wiki/2017_World_Weightlifting_Championships_%E2%80%93_Women%27s_90_kg',\n",
       "  '/wiki/2017_World_Weightlifting_Championships_%E2%80%93_Women%27s_%2B90_kg'],\n",
       " ['/wiki/2018_World_Weightlifting_Championships_%E2%80%93_Men%27s_55_kg',\n",
       "  '/wiki/2018_World_Weightlifting_Championships_%E2%80%93_Men%27s_61_kg',\n",
       "  '/wiki/2018_World_Weightlifting_Championships_%E2%80%93_Men%27s_67_kg',\n",
       "  '/wiki/2018_World_Weightlifting_Championships_%E2%80%93_Men%27s_73_kg',\n",
       "  '/wiki/2018_World_Weightlifting_Championships_%E2%80%93_Men%27s_81_kg',\n",
       "  '/wiki/2018_World_Weightlifting_Championships_%E2%80%93_Men%27s_89_kg',\n",
       "  '/wiki/2018_World_Weightlifting_Championships_%E2%80%93_Men%27s_96_kg',\n",
       "  '/wiki/2018_World_Weightlifting_Championships_%E2%80%93_Men%27s_102_kg',\n",
       "  '/wiki/2018_World_Weightlifting_Championships_%E2%80%93_Men%27s_109_kg',\n",
       "  '/wiki/2018_World_Weightlifting_Championships_%E2%80%93_Men%27s_%2B109_kg',\n",
       "  '/wiki/2018_World_Weightlifting_Championships_%E2%80%93_Women%27s_45_kg',\n",
       "  '/wiki/2018_World_Weightlifting_Championships_%E2%80%93_Women%27s_49_kg',\n",
       "  '/wiki/2018_World_Weightlifting_Championships_%E2%80%93_Women%27s_55_kg',\n",
       "  '/wiki/2018_World_Weightlifting_Championships_%E2%80%93_Women%27s_59_kg',\n",
       "  '/wiki/2018_World_Weightlifting_Championships_%E2%80%93_Women%27s_64_kg',\n",
       "  '/wiki/2018_World_Weightlifting_Championships_%E2%80%93_Women%27s_71_kg',\n",
       "  '/wiki/2018_World_Weightlifting_Championships_%E2%80%93_Women%27s_76_kg',\n",
       "  '/wiki/2018_World_Weightlifting_Championships_%E2%80%93_Women%27s_81_kg',\n",
       "  '/wiki/2018_World_Weightlifting_Championships_%E2%80%93_Women%27s_87_kg',\n",
       "  '/wiki/2018_World_Weightlifting_Championships_%E2%80%93_Women%27s_%2B87_kg'],\n",
       " ['/wiki/2019_World_Weightlifting_Championships_%E2%80%93_Men%27s_55_kg',\n",
       "  '/wiki/2019_World_Weightlifting_Championships_%E2%80%93_Women%27s_45_kg',\n",
       "  '/wiki/2019_World_Weightlifting_Championships_%E2%80%93_Men%27s_61_kg',\n",
       "  '/wiki/2019_World_Weightlifting_Championships_%E2%80%93_Women%27s_49_kg',\n",
       "  '/wiki/2019_World_Weightlifting_Championships_%E2%80%93_Men%27s_67_kg',\n",
       "  '/wiki/2019_World_Weightlifting_Championships_%E2%80%93_Women%27s_55_kg',\n",
       "  '/wiki/2019_World_Weightlifting_Championships_%E2%80%93_Men%27s_73_kg',\n",
       "  '/wiki/2019_World_Weightlifting_Championships_%E2%80%93_Women%27s_59_kg',\n",
       "  '/wiki/2019_World_Weightlifting_Championships_%E2%80%93_Men%27s_81_kg',\n",
       "  '/wiki/2019_World_Weightlifting_Championships_%E2%80%93_Women%27s_64_kg',\n",
       "  '/wiki/2019_World_Weightlifting_Championships_%E2%80%93_Men%27s_89_kg',\n",
       "  '/wiki/2019_World_Weightlifting_Championships_%E2%80%93_Women%27s_71_kg',\n",
       "  '/wiki/2019_World_Weightlifting_Championships_%E2%80%93_Men%27s_96_kg',\n",
       "  '/wiki/2019_World_Weightlifting_Championships_%E2%80%93_Women%27s_76_kg',\n",
       "  '/wiki/2019_World_Weightlifting_Championships_%E2%80%93_Men%27s_102_kg',\n",
       "  '/wiki/2019_World_Weightlifting_Championships_%E2%80%93_Women%27s_81_kg',\n",
       "  '/wiki/2019_World_Weightlifting_Championships_%E2%80%93_Men%27s_109_kg',\n",
       "  '/wiki/2019_World_Weightlifting_Championships_%E2%80%93_Women%27s_87_kg',\n",
       "  '/wiki/2019_World_Weightlifting_Championships_%E2%80%93_Men%27s_%2B109_kg',\n",
       "  '/wiki/2019_World_Weightlifting_Championships_%E2%80%93_Women%27s_%2B87_kg',\n",
       "  '/wiki/2019_World_Weightlifting_Championships_%E2%80%93_Men%27s_55_kg',\n",
       "  '/wiki/2019_World_Weightlifting_Championships_%E2%80%93_Men%27s_61_kg',\n",
       "  '/wiki/2019_World_Weightlifting_Championships_%E2%80%93_Men%27s_67_kg',\n",
       "  '/wiki/2019_World_Weightlifting_Championships_%E2%80%93_Men%27s_73_kg',\n",
       "  '/wiki/2019_World_Weightlifting_Championships_%E2%80%93_Men%27s_81_kg',\n",
       "  '/wiki/2019_World_Weightlifting_Championships_%E2%80%93_Men%27s_89_kg',\n",
       "  '/wiki/2019_World_Weightlifting_Championships_%E2%80%93_Men%27s_96_kg',\n",
       "  '/wiki/2019_World_Weightlifting_Championships_%E2%80%93_Men%27s_102_kg',\n",
       "  '/wiki/2019_World_Weightlifting_Championships_%E2%80%93_Men%27s_109_kg',\n",
       "  '/wiki/2019_World_Weightlifting_Championships_%E2%80%93_Men%27s_%2B109_kg',\n",
       "  '/wiki/2019_World_Weightlifting_Championships_%E2%80%93_Women%27s_45_kg',\n",
       "  '/wiki/2019_World_Weightlifting_Championships_%E2%80%93_Women%27s_49_kg',\n",
       "  '/wiki/2019_World_Weightlifting_Championships_%E2%80%93_Women%27s_55_kg',\n",
       "  '/wiki/2019_World_Weightlifting_Championships_%E2%80%93_Women%27s_59_kg',\n",
       "  '/wiki/2019_World_Weightlifting_Championships_%E2%80%93_Women%27s_64_kg',\n",
       "  '/wiki/2019_World_Weightlifting_Championships_%E2%80%93_Women%27s_71_kg',\n",
       "  '/wiki/2019_World_Weightlifting_Championships_%E2%80%93_Women%27s_76_kg',\n",
       "  '/wiki/2019_World_Weightlifting_Championships_%E2%80%93_Women%27s_81_kg',\n",
       "  '/wiki/2019_World_Weightlifting_Championships_%E2%80%93_Women%27s_87_kg',\n",
       "  '/wiki/2019_World_Weightlifting_Championships_%E2%80%93_Women%27s_%2B87_kg']]"
      ]
     },
     "execution_count": 85,
     "metadata": {},
     "output_type": "execute_result"
    }
   ],
   "source": [
    "leslie"
   ]
  },
  {
   "cell_type": "code",
   "execution_count": 82,
   "metadata": {},
   "outputs": [],
   "source": [
    "with concurrent.futures.ProcessPoolExecutor() as executor:\n",
    "    executor.map(process_urls, competition_urls)"
   ]
  },
  {
   "cell_type": "code",
   "execution_count": 78,
   "metadata": {},
   "outputs": [
    {
     "data": {
      "text/plain": [
       "['/wiki/1996_World_Weightlifting_Championships_%E2%80%93_Women%27s_46_kg',\n",
       " '/wiki/1996_World_Weightlifting_Championships_%E2%80%93_Women%27s_50_kg',\n",
       " '/wiki/1996_World_Weightlifting_Championships_%E2%80%93_Women%27s_54_kg',\n",
       " '/wiki/1996_World_Weightlifting_Championships_%E2%80%93_Women%27s_59_kg',\n",
       " '/wiki/1996_World_Weightlifting_Championships_%E2%80%93_Women%27s_64_kg',\n",
       " '/wiki/1996_World_Weightlifting_Championships_%E2%80%93_Women%27s_70_kg',\n",
       " '/wiki/1996_World_Weightlifting_Championships_%E2%80%93_Women%27s_76_kg',\n",
       " '/wiki/1996_World_Weightlifting_Championships_%E2%80%93_Women%27s_83_kg',\n",
       " '/wiki/1996_World_Weightlifting_Championships_%E2%80%93_Women%27s_%2B83_kg']"
      ]
     },
     "execution_count": 78,
     "metadata": {},
     "output_type": "execute_result"
    }
   ],
   "source": [
    "process_urls(\"https://en.wikipedia.org/wiki/1996_World_Weightlifting_Championships\")"
   ]
  },
  {
   "cell_type": "code",
   "execution_count": 64,
   "metadata": {
    "collapsed": true
   },
   "outputs": [
    {
     "ename": "KeyboardInterrupt",
     "evalue": "",
     "output_type": "error",
     "traceback": [
      "\u001b[1;31m---------------------------------------------------------------------------\u001b[0m",
      "\u001b[1;31mTimeoutError\u001b[0m                              Traceback (most recent call last)",
      "\u001b[1;32mC:\\ProgramData\\Anaconda3\\lib\\site-packages\\urllib3\\util\\connection.py\u001b[0m in \u001b[0;36mcreate_connection\u001b[1;34m(address, timeout, source_address, socket_options)\u001b[0m\n\u001b[0;32m     69\u001b[0m                 \u001b[0msock\u001b[0m\u001b[1;33m.\u001b[0m\u001b[0mbind\u001b[0m\u001b[1;33m(\u001b[0m\u001b[0msource_address\u001b[0m\u001b[1;33m)\u001b[0m\u001b[1;33m\u001b[0m\u001b[1;33m\u001b[0m\u001b[0m\n\u001b[1;32m---> 70\u001b[1;33m             \u001b[0msock\u001b[0m\u001b[1;33m.\u001b[0m\u001b[0mconnect\u001b[0m\u001b[1;33m(\u001b[0m\u001b[0msa\u001b[0m\u001b[1;33m)\u001b[0m\u001b[1;33m\u001b[0m\u001b[1;33m\u001b[0m\u001b[0m\n\u001b[0m\u001b[0;32m     71\u001b[0m             \u001b[1;32mreturn\u001b[0m \u001b[0msock\u001b[0m\u001b[1;33m\u001b[0m\u001b[1;33m\u001b[0m\u001b[0m\n",
      "\u001b[1;31mTimeoutError\u001b[0m: [WinError 10060] A connection attempt failed because the connected party did not properly respond after a period of time, or established connection failed because connected host has failed to respond",
      "\nDuring handling of the above exception, another exception occurred:\n",
      "\u001b[1;31mKeyboardInterrupt\u001b[0m                         Traceback (most recent call last)",
      "\u001b[1;32m<ipython-input-64-481adf185214>\u001b[0m in \u001b[0;36m<module>\u001b[1;34m\u001b[0m\n\u001b[0;32m      1\u001b[0m \u001b[1;32mfor\u001b[0m \u001b[0melem\u001b[0m \u001b[1;32min\u001b[0m \u001b[0mcompetition_urls\u001b[0m\u001b[1;33m:\u001b[0m\u001b[1;33m\u001b[0m\u001b[1;33m\u001b[0m\u001b[0m\n\u001b[1;32m----> 2\u001b[1;33m     \u001b[0mprocess_urls\u001b[0m\u001b[1;33m(\u001b[0m\u001b[0melem\u001b[0m\u001b[1;33m)\u001b[0m\u001b[1;33m\u001b[0m\u001b[1;33m\u001b[0m\u001b[0m\n\u001b[0m",
      "\u001b[1;32m<ipython-input-63-a32f5e2166da>\u001b[0m in \u001b[0;36mprocess_urls\u001b[1;34m(url)\u001b[0m\n\u001b[0;32m      2\u001b[0m \u001b[1;33m\u001b[0m\u001b[0m\n\u001b[0;32m      3\u001b[0m \u001b[1;32mdef\u001b[0m \u001b[0mprocess_urls\u001b[0m\u001b[1;33m(\u001b[0m\u001b[0murl\u001b[0m\u001b[1;33m)\u001b[0m\u001b[1;33m:\u001b[0m\u001b[1;33m\u001b[0m\u001b[1;33m\u001b[0m\u001b[0m\n\u001b[1;32m----> 4\u001b[1;33m     \u001b[0mwebsite_url\u001b[0m \u001b[1;33m=\u001b[0m \u001b[0mrequests\u001b[0m\u001b[1;33m.\u001b[0m\u001b[0mget\u001b[0m\u001b[1;33m(\u001b[0m\u001b[0murl\u001b[0m\u001b[1;33m)\u001b[0m\u001b[1;33m\u001b[0m\u001b[1;33m\u001b[0m\u001b[0m\n\u001b[0m\u001b[0;32m      5\u001b[0m     \u001b[0mpage\u001b[0m \u001b[1;33m=\u001b[0m \u001b[0mBeautifulSoup\u001b[0m\u001b[1;33m(\u001b[0m\u001b[0mwebsite_url\u001b[0m\u001b[1;33m.\u001b[0m\u001b[0mtext\u001b[0m\u001b[1;33m,\u001b[0m \u001b[1;34m\"lxml\"\u001b[0m\u001b[1;33m)\u001b[0m\u001b[1;33m\u001b[0m\u001b[1;33m\u001b[0m\u001b[0m\n\u001b[0;32m      6\u001b[0m     \u001b[0mweightclass_urls\u001b[0m \u001b[1;33m=\u001b[0m \u001b[1;33m[\u001b[0m\u001b[1;33m]\u001b[0m\u001b[1;33m\u001b[0m\u001b[1;33m\u001b[0m\u001b[0m\n",
      "\u001b[1;32mC:\\ProgramData\\Anaconda3\\lib\\site-packages\\requests\\api.py\u001b[0m in \u001b[0;36mget\u001b[1;34m(url, params, **kwargs)\u001b[0m\n\u001b[0;32m     73\u001b[0m \u001b[1;33m\u001b[0m\u001b[0m\n\u001b[0;32m     74\u001b[0m     \u001b[0mkwargs\u001b[0m\u001b[1;33m.\u001b[0m\u001b[0msetdefault\u001b[0m\u001b[1;33m(\u001b[0m\u001b[1;34m'allow_redirects'\u001b[0m\u001b[1;33m,\u001b[0m \u001b[1;32mTrue\u001b[0m\u001b[1;33m)\u001b[0m\u001b[1;33m\u001b[0m\u001b[1;33m\u001b[0m\u001b[0m\n\u001b[1;32m---> 75\u001b[1;33m     \u001b[1;32mreturn\u001b[0m \u001b[0mrequest\u001b[0m\u001b[1;33m(\u001b[0m\u001b[1;34m'get'\u001b[0m\u001b[1;33m,\u001b[0m \u001b[0murl\u001b[0m\u001b[1;33m,\u001b[0m \u001b[0mparams\u001b[0m\u001b[1;33m=\u001b[0m\u001b[0mparams\u001b[0m\u001b[1;33m,\u001b[0m \u001b[1;33m**\u001b[0m\u001b[0mkwargs\u001b[0m\u001b[1;33m)\u001b[0m\u001b[1;33m\u001b[0m\u001b[1;33m\u001b[0m\u001b[0m\n\u001b[0m\u001b[0;32m     76\u001b[0m \u001b[1;33m\u001b[0m\u001b[0m\n\u001b[0;32m     77\u001b[0m \u001b[1;33m\u001b[0m\u001b[0m\n",
      "\u001b[1;32mC:\\ProgramData\\Anaconda3\\lib\\site-packages\\requests\\api.py\u001b[0m in \u001b[0;36mrequest\u001b[1;34m(method, url, **kwargs)\u001b[0m\n\u001b[0;32m     58\u001b[0m     \u001b[1;31m# cases, and look like a memory leak in others.\u001b[0m\u001b[1;33m\u001b[0m\u001b[1;33m\u001b[0m\u001b[1;33m\u001b[0m\u001b[0m\n\u001b[0;32m     59\u001b[0m     \u001b[1;32mwith\u001b[0m \u001b[0msessions\u001b[0m\u001b[1;33m.\u001b[0m\u001b[0mSession\u001b[0m\u001b[1;33m(\u001b[0m\u001b[1;33m)\u001b[0m \u001b[1;32mas\u001b[0m \u001b[0msession\u001b[0m\u001b[1;33m:\u001b[0m\u001b[1;33m\u001b[0m\u001b[1;33m\u001b[0m\u001b[0m\n\u001b[1;32m---> 60\u001b[1;33m         \u001b[1;32mreturn\u001b[0m \u001b[0msession\u001b[0m\u001b[1;33m.\u001b[0m\u001b[0mrequest\u001b[0m\u001b[1;33m(\u001b[0m\u001b[0mmethod\u001b[0m\u001b[1;33m=\u001b[0m\u001b[0mmethod\u001b[0m\u001b[1;33m,\u001b[0m \u001b[0murl\u001b[0m\u001b[1;33m=\u001b[0m\u001b[0murl\u001b[0m\u001b[1;33m,\u001b[0m \u001b[1;33m**\u001b[0m\u001b[0mkwargs\u001b[0m\u001b[1;33m)\u001b[0m\u001b[1;33m\u001b[0m\u001b[1;33m\u001b[0m\u001b[0m\n\u001b[0m\u001b[0;32m     61\u001b[0m \u001b[1;33m\u001b[0m\u001b[0m\n\u001b[0;32m     62\u001b[0m \u001b[1;33m\u001b[0m\u001b[0m\n",
      "\u001b[1;32mC:\\ProgramData\\Anaconda3\\lib\\site-packages\\requests\\sessions.py\u001b[0m in \u001b[0;36mrequest\u001b[1;34m(self, method, url, params, data, headers, cookies, files, auth, timeout, allow_redirects, proxies, hooks, stream, verify, cert, json)\u001b[0m\n\u001b[0;32m    531\u001b[0m         }\n\u001b[0;32m    532\u001b[0m         \u001b[0msend_kwargs\u001b[0m\u001b[1;33m.\u001b[0m\u001b[0mupdate\u001b[0m\u001b[1;33m(\u001b[0m\u001b[0msettings\u001b[0m\u001b[1;33m)\u001b[0m\u001b[1;33m\u001b[0m\u001b[1;33m\u001b[0m\u001b[0m\n\u001b[1;32m--> 533\u001b[1;33m         \u001b[0mresp\u001b[0m \u001b[1;33m=\u001b[0m \u001b[0mself\u001b[0m\u001b[1;33m.\u001b[0m\u001b[0msend\u001b[0m\u001b[1;33m(\u001b[0m\u001b[0mprep\u001b[0m\u001b[1;33m,\u001b[0m \u001b[1;33m**\u001b[0m\u001b[0msend_kwargs\u001b[0m\u001b[1;33m)\u001b[0m\u001b[1;33m\u001b[0m\u001b[1;33m\u001b[0m\u001b[0m\n\u001b[0m\u001b[0;32m    534\u001b[0m \u001b[1;33m\u001b[0m\u001b[0m\n\u001b[0;32m    535\u001b[0m         \u001b[1;32mreturn\u001b[0m \u001b[0mresp\u001b[0m\u001b[1;33m\u001b[0m\u001b[1;33m\u001b[0m\u001b[0m\n",
      "\u001b[1;32mC:\\ProgramData\\Anaconda3\\lib\\site-packages\\requests\\sessions.py\u001b[0m in \u001b[0;36msend\u001b[1;34m(self, request, **kwargs)\u001b[0m\n\u001b[0;32m    644\u001b[0m \u001b[1;33m\u001b[0m\u001b[0m\n\u001b[0;32m    645\u001b[0m         \u001b[1;31m# Send the request\u001b[0m\u001b[1;33m\u001b[0m\u001b[1;33m\u001b[0m\u001b[1;33m\u001b[0m\u001b[0m\n\u001b[1;32m--> 646\u001b[1;33m         \u001b[0mr\u001b[0m \u001b[1;33m=\u001b[0m \u001b[0madapter\u001b[0m\u001b[1;33m.\u001b[0m\u001b[0msend\u001b[0m\u001b[1;33m(\u001b[0m\u001b[0mrequest\u001b[0m\u001b[1;33m,\u001b[0m \u001b[1;33m**\u001b[0m\u001b[0mkwargs\u001b[0m\u001b[1;33m)\u001b[0m\u001b[1;33m\u001b[0m\u001b[1;33m\u001b[0m\u001b[0m\n\u001b[0m\u001b[0;32m    647\u001b[0m \u001b[1;33m\u001b[0m\u001b[0m\n\u001b[0;32m    648\u001b[0m         \u001b[1;31m# Total elapsed time of the request (approximately)\u001b[0m\u001b[1;33m\u001b[0m\u001b[1;33m\u001b[0m\u001b[1;33m\u001b[0m\u001b[0m\n",
      "\u001b[1;32mC:\\ProgramData\\Anaconda3\\lib\\site-packages\\requests\\adapters.py\u001b[0m in \u001b[0;36msend\u001b[1;34m(self, request, stream, timeout, verify, cert, proxies)\u001b[0m\n\u001b[0;32m    447\u001b[0m                     \u001b[0mdecode_content\u001b[0m\u001b[1;33m=\u001b[0m\u001b[1;32mFalse\u001b[0m\u001b[1;33m,\u001b[0m\u001b[1;33m\u001b[0m\u001b[1;33m\u001b[0m\u001b[0m\n\u001b[0;32m    448\u001b[0m                     \u001b[0mretries\u001b[0m\u001b[1;33m=\u001b[0m\u001b[0mself\u001b[0m\u001b[1;33m.\u001b[0m\u001b[0mmax_retries\u001b[0m\u001b[1;33m,\u001b[0m\u001b[1;33m\u001b[0m\u001b[1;33m\u001b[0m\u001b[0m\n\u001b[1;32m--> 449\u001b[1;33m                     \u001b[0mtimeout\u001b[0m\u001b[1;33m=\u001b[0m\u001b[0mtimeout\u001b[0m\u001b[1;33m\u001b[0m\u001b[1;33m\u001b[0m\u001b[0m\n\u001b[0m\u001b[0;32m    450\u001b[0m                 )\n\u001b[0;32m    451\u001b[0m \u001b[1;33m\u001b[0m\u001b[0m\n",
      "\u001b[1;32mC:\\ProgramData\\Anaconda3\\lib\\site-packages\\urllib3\\connectionpool.py\u001b[0m in \u001b[0;36murlopen\u001b[1;34m(self, method, url, body, headers, retries, redirect, assert_same_host, timeout, pool_timeout, release_conn, chunked, body_pos, **response_kw)\u001b[0m\n\u001b[0;32m    598\u001b[0m                                                   \u001b[0mtimeout\u001b[0m\u001b[1;33m=\u001b[0m\u001b[0mtimeout_obj\u001b[0m\u001b[1;33m,\u001b[0m\u001b[1;33m\u001b[0m\u001b[1;33m\u001b[0m\u001b[0m\n\u001b[0;32m    599\u001b[0m                                                   \u001b[0mbody\u001b[0m\u001b[1;33m=\u001b[0m\u001b[0mbody\u001b[0m\u001b[1;33m,\u001b[0m \u001b[0mheaders\u001b[0m\u001b[1;33m=\u001b[0m\u001b[0mheaders\u001b[0m\u001b[1;33m,\u001b[0m\u001b[1;33m\u001b[0m\u001b[1;33m\u001b[0m\u001b[0m\n\u001b[1;32m--> 600\u001b[1;33m                                                   chunked=chunked)\n\u001b[0m\u001b[0;32m    601\u001b[0m \u001b[1;33m\u001b[0m\u001b[0m\n\u001b[0;32m    602\u001b[0m             \u001b[1;31m# If we're going to release the connection in ``finally:``, then\u001b[0m\u001b[1;33m\u001b[0m\u001b[1;33m\u001b[0m\u001b[1;33m\u001b[0m\u001b[0m\n",
      "\u001b[1;32mC:\\ProgramData\\Anaconda3\\lib\\site-packages\\urllib3\\connectionpool.py\u001b[0m in \u001b[0;36m_make_request\u001b[1;34m(self, conn, method, url, timeout, chunked, **httplib_request_kw)\u001b[0m\n\u001b[0;32m    341\u001b[0m         \u001b[1;31m# Trigger any extra validation we need to do.\u001b[0m\u001b[1;33m\u001b[0m\u001b[1;33m\u001b[0m\u001b[1;33m\u001b[0m\u001b[0m\n\u001b[0;32m    342\u001b[0m         \u001b[1;32mtry\u001b[0m\u001b[1;33m:\u001b[0m\u001b[1;33m\u001b[0m\u001b[1;33m\u001b[0m\u001b[0m\n\u001b[1;32m--> 343\u001b[1;33m             \u001b[0mself\u001b[0m\u001b[1;33m.\u001b[0m\u001b[0m_validate_conn\u001b[0m\u001b[1;33m(\u001b[0m\u001b[0mconn\u001b[0m\u001b[1;33m)\u001b[0m\u001b[1;33m\u001b[0m\u001b[1;33m\u001b[0m\u001b[0m\n\u001b[0m\u001b[0;32m    344\u001b[0m         \u001b[1;32mexcept\u001b[0m \u001b[1;33m(\u001b[0m\u001b[0mSocketTimeout\u001b[0m\u001b[1;33m,\u001b[0m \u001b[0mBaseSSLError\u001b[0m\u001b[1;33m)\u001b[0m \u001b[1;32mas\u001b[0m \u001b[0me\u001b[0m\u001b[1;33m:\u001b[0m\u001b[1;33m\u001b[0m\u001b[1;33m\u001b[0m\u001b[0m\n\u001b[0;32m    345\u001b[0m             \u001b[1;31m# Py2 raises this as a BaseSSLError, Py3 raises it as socket timeout.\u001b[0m\u001b[1;33m\u001b[0m\u001b[1;33m\u001b[0m\u001b[1;33m\u001b[0m\u001b[0m\n",
      "\u001b[1;32mC:\\ProgramData\\Anaconda3\\lib\\site-packages\\urllib3\\connectionpool.py\u001b[0m in \u001b[0;36m_validate_conn\u001b[1;34m(self, conn)\u001b[0m\n\u001b[0;32m    837\u001b[0m         \u001b[1;31m# Force connect early to allow us to validate the connection.\u001b[0m\u001b[1;33m\u001b[0m\u001b[1;33m\u001b[0m\u001b[1;33m\u001b[0m\u001b[0m\n\u001b[0;32m    838\u001b[0m         \u001b[1;32mif\u001b[0m \u001b[1;32mnot\u001b[0m \u001b[0mgetattr\u001b[0m\u001b[1;33m(\u001b[0m\u001b[0mconn\u001b[0m\u001b[1;33m,\u001b[0m \u001b[1;34m'sock'\u001b[0m\u001b[1;33m,\u001b[0m \u001b[1;32mNone\u001b[0m\u001b[1;33m)\u001b[0m\u001b[1;33m:\u001b[0m  \u001b[1;31m# AppEngine might not have  `.sock`\u001b[0m\u001b[1;33m\u001b[0m\u001b[1;33m\u001b[0m\u001b[0m\n\u001b[1;32m--> 839\u001b[1;33m             \u001b[0mconn\u001b[0m\u001b[1;33m.\u001b[0m\u001b[0mconnect\u001b[0m\u001b[1;33m(\u001b[0m\u001b[1;33m)\u001b[0m\u001b[1;33m\u001b[0m\u001b[1;33m\u001b[0m\u001b[0m\n\u001b[0m\u001b[0;32m    840\u001b[0m \u001b[1;33m\u001b[0m\u001b[0m\n\u001b[0;32m    841\u001b[0m         \u001b[1;32mif\u001b[0m \u001b[1;32mnot\u001b[0m \u001b[0mconn\u001b[0m\u001b[1;33m.\u001b[0m\u001b[0mis_verified\u001b[0m\u001b[1;33m:\u001b[0m\u001b[1;33m\u001b[0m\u001b[1;33m\u001b[0m\u001b[0m\n",
      "\u001b[1;32mC:\\ProgramData\\Anaconda3\\lib\\site-packages\\urllib3\\connection.py\u001b[0m in \u001b[0;36mconnect\u001b[1;34m(self)\u001b[0m\n\u001b[0;32m    299\u001b[0m     \u001b[1;32mdef\u001b[0m \u001b[0mconnect\u001b[0m\u001b[1;33m(\u001b[0m\u001b[0mself\u001b[0m\u001b[1;33m)\u001b[0m\u001b[1;33m:\u001b[0m\u001b[1;33m\u001b[0m\u001b[1;33m\u001b[0m\u001b[0m\n\u001b[0;32m    300\u001b[0m         \u001b[1;31m# Add certificate verification\u001b[0m\u001b[1;33m\u001b[0m\u001b[1;33m\u001b[0m\u001b[1;33m\u001b[0m\u001b[0m\n\u001b[1;32m--> 301\u001b[1;33m         \u001b[0mconn\u001b[0m \u001b[1;33m=\u001b[0m \u001b[0mself\u001b[0m\u001b[1;33m.\u001b[0m\u001b[0m_new_conn\u001b[0m\u001b[1;33m(\u001b[0m\u001b[1;33m)\u001b[0m\u001b[1;33m\u001b[0m\u001b[1;33m\u001b[0m\u001b[0m\n\u001b[0m\u001b[0;32m    302\u001b[0m         \u001b[0mhostname\u001b[0m \u001b[1;33m=\u001b[0m \u001b[0mself\u001b[0m\u001b[1;33m.\u001b[0m\u001b[0mhost\u001b[0m\u001b[1;33m\u001b[0m\u001b[1;33m\u001b[0m\u001b[0m\n\u001b[0;32m    303\u001b[0m \u001b[1;33m\u001b[0m\u001b[0m\n",
      "\u001b[1;32mC:\\ProgramData\\Anaconda3\\lib\\site-packages\\urllib3\\connection.py\u001b[0m in \u001b[0;36m_new_conn\u001b[1;34m(self)\u001b[0m\n\u001b[0;32m    157\u001b[0m         \u001b[1;32mtry\u001b[0m\u001b[1;33m:\u001b[0m\u001b[1;33m\u001b[0m\u001b[1;33m\u001b[0m\u001b[0m\n\u001b[0;32m    158\u001b[0m             conn = connection.create_connection(\n\u001b[1;32m--> 159\u001b[1;33m                 (self._dns_host, self.port), self.timeout, **extra_kw)\n\u001b[0m\u001b[0;32m    160\u001b[0m \u001b[1;33m\u001b[0m\u001b[0m\n\u001b[0;32m    161\u001b[0m         \u001b[1;32mexcept\u001b[0m \u001b[0mSocketTimeout\u001b[0m \u001b[1;32mas\u001b[0m \u001b[0me\u001b[0m\u001b[1;33m:\u001b[0m\u001b[1;33m\u001b[0m\u001b[1;33m\u001b[0m\u001b[0m\n",
      "\u001b[1;32mC:\\ProgramData\\Anaconda3\\lib\\site-packages\\urllib3\\util\\connection.py\u001b[0m in \u001b[0;36mcreate_connection\u001b[1;34m(address, timeout, source_address, socket_options)\u001b[0m\n\u001b[0;32m     68\u001b[0m             \u001b[1;32mif\u001b[0m \u001b[0msource_address\u001b[0m\u001b[1;33m:\u001b[0m\u001b[1;33m\u001b[0m\u001b[1;33m\u001b[0m\u001b[0m\n\u001b[0;32m     69\u001b[0m                 \u001b[0msock\u001b[0m\u001b[1;33m.\u001b[0m\u001b[0mbind\u001b[0m\u001b[1;33m(\u001b[0m\u001b[0msource_address\u001b[0m\u001b[1;33m)\u001b[0m\u001b[1;33m\u001b[0m\u001b[1;33m\u001b[0m\u001b[0m\n\u001b[1;32m---> 70\u001b[1;33m             \u001b[0msock\u001b[0m\u001b[1;33m.\u001b[0m\u001b[0mconnect\u001b[0m\u001b[1;33m(\u001b[0m\u001b[0msa\u001b[0m\u001b[1;33m)\u001b[0m\u001b[1;33m\u001b[0m\u001b[1;33m\u001b[0m\u001b[0m\n\u001b[0m\u001b[0;32m     71\u001b[0m             \u001b[1;32mreturn\u001b[0m \u001b[0msock\u001b[0m\u001b[1;33m\u001b[0m\u001b[1;33m\u001b[0m\u001b[0m\n\u001b[0;32m     72\u001b[0m \u001b[1;33m\u001b[0m\u001b[0m\n",
      "\u001b[1;31mKeyboardInterrupt\u001b[0m: "
     ]
    }
   ],
   "source": [
    "for elem in competition_urls:\n",
    "    process_urls(elem)"
   ]
  },
  {
   "cell_type": "code",
   "execution_count": 50,
   "metadata": {},
   "outputs": [],
   "source": [
    "url = merged_urls[2][0]\n",
    "shortened_urls = merged_urls[2][1]"
   ]
  },
  {
   "cell_type": "code",
   "execution_count": 51,
   "metadata": {},
   "outputs": [
    {
     "data": {
      "text/plain": [
       "'https://en.wikipedia.org/wiki/1998_World_Weightlifting_Championships'"
      ]
     },
     "execution_count": 51,
     "metadata": {},
     "output_type": "execute_result"
    }
   ],
   "source": [
    "url"
   ]
  },
  {
   "cell_type": "code",
   "execution_count": 49,
   "metadata": {},
   "outputs": [
    {
     "data": {
      "text/plain": [
       "'/wiki/1998_World_Weightlifting_Championships'"
      ]
     },
     "execution_count": 49,
     "metadata": {},
     "output_type": "execute_result"
    }
   ],
   "source": [
    "shortened_urls"
   ]
  },
  {
   "cell_type": "code",
   "execution_count": 35,
   "metadata": {},
   "outputs": [
    {
     "data": {
      "text/plain": [
       "[('https://en.wikipedia.org/wiki/1996_World_Weightlifting_Championships',\n",
       "  '/wiki/1996_World_Weightlifting_Championships'),\n",
       " ('https://en.wikipedia.org/wiki/1997_World_Weightlifting_Championships',\n",
       "  '/wiki/1997_World_Weightlifting_Championships'),\n",
       " ('https://en.wikipedia.org/wiki/1998_World_Weightlifting_Championships',\n",
       "  '/wiki/1998_World_Weightlifting_Championships'),\n",
       " ('https://en.wikipedia.org/wiki/1999_World_Weightlifting_Championships',\n",
       "  '/wiki/1999_World_Weightlifting_Championships'),\n",
       " ('https://en.wikipedia.org/wiki/2001_World_Weightlifting_Championships',\n",
       "  '/wiki/2001_World_Weightlifting_Championships'),\n",
       " ('https://en.wikipedia.org/wiki/2002_World_Weightlifting_Championships',\n",
       "  '/wiki/2002_World_Weightlifting_Championships'),\n",
       " ('https://en.wikipedia.org/wiki/2003_World_Weightlifting_Championships',\n",
       "  '/wiki/2003_World_Weightlifting_Championships'),\n",
       " ('https://en.wikipedia.org/wiki/2005_World_Weightlifting_Championships',\n",
       "  '/wiki/2005_World_Weightlifting_Championships'),\n",
       " ('https://en.wikipedia.org/wiki/2006_World_Weightlifting_Championships',\n",
       "  '/wiki/2006_World_Weightlifting_Championships'),\n",
       " ('https://en.wikipedia.org/wiki/2007_World_Weightlifting_Championships',\n",
       "  '/wiki/2007_World_Weightlifting_Championships'),\n",
       " ('https://en.wikipedia.org/wiki/2009_World_Weightlifting_Championships',\n",
       "  '/wiki/2009_World_Weightlifting_Championships'),\n",
       " ('https://en.wikipedia.org/wiki/2010_World_Weightlifting_Championships',\n",
       "  '/wiki/2010_World_Weightlifting_Championships'),\n",
       " ('https://en.wikipedia.org/wiki/2011_World_Weightlifting_Championships',\n",
       "  '/wiki/2011_World_Weightlifting_Championships'),\n",
       " ('https://en.wikipedia.org/wiki/2013_World_Weightlifting_Championships',\n",
       "  '/wiki/2013_World_Weightlifting_Championships'),\n",
       " ('https://en.wikipedia.org/wiki/2014_World_Weightlifting_Championships',\n",
       "  '/wiki/2014_World_Weightlifting_Championships'),\n",
       " ('https://en.wikipedia.org/wiki/2015_World_Weightlifting_Championships',\n",
       "  '/wiki/2015_World_Weightlifting_Championships'),\n",
       " ('https://en.wikipedia.org/wiki/2017_World_Weightlifting_Championships',\n",
       "  '/wiki/2017_World_Weightlifting_Championships'),\n",
       " ('https://en.wikipedia.org/wiki/2018_World_Weightlifting_Championships',\n",
       "  '/wiki/2018_World_Weightlifting_Championships'),\n",
       " ('https://en.wikipedia.org/wiki/2019_World_Weightlifting_Championships',\n",
       "  '/wiki/2019_World_Weightlifting_Championships')]"
      ]
     },
     "execution_count": 35,
     "metadata": {},
     "output_type": "execute_result"
    }
   ],
   "source": [
    "merged_urls = list(zip(competition_urls, shortened_urls))\n",
    "merged_urls"
   ]
  },
  {
   "cell_type": "code",
   "execution_count": 15,
   "metadata": {
    "collapsed": true
   },
   "outputs": [
    {
     "data": {
      "text/plain": [
       "['/wiki/1997_World_Weightlifting_Championships_%E2%80%93_Men%27s_54_kg',\n",
       " '/wiki/1997_World_Weightlifting_Championships_%E2%80%93_Men%27s_59_kg',\n",
       " '/wiki/1997_World_Weightlifting_Championships_%E2%80%93_Men%27s_64_kg',\n",
       " '/wiki/1997_World_Weightlifting_Championships_%E2%80%93_Men%27s_70_kg',\n",
       " '/wiki/1997_World_Weightlifting_Championships_%E2%80%93_Men%27s_76_kg',\n",
       " '/wiki/1997_World_Weightlifting_Championships_%E2%80%93_Men%27s_83_kg',\n",
       " '/wiki/1997_World_Weightlifting_Championships_%E2%80%93_Men%27s_91_kg',\n",
       " '/wiki/1997_World_Weightlifting_Championships_%E2%80%93_Men%27s_99_kg',\n",
       " '/wiki/1997_World_Weightlifting_Championships_%E2%80%93_Men%27s_108_kg',\n",
       " '/wiki/1997_World_Weightlifting_Championships_%E2%80%93_Men%27s_%2B108_kg',\n",
       " '/wiki/1997_World_Weightlifting_Championships_%E2%80%93_Women%27s_46_kg',\n",
       " '/wiki/1997_World_Weightlifting_Championships_%E2%80%93_Women%27s_50_kg',\n",
       " '/wiki/1997_World_Weightlifting_Championships_%E2%80%93_Women%27s_54_kg',\n",
       " '/wiki/1997_World_Weightlifting_Championships_%E2%80%93_Women%27s_59_kg',\n",
       " '/wiki/1997_World_Weightlifting_Championships_%E2%80%93_Women%27s_64_kg',\n",
       " '/wiki/1997_World_Weightlifting_Championships_%E2%80%93_Women%27s_70_kg',\n",
       " '/wiki/1997_World_Weightlifting_Championships_%E2%80%93_Women%27s_76_kg',\n",
       " '/wiki/1997_World_Weightlifting_Championships_%E2%80%93_Women%27s_83_kg',\n",
       " '/wiki/1997_World_Weightlifting_Championships_%E2%80%93_Women%27s_%2B83_kg']"
      ]
     },
     "execution_count": 15,
     "metadata": {},
     "output_type": "execute_result"
    }
   ],
   "source": [
    "website_url = requests.get(competition_urls[1])\n",
    "page = BeautifulSoup(website_url.text, \"lxml\")\n",
    "weightclass_urls = []\n",
    "for link in page.find_all(\"a\", attrs={\"href\": re.compile(f\"^{short}_\")}):\n",
    "    weightclass_urls.append(link.get('href'))\n",
    "weightclass_urls"
   ]
  },
  {
   "cell_type": "code",
   "execution_count": null,
   "metadata": {},
   "outputs": [],
   "source": [
    "website_url = requests.get(\"https://en.wikipedia.org/wiki/1996_World_Weightlifting_Championships\")\n",
    "page = BeautifulSoup(website_url.text, \"lxml\")\n",
    "weightclass_urls = []\n",
    "for link in page.find_all(\"a\", attrs={\"href\": re.compile(\"^/wiki/1996_World_Weightlifting_Championships_\")}):\n",
    "    weightclass_urls.append(link.get('href'))\n",
    "weightclass_urls"
   ]
  },
  {
   "cell_type": "code",
   "execution_count": 20,
   "metadata": {},
   "outputs": [],
   "source": [
    "url = requests.get(\"https://en.wikipedia.org/wiki/1996_World_Weightlifting_Championships_%E2%80%93_Women%27s_46_kg\")\n",
    "page = BeautifulSoup(url.text, 'lxml')\n",
    "\n",
    "header_id = page.find(\"h1\", id=\"firstHeading\").get_text()"
   ]
  },
  {
   "cell_type": "code",
   "execution_count": 23,
   "metadata": {},
   "outputs": [
    {
     "data": {
      "text/plain": [
       "\"1996 World Weightlifting Championships – Women's 46 kg\""
      ]
     },
     "execution_count": 23,
     "metadata": {},
     "output_type": "execute_result"
    }
   ],
   "source": [
    "header_id.get_text()"
   ]
  }
 ],
 "metadata": {
  "kernelspec": {
   "display_name": "Python 3",
   "language": "python",
   "name": "python3"
  },
  "language_info": {
   "codemirror_mode": {
    "name": "ipython",
    "version": 3
   },
   "file_extension": ".py",
   "mimetype": "text/x-python",
   "name": "python",
   "nbconvert_exporter": "python",
   "pygments_lexer": "ipython3",
   "version": "3.7.1"
  }
 },
 "nbformat": 4,
 "nbformat_minor": 2
}
