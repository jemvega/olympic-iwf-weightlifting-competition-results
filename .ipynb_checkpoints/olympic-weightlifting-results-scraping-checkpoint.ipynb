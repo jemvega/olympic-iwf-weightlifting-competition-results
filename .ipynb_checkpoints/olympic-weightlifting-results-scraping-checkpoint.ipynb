{
 "cells": [
  {
   "cell_type": "code",
   "execution_count": null,
   "metadata": {
    "scrolled": false
   },
   "outputs": [],
   "source": [
    "import re\n",
    "import requests\n",
    "from bs4 import BeautifulSoup\n",
    "import webscraping_functions as wf\n",
    "import time\n",
    "import concurrent.futures"
   ]
  },
  {
   "cell_type": "code",
   "execution_count": null,
   "metadata": {},
   "outputs": [],
   "source": [
    "url_domain = \"https://en.wikipedia.org\"\n",
    "website_url = \"https://en.wikipedia.org/wiki/Weightlifting_at_the_Summer_Olympics\"\n",
    "div_id = \"mw-content-text\"\n",
    "\n",
    "# Scrape the competition urls from the Summer Olympic Weightlifting page on Wikipedia\n",
    "competition_urls = [\n",
    "    url_domain + elem for elem in wf.WikiParser.oly_links(\n",
    "        website_url, div_id, wf.olympic_years_list\n",
    "                    )]\n",
    "\n",
    "# Use threading to grab the results url from every weightclass and append it to a list\n",
    "with concurrent.futures.ThreadPoolExecutor() as executor:\n",
    "    weightclass_urls = list(executor.map(wf.WikiParser.process_urls, competition_urls))\n",
    "    comp_urls = []\n",
    "    for index in range(len(weightclass_urls)):\n",
    "        for elem in weightclass_urls[index]:\n",
    "            comp_urls.append(url_domain + elem)\n",
    "\n",
    "# Pop off the links that prevent the function from continuing\n",
    "for elem in comp_urls:\n",
    "    if \"Qualification\" in elem:\n",
    "        index = comp_urls.index(elem)\n",
    "        comp_urls.pop(index)\n",
    "    else: \n",
    "        pass\n",
    "\n",
    "# Use threading to write the results tables for every weightclass from 1996+ and write to .csv files\n",
    "with concurrent.futures.ThreadPoolExecutor() as executor:\n",
    "    futures = []\n",
    "    file_names = executor.map(wf.datatable_cleanup.results_table, comp_urls)\n",
    "    for names in file_names:\n",
    "        futures.append(names)\n",
    "\n",
    "# A function to concate all of the above .csv files into one file\n",
    "file_name = \"Olympic-Weightlifting-total-results-1980-2016\"\n",
    "wf.datatable_cleanup.concat_csv(file_name)"
   ]
  },
  {
   "cell_type": "code",
   "execution_count": 1,
   "metadata": {},
   "outputs": [
    {
     "name": "stderr",
     "output_type": "stream",
     "text": [
      "[NbConvertApp] Converting notebook olympic-weightlifting-results-scraping.ipynb to script\n",
      "[NbConvertApp] Writing 1781 bytes to olympic-weightlifting-results-scraping.py\n"
     ]
    }
   ],
   "source": [
    "!jupyter nbconvert --to script olympic-weightlifting-results-scraping.ipynb"
   ]
  }
 ],
 "metadata": {
  "kernelspec": {
   "display_name": "Python 3",
   "language": "python",
   "name": "python3"
  },
  "language_info": {
   "codemirror_mode": {
    "name": "ipython",
    "version": 3
   },
   "file_extension": ".py",
   "mimetype": "text/x-python",
   "name": "python",
   "nbconvert_exporter": "python",
   "pygments_lexer": "ipython3",
   "version": "3.7.1"
  }
 },
 "nbformat": 4,
 "nbformat_minor": 2
}
