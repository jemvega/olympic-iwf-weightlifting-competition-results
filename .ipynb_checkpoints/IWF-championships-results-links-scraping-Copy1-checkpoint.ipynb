{
 "cells": [
  {
   "cell_type": "code",
   "execution_count": 1,
   "metadata": {},
   "outputs": [
    {
     "name": "stderr",
     "output_type": "stream",
     "text": [
      "[NbConvertApp] Converting notebook parsing_functions.ipynb to script\n",
      "[NbConvertApp] Writing 1582 bytes to parsing_functions.py\n"
     ]
    }
   ],
   "source": [
    "import re\n",
    "import parsing_functions as pf"
   ]
  },
  {
   "cell_type": "code",
   "execution_count": 2,
   "metadata": {},
   "outputs": [],
   "source": [
    "url_domain = \"https://en.wikipedia.org\"\n",
    "website_url = \"https://en.wikipedia.org/wiki/World_Weightlifting_Championships\"\n",
    "header_name = \"Combined\""
   ]
  },
  {
   "cell_type": "code",
   "execution_count": 4,
   "metadata": {},
   "outputs": [],
   "source": [
    "competition_urls = [url_domain + elem for elem in pf.wiki_parser.wikitable_links(website_url, header_name, parsing_functions.years_list)]\n",
    "\n",
    "competition_urls"
   ]
  },
  {
   "cell_type": "code",
   "execution_count": null,
   "metadata": {},
   "outputs": [],
   "source": [
    "website_url = requests.get(\"https://en.wikipedia.org/wiki/1996_World_Weightlifting_Championships\")\n",
    "page = BeautifulSoup(website_url.text, \"lxml\")\n",
    "weightclass_urls = []\n",
    "for link in page.find_all(\"a\", attrs={\"href\": re.compile(\"^/wiki/1996_World_Weightlifting_Championships_\")}):\n",
    "    weightclass_urls.append(link.get('href'))\n",
    "weightclass_urls"
   ]
  }
 ],
 "metadata": {
  "kernelspec": {
   "display_name": "Python 3",
   "language": "python",
   "name": "python3"
  },
  "language_info": {
   "codemirror_mode": {
    "name": "ipython",
    "version": 3
   },
   "file_extension": ".py",
   "mimetype": "text/x-python",
   "name": "python",
   "nbconvert_exporter": "python",
   "pygments_lexer": "ipython3",
   "version": "3.7.1"
  }
 },
 "nbformat": 4,
 "nbformat_minor": 2
}
