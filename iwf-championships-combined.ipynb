{
 "cells": [
  {
   "cell_type": "code",
   "execution_count": null,
   "metadata": {},
   "outputs": [],
   "source": [
    "import pandas as pd\n",
    "import webscraping_functions as wf"
   ]
  },
  {
   "cell_type": "code",
   "execution_count": null,
   "metadata": {},
   "outputs": [],
   "source": [
    "website_url = \"https://en.wikipedia.org/wiki/World_Weightlifting_Championships\"\n",
    "header_name = \"Combined\"\n",
    "\n",
    "df = wf.WikiParser.iwf_competitions_to_dataframe(website_url, header_name)\n",
    "\n",
    "df.replace(\"\\\\n\", \"\", regex=True, inplace=True)\n",
    "df.replace(\"\\xa0\", \"\", regex=True, inplace=True)\n",
    "\n",
    "df.columns = (\"Comp No. (Men), Comp No. (Women), Year, \"\n",
    "            \"Dates, Location, No. Athletes (Men), \"\n",
    "            \"No. Countries (Men), No. Athletes (Women), \"\n",
    "            \"No. Countries (Women)\").split(\", \")\n",
    "\n",
    "df.drop([0,1], inplace=True)\n",
    "\n",
    "df.reset_index(inplace=True)\n",
    "\n",
    "df.drop(\"index\", axis=1, inplace=True)\n",
    "\n",
    "df.to_csv(r'IWF-championships-combined.csv')"
   ]
  },
  {
   "cell_type": "code",
   "execution_count": null,
   "metadata": {},
   "outputs": [],
   "source": [
    "!jupyter nbconvert --to script iwf-championships-combined.ipynb"
   ]
  }
 ],
 "metadata": {
  "kernelspec": {
   "display_name": "Python 3",
   "language": "python",
   "name": "python3"
  },
  "language_info": {
   "codemirror_mode": {
    "name": "ipython",
    "version": 3
   },
   "file_extension": ".py",
   "mimetype": "text/x-python",
   "name": "python",
   "nbconvert_exporter": "python",
   "pygments_lexer": "ipython3",
   "version": "3.7.1"
  }
 },
 "nbformat": 4,
 "nbformat_minor": 2
}
