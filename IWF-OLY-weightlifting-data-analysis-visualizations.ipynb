{
 "cells": [
  {
   "cell_type": "code",
   "execution_count": null,
   "metadata": {},
   "outputs": [],
   "source": [
    "\"iwf-competition-analysis-visualizations\"\n",
    "\"\"\"Questions:\n",
    "What is the average body weight for men and women?\n",
    "What is the average weight of successful Max Snatch, \n",
    "    Max C/J, and Total for IWF, Oly, and all for men and women?\n",
    "What is ratio of missed lifts to completed lifts \n",
    "    for Oly, IWF, and all for men and women?\n",
    "What are the top 10 most popular country codes?\n",
    "What is the ratio of female to male competitors for Oly, IWF, and all?\n",
    "Is the number of female competitors increasing? \n",
    "Is there a correlation between body weight and \n",
    "    max snatch, max c/j, and total for men and women?\n",
    "    \n",
    "Comparison of max snatch, max c/j, and totals for \n",
    "    weight classes by 5kg increments for men and women. \n",
    "    \n",
    "\n",
    "\n",
    "\n",
    "\n",
    "Need to clean up country codes? Perhaps using regular expressions?\"\"\""
   ]
  },
  {
   "cell_type": "code",
   "execution_count": null,
   "metadata": {},
   "outputs": [],
   "source": [
    "# # A function to concate all of the above .csv files into one file\n",
    "# file_name = \"Olympic-Weightlifting-total-results-1980-2016\"\n",
    "# wf.datatable_cleanup.concat_csv(file_name)\n",
    "\n",
    "# import os\n",
    "# from glob import glob\n",
    "# import pandas as pd\n",
    "# import webscraping_functions as wf"
   ]
  },
  {
   "cell_type": "code",
   "execution_count": 2,
   "metadata": {},
   "outputs": [
    {
     "name": "stderr",
     "output_type": "stream",
     "text": [
      "[NbConvertApp] Converting notebook webscraping_functions.ipynb to script\n",
      "[NbConvertApp] Writing 14750 bytes to webscraping_functions.py\n"
     ]
    }
   ],
   "source": [
    "from datetime import datetime\n",
    "import pandas as pd\n",
    "import webscraping_functions as wf\n",
    "from pandas import Series, DataFrame\n",
    "import numpy as np\n",
    "import seaborn as sns\n",
    "import matplotlib.pyplot as plt\n",
    "import matplotlib.dates as mdates\n",
    "%matplotlib inline\n",
    "\n",
    "\n",
    "# #plt.show()"
   ]
  },
  {
   "cell_type": "code",
   "execution_count": null,
   "metadata": {},
   "outputs": [],
   "source": [
    "# Setting custom color palette from hex color codes \n",
    "\"\"\"\n",
    "Hexcodes and Color Names\n",
    "\"#B38867\", # Coffee\n",
    "\"#283655\", # Blueberry\n",
    "\"#69983D\", # Green Apple\n",
    "\"#D50000\", # Guardsman Red\n",
    "\"#A57298\", # Boquet\n",
    "\"#FFAA00\", # Web Orange/Goldenrod\n",
    "\"#F18D93\", # Pink Tulip\n",
    "\"#F0810F\", # Tangerine\n",
    "\"#66A5AD\", # Ocean\n",
    "\"\"\"\n",
    "\n",
    "color_names = \"coffee, blueberry, green, red, boquet, goldenrod, pink tulip, tangerine, ocean\".split(\", \")\n",
    "hexcodes = \"#B38867 #283655 #69983D #D50000 #A57298 #FFAA00 #F18D93 #F0810F #66A5AD\".split()\n",
    "colors_codes = list(zip(color_names, hexcodes))\n",
    "exercise_names = \"Deadlift BackSquat OverheadSquat FrontSquat BenchPress ShoulderPress SnatchPress Snatch Clean&Jerk\".split()\n",
    "color_map= dict(zip(exercise_names, colors_codes))\n",
    "color_df = pd.DataFrame.from_dict(color_map, orient=\"index\", columns=[\"Color Name\", \"Hexcode\"])\n",
    "colors = color_df[\"Hexcode\"].tolist()\n",
    "palette = sns.set_palette(sns.color_palette(colors))\n",
    "sns.set_context(\"paper\")"
   ]
  },
  {
   "cell_type": "code",
   "execution_count": 3,
   "metadata": {},
   "outputs": [],
   "source": [
    "df = pd.read_csv(\"iwf-oly-weightlifting-combined-total-results-1980-2016.csv\", encoding='utf-8')"
   ]
  },
  {
   "cell_type": "code",
   "execution_count": 4,
   "metadata": {},
   "outputs": [
    {
     "name": "stderr",
     "output_type": "stream",
     "text": [
      "C:\\Users\\jacqu\\Desktop\\Github Portfolio\\olympic-weightlifting-results\\webscraping_functions.py:299: SettingWithCopyWarning: \n",
      "A value is trying to be set on a copy of a slice from a DataFrame\n",
      "\n",
      "See the caveats in the documentation: http://pandas.pydata.org/pandas-docs/stable/indexing.html#indexing-view-versus-copy\n",
      "  dataframe[\"Nationality\"][iso_dataframe_index] = iso_code\n",
      "C:\\Users\\jacqu\\Desktop\\Github Portfolio\\olympic-weightlifting-results\\webscraping_functions.py:304: SettingWithCopyWarning: \n",
      "A value is trying to be set on a copy of a slice from a DataFrame\n",
      "\n",
      "See the caveats in the documentation: http://pandas.pydata.org/pandas-docs/stable/indexing.html#indexing-view-versus-copy\n",
      "  dataframe[\"Nationality\"][ioc_dataframe_index] = ioc_code\n"
     ]
    },
    {
     "data": {
      "text/html": [
       "<div>\n",
       "<style scoped>\n",
       "    .dataframe tbody tr th:only-of-type {\n",
       "        vertical-align: middle;\n",
       "    }\n",
       "\n",
       "    .dataframe tbody tr th {\n",
       "        vertical-align: top;\n",
       "    }\n",
       "\n",
       "    .dataframe thead th {\n",
       "        text-align: right;\n",
       "    }\n",
       "</style>\n",
       "<table border=\"1\" class=\"dataframe\">\n",
       "  <thead>\n",
       "    <tr style=\"text-align: right;\">\n",
       "      <th></th>\n",
       "      <th>Year</th>\n",
       "      <th>Event</th>\n",
       "      <th>Gender</th>\n",
       "      <th>Comp Rank</th>\n",
       "      <th>Athlete Name</th>\n",
       "      <th>Nationality</th>\n",
       "      <th>Group</th>\n",
       "      <th>Body Weight (kg)</th>\n",
       "      <th>Snatch 1 (kg)</th>\n",
       "      <th>Snatch 2 (kg)</th>\n",
       "      <th>Snatch 3 (kg)</th>\n",
       "      <th>Max Snatch</th>\n",
       "      <th>Snatch Rank</th>\n",
       "      <th>C/J 1 (kg)</th>\n",
       "      <th>C/J 2 (kg)</th>\n",
       "      <th>C/J 3 (kg)</th>\n",
       "      <th>Max C/J</th>\n",
       "      <th>C/J Rank</th>\n",
       "      <th>Total</th>\n",
       "    </tr>\n",
       "  </thead>\n",
       "  <tbody>\n",
       "    <tr>\n",
       "      <th>0</th>\n",
       "      <td>1996</td>\n",
       "      <td>iwf</td>\n",
       "      <td>W</td>\n",
       "      <td>1.0</td>\n",
       "      <td>Wan Ni</td>\n",
       "      <td>CHN</td>\n",
       "      <td>A</td>\n",
       "      <td>84.40</td>\n",
       "      <td>102.5</td>\n",
       "      <td>-107.5</td>\n",
       "      <td>-110.0</td>\n",
       "      <td>102.5</td>\n",
       "      <td>2</td>\n",
       "      <td>130.0</td>\n",
       "      <td>135.0</td>\n",
       "      <td>137.5</td>\n",
       "      <td>137.5</td>\n",
       "      <td>1</td>\n",
       "      <td>240.0</td>\n",
       "    </tr>\n",
       "    <tr>\n",
       "      <th>1</th>\n",
       "      <td>1996</td>\n",
       "      <td>iwf</td>\n",
       "      <td>W</td>\n",
       "      <td>2.0</td>\n",
       "      <td>Karoliina Lundahl</td>\n",
       "      <td>FIN</td>\n",
       "      <td>A</td>\n",
       "      <td>83.10</td>\n",
       "      <td>100.0</td>\n",
       "      <td>105.0</td>\n",
       "      <td>107.5</td>\n",
       "      <td>107.5</td>\n",
       "      <td>1</td>\n",
       "      <td>125.0</td>\n",
       "      <td>-127.5</td>\n",
       "      <td>-127.5</td>\n",
       "      <td>125.0</td>\n",
       "      <td>3</td>\n",
       "      <td>232.5</td>\n",
       "    </tr>\n",
       "    <tr>\n",
       "      <th>2</th>\n",
       "      <td>1996</td>\n",
       "      <td>iwf</td>\n",
       "      <td>W</td>\n",
       "      <td>3.0</td>\n",
       "      <td>Chen Hsiao-lien</td>\n",
       "      <td>TPE</td>\n",
       "      <td>A</td>\n",
       "      <td>100.40</td>\n",
       "      <td>-95.0</td>\n",
       "      <td>-97.5</td>\n",
       "      <td>97.5</td>\n",
       "      <td>97.5</td>\n",
       "      <td>4</td>\n",
       "      <td>130.0</td>\n",
       "      <td>-137.5</td>\n",
       "      <td>-137.5</td>\n",
       "      <td>130.0</td>\n",
       "      <td>2</td>\n",
       "      <td>227.5</td>\n",
       "    </tr>\n",
       "    <tr>\n",
       "      <th>3</th>\n",
       "      <td>1996</td>\n",
       "      <td>iwf</td>\n",
       "      <td>W</td>\n",
       "      <td>4.0</td>\n",
       "      <td>Sylvie Iskin</td>\n",
       "      <td>FRA</td>\n",
       "      <td>A</td>\n",
       "      <td>96.85</td>\n",
       "      <td>-100.0</td>\n",
       "      <td>100.0</td>\n",
       "      <td>102.5</td>\n",
       "      <td>102.5</td>\n",
       "      <td>2</td>\n",
       "      <td>117.5</td>\n",
       "      <td>-122.5</td>\n",
       "      <td>122.5</td>\n",
       "      <td>122.5</td>\n",
       "      <td>4</td>\n",
       "      <td>225.0</td>\n",
       "    </tr>\n",
       "    <tr>\n",
       "      <th>4</th>\n",
       "      <td>1996</td>\n",
       "      <td>iwf</td>\n",
       "      <td>W</td>\n",
       "      <td>5.0</td>\n",
       "      <td>Erika TakÃƒÂ¡cs</td>\n",
       "      <td>HUN</td>\n",
       "      <td>A</td>\n",
       "      <td>96.00</td>\n",
       "      <td>97.5</td>\n",
       "      <td>-100.0</td>\n",
       "      <td>-100.0</td>\n",
       "      <td>97.5</td>\n",
       "      <td>4</td>\n",
       "      <td>120.0</td>\n",
       "      <td>-125.0</td>\n",
       "      <td>-125.0</td>\n",
       "      <td>120.0</td>\n",
       "      <td>5</td>\n",
       "      <td>217.5</td>\n",
       "    </tr>\n",
       "  </tbody>\n",
       "</table>\n",
       "</div>"
      ],
      "text/plain": [
       "   Year Event Gender  Comp Rank       Athlete Name Nationality Group  \\\n",
       "0  1996   iwf      W        1.0             Wan Ni         CHN     A   \n",
       "1  1996   iwf      W        2.0  Karoliina Lundahl         FIN     A   \n",
       "2  1996   iwf      W        3.0    Chen Hsiao-lien         TPE     A   \n",
       "3  1996   iwf      W        4.0       Sylvie Iskin         FRA     A   \n",
       "4  1996   iwf      W        5.0    Erika TakÃƒÂ¡cs         HUN     A   \n",
       "\n",
       "   Body Weight (kg)  Snatch 1 (kg)  Snatch 2 (kg)  Snatch 3 (kg)  Max Snatch  \\\n",
       "0             84.40          102.5         -107.5         -110.0       102.5   \n",
       "1             83.10          100.0          105.0          107.5       107.5   \n",
       "2            100.40          -95.0          -97.5           97.5        97.5   \n",
       "3             96.85         -100.0          100.0          102.5       102.5   \n",
       "4             96.00           97.5         -100.0         -100.0        97.5   \n",
       "\n",
       "   Snatch Rank  C/J 1 (kg)  C/J 2 (kg)  C/J 3 (kg)  Max C/J  C/J Rank  Total  \n",
       "0            2       130.0       135.0       137.5    137.5         1  240.0  \n",
       "1            1       125.0      -127.5      -127.5    125.0         3  232.5  \n",
       "2            4       130.0      -137.5      -137.5    130.0         2  227.5  \n",
       "3            2       117.5      -122.5       122.5    122.5         4  225.0  \n",
       "4            4       120.0      -125.0      -125.0    120.0         5  217.5  "
      ]
     },
     "execution_count": 4,
     "metadata": {},
     "output_type": "execute_result"
    }
   ],
   "source": [
    "df.drop(columns =[\"Unnamed: 0\"], inplace = True)\n",
    "df[\"Body Weight (kg)\"] = wf.ResultsCleanup.string_to_float(df[\"Body Weight (kg)\"].values.tolist())\n",
    "df[\"Snatch 1 (kg)\"] = wf.ResultsCleanup.string_to_float(df[\"Snatch 1 (kg)\"].values.tolist())\n",
    "df[\"Snatch 2 (kg)\"] = wf.ResultsCleanup.string_to_float(df[\"Snatch 2 (kg)\"].values.tolist())\n",
    "df[\"Snatch 3 (kg)\"] = wf.ResultsCleanup.string_to_float(df[\"Snatch 3 (kg)\"].values.tolist())\n",
    "df[\"C/J 1 (kg)\"] = wf.ResultsCleanup.string_to_float(df[\"C/J 1 (kg)\"].values.tolist())\n",
    "df[\"C/J 2 (kg)\"] = wf.ResultsCleanup.string_to_float(df[\"C/J 2 (kg)\"].values.tolist())\n",
    "df[\"C/J 3 (kg)\"] = wf.ResultsCleanup.string_to_float(df[\"C/J 3 (kg)\"].values.tolist())\n",
    "df[\"Max Snatch\"] = wf.ResultsCleanup.string_to_float(df[\"Max Snatch\"].values.tolist())\n",
    "df[\"Max C/J\"] = wf.ResultsCleanup.string_to_float(df[\"Max C/J\"].values.tolist())\n",
    "df[\"Total\"] = wf.ResultsCleanup.string_to_float(df[\"Total\"].values.tolist())\n",
    "df[\"Nationality\"] = df[\"Nationality\"].str.strip(\")\")\n",
    "# wf.CheckFunctions.change_nation_code(df)\n",
    "df = wf.datatable_cleanup.country_code_cleanup(df)\n",
    "df.fillna(0, inplace=True)\n",
    "df.head()"
   ]
  },
  {
   "cell_type": "code",
   "execution_count": 5,
   "metadata": {},
   "outputs": [
    {
     "data": {
      "text/html": [
       "<div>\n",
       "<style scoped>\n",
       "    .dataframe tbody tr th:only-of-type {\n",
       "        vertical-align: middle;\n",
       "    }\n",
       "\n",
       "    .dataframe tbody tr th {\n",
       "        vertical-align: top;\n",
       "    }\n",
       "\n",
       "    .dataframe thead th {\n",
       "        text-align: right;\n",
       "    }\n",
       "</style>\n",
       "<table border=\"1\" class=\"dataframe\">\n",
       "  <thead>\n",
       "    <tr style=\"text-align: right;\">\n",
       "      <th></th>\n",
       "      <th>Year</th>\n",
       "      <th>Event</th>\n",
       "      <th>Gender</th>\n",
       "      <th>Comp Rank</th>\n",
       "      <th>Athlete Name</th>\n",
       "      <th>Nationality</th>\n",
       "      <th>Group</th>\n",
       "      <th>Body Weight (kg)</th>\n",
       "      <th>Snatch 1 (kg)</th>\n",
       "      <th>Snatch 2 (kg)</th>\n",
       "      <th>Snatch 3 (kg)</th>\n",
       "      <th>Max Snatch</th>\n",
       "      <th>Snatch Rank</th>\n",
       "      <th>C/J 1 (kg)</th>\n",
       "      <th>C/J 2 (kg)</th>\n",
       "      <th>C/J 3 (kg)</th>\n",
       "      <th>Max C/J</th>\n",
       "      <th>C/J Rank</th>\n",
       "      <th>Total</th>\n",
       "    </tr>\n",
       "  </thead>\n",
       "  <tbody>\n",
       "    <tr>\n",
       "      <th>10198</th>\n",
       "      <td>2016</td>\n",
       "      <td>oly</td>\n",
       "      <td>W</td>\n",
       "      <td>0.0</td>\n",
       "      <td>Jaqueline Ferreira</td>\n",
       "      <td>BRA</td>\n",
       "      <td>A</td>\n",
       "      <td>74.89</td>\n",
       "      <td>-103.0</td>\n",
       "      <td>-103.0</td>\n",
       "      <td>-103.0</td>\n",
       "      <td>-103.0</td>\n",
       "      <td>15</td>\n",
       "      <td>0.0</td>\n",
       "      <td>0.0</td>\n",
       "      <td>0.0</td>\n",
       "      <td>0.0</td>\n",
       "      <td>15</td>\n",
       "      <td>0.0</td>\n",
       "    </tr>\n",
       "    <tr>\n",
       "      <th>10197</th>\n",
       "      <td>2016</td>\n",
       "      <td>oly</td>\n",
       "      <td>W</td>\n",
       "      <td>14.0</td>\n",
       "      <td>Samira Ouass</td>\n",
       "      <td>MAR</td>\n",
       "      <td>B</td>\n",
       "      <td>73.68</td>\n",
       "      <td>70.0</td>\n",
       "      <td>75.0</td>\n",
       "      <td>-80.0</td>\n",
       "      <td>75.0</td>\n",
       "      <td>14</td>\n",
       "      <td>90.0</td>\n",
       "      <td>-96.0</td>\n",
       "      <td>97.0</td>\n",
       "      <td>97.0</td>\n",
       "      <td>14</td>\n",
       "      <td>172.0</td>\n",
       "    </tr>\n",
       "    <tr>\n",
       "      <th>10196</th>\n",
       "      <td>2016</td>\n",
       "      <td>oly</td>\n",
       "      <td>W</td>\n",
       "      <td>13.0</td>\n",
       "      <td>Assiya Ã„Â°pek</td>\n",
       "      <td>TUR</td>\n",
       "      <td>B</td>\n",
       "      <td>69.77</td>\n",
       "      <td>80.0</td>\n",
       "      <td>83.0</td>\n",
       "      <td>-85.0</td>\n",
       "      <td>83.0</td>\n",
       "      <td>13</td>\n",
       "      <td>95.0</td>\n",
       "      <td>100.0</td>\n",
       "      <td>103.0</td>\n",
       "      <td>103.0</td>\n",
       "      <td>13</td>\n",
       "      <td>186.0</td>\n",
       "    </tr>\n",
       "    <tr>\n",
       "      <th>10195</th>\n",
       "      <td>2016</td>\n",
       "      <td>oly</td>\n",
       "      <td>W</td>\n",
       "      <td>12.0</td>\n",
       "      <td>Natalia PriÃˆâ„¢cepa</td>\n",
       "      <td>MDA</td>\n",
       "      <td>B</td>\n",
       "      <td>73.72</td>\n",
       "      <td>93.0</td>\n",
       "      <td>97.0</td>\n",
       "      <td>-100.0</td>\n",
       "      <td>97.0</td>\n",
       "      <td>11</td>\n",
       "      <td>110.0</td>\n",
       "      <td>116.0</td>\n",
       "      <td>-123.0</td>\n",
       "      <td>116.0</td>\n",
       "      <td>12</td>\n",
       "      <td>213.0</td>\n",
       "    </tr>\n",
       "    <tr>\n",
       "      <th>10194</th>\n",
       "      <td>2016</td>\n",
       "      <td>oly</td>\n",
       "      <td>W</td>\n",
       "      <td>11.0</td>\n",
       "      <td>Mary Opeloge</td>\n",
       "      <td>WSM</td>\n",
       "      <td>B</td>\n",
       "      <td>74.56</td>\n",
       "      <td>97.0</td>\n",
       "      <td>100.0</td>\n",
       "      <td>-102.0</td>\n",
       "      <td>100.0</td>\n",
       "      <td>9</td>\n",
       "      <td>115.0</td>\n",
       "      <td>117.0</td>\n",
       "      <td>118.0</td>\n",
       "      <td>118.0</td>\n",
       "      <td>11</td>\n",
       "      <td>218.0</td>\n",
       "    </tr>\n",
       "  </tbody>\n",
       "</table>\n",
       "</div>"
      ],
      "text/plain": [
       "       Year Event Gender  Comp Rank          Athlete Name Nationality Group  \\\n",
       "10198  2016   oly      W        0.0    Jaqueline Ferreira         BRA     A   \n",
       "10197  2016   oly      W       14.0          Samira Ouass         MAR     B   \n",
       "10196  2016   oly      W       13.0        Assiya Ã„Â°pek         TUR     B   \n",
       "10195  2016   oly      W       12.0  Natalia PriÃˆâ„¢cepa         MDA     B   \n",
       "10194  2016   oly      W       11.0          Mary Opeloge         WSM     B   \n",
       "\n",
       "       Body Weight (kg)  Snatch 1 (kg)  Snatch 2 (kg)  Snatch 3 (kg)  \\\n",
       "10198             74.89         -103.0         -103.0         -103.0   \n",
       "10197             73.68           70.0           75.0          -80.0   \n",
       "10196             69.77           80.0           83.0          -85.0   \n",
       "10195             73.72           93.0           97.0         -100.0   \n",
       "10194             74.56           97.0          100.0         -102.0   \n",
       "\n",
       "       Max Snatch  Snatch Rank  C/J 1 (kg)  C/J 2 (kg)  C/J 3 (kg)  Max C/J  \\\n",
       "10198      -103.0           15         0.0         0.0         0.0      0.0   \n",
       "10197        75.0           14        90.0       -96.0        97.0     97.0   \n",
       "10196        83.0           13        95.0       100.0       103.0    103.0   \n",
       "10195        97.0           11       110.0       116.0      -123.0    116.0   \n",
       "10194       100.0            9       115.0       117.0       118.0    118.0   \n",
       "\n",
       "       C/J Rank  Total  \n",
       "10198        15    0.0  \n",
       "10197        14  172.0  \n",
       "10196        13  186.0  \n",
       "10195        12  213.0  \n",
       "10194        11  218.0  "
      ]
     },
     "execution_count": 5,
     "metadata": {},
     "output_type": "execute_result"
    }
   ],
   "source": [
    "df[::-1].head()"
   ]
  },
  {
   "cell_type": "code",
   "execution_count": 6,
   "metadata": {},
   "outputs": [
    {
     "data": {
      "text/plain": [
       "176"
      ]
     },
     "execution_count": 6,
     "metadata": {},
     "output_type": "execute_result"
    }
   ],
   "source": [
    "df[\"Nationality\"].nunique()"
   ]
  },
  {
   "cell_type": "code",
   "execution_count": 7,
   "metadata": {},
   "outputs": [
    {
     "data": {
      "text/plain": [
       "CHN    361\n",
       "JPN    307\n",
       "RUS    305\n",
       "USA    300\n",
       "POL    285\n",
       "COL    273\n",
       "KOR    263\n",
       "TUR    260\n",
       "TPE    249\n",
       "UKR    237\n",
       "Name: Nationality, dtype: int64"
      ]
     },
     "execution_count": 7,
     "metadata": {},
     "output_type": "execute_result"
    }
   ],
   "source": [
    "df[\"Nationality\"].value_counts().head(10)"
   ]
  },
  {
   "cell_type": "code",
   "execution_count": 8,
   "metadata": {},
   "outputs": [
    {
     "data": {
      "text/html": [
       "<div>\n",
       "<style scoped>\n",
       "    .dataframe tbody tr th:only-of-type {\n",
       "        vertical-align: middle;\n",
       "    }\n",
       "\n",
       "    .dataframe tbody tr th {\n",
       "        vertical-align: top;\n",
       "    }\n",
       "\n",
       "    .dataframe thead th {\n",
       "        text-align: right;\n",
       "    }\n",
       "</style>\n",
       "<table border=\"1\" class=\"dataframe\">\n",
       "  <thead>\n",
       "    <tr style=\"text-align: right;\">\n",
       "      <th></th>\n",
       "      <th>Year</th>\n",
       "      <th>Event</th>\n",
       "      <th>Gender</th>\n",
       "      <th>Comp Rank</th>\n",
       "      <th>Athlete Name</th>\n",
       "      <th>Nationality</th>\n",
       "      <th>Group</th>\n",
       "      <th>Body Weight (kg)</th>\n",
       "      <th>Snatch 1 (kg)</th>\n",
       "      <th>Snatch 2 (kg)</th>\n",
       "      <th>Snatch 3 (kg)</th>\n",
       "      <th>Max Snatch</th>\n",
       "      <th>Snatch Rank</th>\n",
       "      <th>C/J 1 (kg)</th>\n",
       "      <th>C/J 2 (kg)</th>\n",
       "      <th>C/J 3 (kg)</th>\n",
       "      <th>Max C/J</th>\n",
       "      <th>C/J Rank</th>\n",
       "      <th>Total</th>\n",
       "    </tr>\n",
       "  </thead>\n",
       "  <tbody>\n",
       "    <tr>\n",
       "      <th>102</th>\n",
       "      <td>1997</td>\n",
       "      <td>iwf</td>\n",
       "      <td>M</td>\n",
       "      <td>1.0</td>\n",
       "      <td>Andrey Chemerkin</td>\n",
       "      <td>RUS</td>\n",
       "      <td>A</td>\n",
       "      <td>170.30</td>\n",
       "      <td>185.0</td>\n",
       "      <td>195.0</td>\n",
       "      <td>200.0</td>\n",
       "      <td>200.0</td>\n",
       "      <td>1</td>\n",
       "      <td>240.0</td>\n",
       "      <td>250.0</td>\n",
       "      <td>262.5</td>\n",
       "      <td>262.5</td>\n",
       "      <td>1</td>\n",
       "      <td>462.5</td>\n",
       "    </tr>\n",
       "    <tr>\n",
       "      <th>103</th>\n",
       "      <td>1997</td>\n",
       "      <td>iwf</td>\n",
       "      <td>M</td>\n",
       "      <td>2.0</td>\n",
       "      <td>Ronny Weller</td>\n",
       "      <td>GER</td>\n",
       "      <td>A</td>\n",
       "      <td>138.40</td>\n",
       "      <td>195.0</td>\n",
       "      <td>200.0</td>\n",
       "      <td>-205.5</td>\n",
       "      <td>200.0</td>\n",
       "      <td>1</td>\n",
       "      <td>242.5</td>\n",
       "      <td>250.0</td>\n",
       "      <td>-262.5</td>\n",
       "      <td>250.0</td>\n",
       "      <td>2</td>\n",
       "      <td>450.0</td>\n",
       "    </tr>\n",
       "    <tr>\n",
       "      <th>104</th>\n",
       "      <td>1997</td>\n",
       "      <td>iwf</td>\n",
       "      <td>M</td>\n",
       "      <td>3.0</td>\n",
       "      <td>Viktors Ã…Â Ã„ï¿½erbatihs</td>\n",
       "      <td>LAT</td>\n",
       "      <td>A</td>\n",
       "      <td>118.45</td>\n",
       "      <td>182.5</td>\n",
       "      <td>187.5</td>\n",
       "      <td>-190.0</td>\n",
       "      <td>187.5</td>\n",
       "      <td>3</td>\n",
       "      <td>220.0</td>\n",
       "      <td>225.0</td>\n",
       "      <td>-240.0</td>\n",
       "      <td>225.0</td>\n",
       "      <td>3</td>\n",
       "      <td>412.5</td>\n",
       "    </tr>\n",
       "    <tr>\n",
       "      <th>105</th>\n",
       "      <td>1997</td>\n",
       "      <td>iwf</td>\n",
       "      <td>M</td>\n",
       "      <td>4.0</td>\n",
       "      <td>Tibor Stark</td>\n",
       "      <td>HUN</td>\n",
       "      <td>A</td>\n",
       "      <td>134.65</td>\n",
       "      <td>180.0</td>\n",
       "      <td>185.0</td>\n",
       "      <td>-190.0</td>\n",
       "      <td>185.0</td>\n",
       "      <td>4</td>\n",
       "      <td>215.0</td>\n",
       "      <td>220.0</td>\n",
       "      <td>-225.0</td>\n",
       "      <td>220.0</td>\n",
       "      <td>6</td>\n",
       "      <td>405.0</td>\n",
       "    </tr>\n",
       "    <tr>\n",
       "      <th>106</th>\n",
       "      <td>1997</td>\n",
       "      <td>iwf</td>\n",
       "      <td>M</td>\n",
       "      <td>5.0</td>\n",
       "      <td>Anders BergstrÃƒÂ¶m</td>\n",
       "      <td>SWE</td>\n",
       "      <td>A</td>\n",
       "      <td>130.20</td>\n",
       "      <td>-175.0</td>\n",
       "      <td>175.0</td>\n",
       "      <td>-180.0</td>\n",
       "      <td>175.0</td>\n",
       "      <td>6</td>\n",
       "      <td>220.0</td>\n",
       "      <td>225.0</td>\n",
       "      <td>-232.5</td>\n",
       "      <td>225.0</td>\n",
       "      <td>3</td>\n",
       "      <td>400.0</td>\n",
       "    </tr>\n",
       "  </tbody>\n",
       "</table>\n",
       "</div>"
      ],
      "text/plain": [
       "     Year Event Gender  Comp Rank               Athlete Name Nationality  \\\n",
       "102  1997   iwf      M        1.0           Andrey Chemerkin         RUS   \n",
       "103  1997   iwf      M        2.0               Ronny Weller         GER   \n",
       "104  1997   iwf      M        3.0  Viktors Ã…Â Ã„ï¿½erbatihs         LAT   \n",
       "105  1997   iwf      M        4.0                Tibor Stark         HUN   \n",
       "106  1997   iwf      M        5.0        Anders BergstrÃƒÂ¶m         SWE   \n",
       "\n",
       "    Group  Body Weight (kg)  Snatch 1 (kg)  Snatch 2 (kg)  Snatch 3 (kg)  \\\n",
       "102     A            170.30          185.0          195.0          200.0   \n",
       "103     A            138.40          195.0          200.0         -205.5   \n",
       "104     A            118.45          182.5          187.5         -190.0   \n",
       "105     A            134.65          180.0          185.0         -190.0   \n",
       "106     A            130.20         -175.0          175.0         -180.0   \n",
       "\n",
       "     Max Snatch  Snatch Rank  C/J 1 (kg)  C/J 2 (kg)  C/J 3 (kg)  Max C/J  \\\n",
       "102       200.0            1       240.0       250.0       262.5    262.5   \n",
       "103       200.0            1       242.5       250.0      -262.5    250.0   \n",
       "104       187.5            3       220.0       225.0      -240.0    225.0   \n",
       "105       185.0            4       215.0       220.0      -225.0    220.0   \n",
       "106       175.0            6       220.0       225.0      -232.5    225.0   \n",
       "\n",
       "     C/J Rank  Total  \n",
       "102         1  462.5  \n",
       "103         2  450.0  \n",
       "104         3  412.5  \n",
       "105         6  405.0  \n",
       "106         3  400.0  "
      ]
     },
     "execution_count": 8,
     "metadata": {},
     "output_type": "execute_result"
    }
   ],
   "source": [
    "df_men = df[df[\"Gender\"] == \"M\"]\n",
    "df_men.head()"
   ]
  },
  {
   "cell_type": "code",
   "execution_count": 38,
   "metadata": {},
   "outputs": [
    {
     "data": {
      "text/html": [
       "<div>\n",
       "<style scoped>\n",
       "    .dataframe tbody tr th:only-of-type {\n",
       "        vertical-align: middle;\n",
       "    }\n",
       "\n",
       "    .dataframe tbody tr th {\n",
       "        vertical-align: top;\n",
       "    }\n",
       "\n",
       "    .dataframe thead th {\n",
       "        text-align: right;\n",
       "    }\n",
       "</style>\n",
       "<table border=\"1\" class=\"dataframe\">\n",
       "  <thead>\n",
       "    <tr style=\"text-align: right;\">\n",
       "      <th></th>\n",
       "      <th>Year</th>\n",
       "      <th>Event</th>\n",
       "      <th>Gender</th>\n",
       "      <th>Comp Rank</th>\n",
       "      <th>Athlete Name</th>\n",
       "      <th>Nationality</th>\n",
       "      <th>Group</th>\n",
       "      <th>Body Weight (kg)</th>\n",
       "      <th>Snatch 1 (kg)</th>\n",
       "      <th>Snatch 2 (kg)</th>\n",
       "      <th>Snatch 3 (kg)</th>\n",
       "      <th>Max Snatch</th>\n",
       "      <th>Snatch Rank</th>\n",
       "      <th>C/J 1 (kg)</th>\n",
       "      <th>C/J 2 (kg)</th>\n",
       "      <th>C/J 3 (kg)</th>\n",
       "      <th>Max C/J</th>\n",
       "      <th>C/J Rank</th>\n",
       "      <th>Total</th>\n",
       "    </tr>\n",
       "  </thead>\n",
       "  <tbody>\n",
       "    <tr>\n",
       "      <th>102</th>\n",
       "      <td>1997</td>\n",
       "      <td>iwf</td>\n",
       "      <td>M</td>\n",
       "      <td>1.0</td>\n",
       "      <td>Andrey Chemerkin</td>\n",
       "      <td>RUS</td>\n",
       "      <td>A</td>\n",
       "      <td>170.30</td>\n",
       "      <td>185.0</td>\n",
       "      <td>195.0</td>\n",
       "      <td>200.0</td>\n",
       "      <td>200.0</td>\n",
       "      <td>1</td>\n",
       "      <td>240.0</td>\n",
       "      <td>250.0</td>\n",
       "      <td>262.5</td>\n",
       "      <td>262.5</td>\n",
       "      <td>1</td>\n",
       "      <td>462.5</td>\n",
       "    </tr>\n",
       "    <tr>\n",
       "      <th>103</th>\n",
       "      <td>1997</td>\n",
       "      <td>iwf</td>\n",
       "      <td>M</td>\n",
       "      <td>2.0</td>\n",
       "      <td>Ronny Weller</td>\n",
       "      <td>GER</td>\n",
       "      <td>A</td>\n",
       "      <td>138.40</td>\n",
       "      <td>195.0</td>\n",
       "      <td>200.0</td>\n",
       "      <td>-205.5</td>\n",
       "      <td>200.0</td>\n",
       "      <td>1</td>\n",
       "      <td>242.5</td>\n",
       "      <td>250.0</td>\n",
       "      <td>-262.5</td>\n",
       "      <td>250.0</td>\n",
       "      <td>2</td>\n",
       "      <td>450.0</td>\n",
       "    </tr>\n",
       "    <tr>\n",
       "      <th>104</th>\n",
       "      <td>1997</td>\n",
       "      <td>iwf</td>\n",
       "      <td>M</td>\n",
       "      <td>3.0</td>\n",
       "      <td>Viktors Ã…Â Ã„ï¿½erbatihs</td>\n",
       "      <td>LAT</td>\n",
       "      <td>A</td>\n",
       "      <td>118.45</td>\n",
       "      <td>182.5</td>\n",
       "      <td>187.5</td>\n",
       "      <td>-190.0</td>\n",
       "      <td>187.5</td>\n",
       "      <td>3</td>\n",
       "      <td>220.0</td>\n",
       "      <td>225.0</td>\n",
       "      <td>-240.0</td>\n",
       "      <td>225.0</td>\n",
       "      <td>3</td>\n",
       "      <td>412.5</td>\n",
       "    </tr>\n",
       "    <tr>\n",
       "      <th>105</th>\n",
       "      <td>1997</td>\n",
       "      <td>iwf</td>\n",
       "      <td>M</td>\n",
       "      <td>4.0</td>\n",
       "      <td>Tibor Stark</td>\n",
       "      <td>HUN</td>\n",
       "      <td>A</td>\n",
       "      <td>134.65</td>\n",
       "      <td>180.0</td>\n",
       "      <td>185.0</td>\n",
       "      <td>-190.0</td>\n",
       "      <td>185.0</td>\n",
       "      <td>4</td>\n",
       "      <td>215.0</td>\n",
       "      <td>220.0</td>\n",
       "      <td>-225.0</td>\n",
       "      <td>220.0</td>\n",
       "      <td>6</td>\n",
       "      <td>405.0</td>\n",
       "    </tr>\n",
       "    <tr>\n",
       "      <th>106</th>\n",
       "      <td>1997</td>\n",
       "      <td>iwf</td>\n",
       "      <td>M</td>\n",
       "      <td>5.0</td>\n",
       "      <td>Anders BergstrÃƒÂ¶m</td>\n",
       "      <td>SWE</td>\n",
       "      <td>A</td>\n",
       "      <td>130.20</td>\n",
       "      <td>-175.0</td>\n",
       "      <td>175.0</td>\n",
       "      <td>-180.0</td>\n",
       "      <td>175.0</td>\n",
       "      <td>6</td>\n",
       "      <td>220.0</td>\n",
       "      <td>225.0</td>\n",
       "      <td>-232.5</td>\n",
       "      <td>225.0</td>\n",
       "      <td>3</td>\n",
       "      <td>400.0</td>\n",
       "    </tr>\n",
       "  </tbody>\n",
       "</table>\n",
       "</div>"
      ],
      "text/plain": [
       "     Year Event Gender  Comp Rank               Athlete Name Nationality  \\\n",
       "102  1997   iwf      M        1.0           Andrey Chemerkin         RUS   \n",
       "103  1997   iwf      M        2.0               Ronny Weller         GER   \n",
       "104  1997   iwf      M        3.0  Viktors Ã…Â Ã„ï¿½erbatihs         LAT   \n",
       "105  1997   iwf      M        4.0                Tibor Stark         HUN   \n",
       "106  1997   iwf      M        5.0        Anders BergstrÃƒÂ¶m         SWE   \n",
       "\n",
       "    Group  Body Weight (kg)  Snatch 1 (kg)  Snatch 2 (kg)  Snatch 3 (kg)  \\\n",
       "102     A            170.30          185.0          195.0          200.0   \n",
       "103     A            138.40          195.0          200.0         -205.5   \n",
       "104     A            118.45          182.5          187.5         -190.0   \n",
       "105     A            134.65          180.0          185.0         -190.0   \n",
       "106     A            130.20         -175.0          175.0         -180.0   \n",
       "\n",
       "     Max Snatch  Snatch Rank  C/J 1 (kg)  C/J 2 (kg)  C/J 3 (kg)  Max C/J  \\\n",
       "102       200.0            1       240.0       250.0       262.5    262.5   \n",
       "103       200.0            1       242.5       250.0      -262.5    250.0   \n",
       "104       187.5            3       220.0       225.0      -240.0    225.0   \n",
       "105       185.0            4       215.0       220.0      -225.0    220.0   \n",
       "106       175.0            6       220.0       225.0      -232.5    225.0   \n",
       "\n",
       "     C/J Rank  Total  \n",
       "102         1  462.5  \n",
       "103         2  450.0  \n",
       "104         3  412.5  \n",
       "105         6  405.0  \n",
       "106         3  400.0  "
      ]
     },
     "execution_count": 38,
     "metadata": {},
     "output_type": "execute_result"
    }
   ],
   "source": [
    "df_men[df_men[\"Body Weight (kg)\"] > 0].head()"
   ]
  },
  {
   "cell_type": "code",
   "execution_count": 9,
   "metadata": {},
   "outputs": [
    {
     "data": {
      "text/html": [
       "<div>\n",
       "<style scoped>\n",
       "    .dataframe tbody tr th:only-of-type {\n",
       "        vertical-align: middle;\n",
       "    }\n",
       "\n",
       "    .dataframe tbody tr th {\n",
       "        vertical-align: top;\n",
       "    }\n",
       "\n",
       "    .dataframe thead th {\n",
       "        text-align: right;\n",
       "    }\n",
       "</style>\n",
       "<table border=\"1\" class=\"dataframe\">\n",
       "  <thead>\n",
       "    <tr style=\"text-align: right;\">\n",
       "      <th></th>\n",
       "      <th>Year</th>\n",
       "      <th>Event</th>\n",
       "      <th>Gender</th>\n",
       "      <th>Comp Rank</th>\n",
       "      <th>Athlete Name</th>\n",
       "      <th>Nationality</th>\n",
       "      <th>Group</th>\n",
       "      <th>Body Weight (kg)</th>\n",
       "      <th>Snatch 1 (kg)</th>\n",
       "      <th>Snatch 2 (kg)</th>\n",
       "      <th>Snatch 3 (kg)</th>\n",
       "      <th>Max Snatch</th>\n",
       "      <th>Snatch Rank</th>\n",
       "      <th>C/J 1 (kg)</th>\n",
       "      <th>C/J 2 (kg)</th>\n",
       "      <th>C/J 3 (kg)</th>\n",
       "      <th>Max C/J</th>\n",
       "      <th>C/J Rank</th>\n",
       "      <th>Total</th>\n",
       "    </tr>\n",
       "  </thead>\n",
       "  <tbody>\n",
       "    <tr>\n",
       "      <th>0</th>\n",
       "      <td>1996</td>\n",
       "      <td>iwf</td>\n",
       "      <td>W</td>\n",
       "      <td>1.0</td>\n",
       "      <td>Wan Ni</td>\n",
       "      <td>CHN</td>\n",
       "      <td>A</td>\n",
       "      <td>84.40</td>\n",
       "      <td>102.5</td>\n",
       "      <td>-107.5</td>\n",
       "      <td>-110.0</td>\n",
       "      <td>102.5</td>\n",
       "      <td>2</td>\n",
       "      <td>130.0</td>\n",
       "      <td>135.0</td>\n",
       "      <td>137.5</td>\n",
       "      <td>137.5</td>\n",
       "      <td>1</td>\n",
       "      <td>240.0</td>\n",
       "    </tr>\n",
       "    <tr>\n",
       "      <th>1</th>\n",
       "      <td>1996</td>\n",
       "      <td>iwf</td>\n",
       "      <td>W</td>\n",
       "      <td>2.0</td>\n",
       "      <td>Karoliina Lundahl</td>\n",
       "      <td>FIN</td>\n",
       "      <td>A</td>\n",
       "      <td>83.10</td>\n",
       "      <td>100.0</td>\n",
       "      <td>105.0</td>\n",
       "      <td>107.5</td>\n",
       "      <td>107.5</td>\n",
       "      <td>1</td>\n",
       "      <td>125.0</td>\n",
       "      <td>-127.5</td>\n",
       "      <td>-127.5</td>\n",
       "      <td>125.0</td>\n",
       "      <td>3</td>\n",
       "      <td>232.5</td>\n",
       "    </tr>\n",
       "    <tr>\n",
       "      <th>2</th>\n",
       "      <td>1996</td>\n",
       "      <td>iwf</td>\n",
       "      <td>W</td>\n",
       "      <td>3.0</td>\n",
       "      <td>Chen Hsiao-lien</td>\n",
       "      <td>TPE</td>\n",
       "      <td>A</td>\n",
       "      <td>100.40</td>\n",
       "      <td>-95.0</td>\n",
       "      <td>-97.5</td>\n",
       "      <td>97.5</td>\n",
       "      <td>97.5</td>\n",
       "      <td>4</td>\n",
       "      <td>130.0</td>\n",
       "      <td>-137.5</td>\n",
       "      <td>-137.5</td>\n",
       "      <td>130.0</td>\n",
       "      <td>2</td>\n",
       "      <td>227.5</td>\n",
       "    </tr>\n",
       "    <tr>\n",
       "      <th>3</th>\n",
       "      <td>1996</td>\n",
       "      <td>iwf</td>\n",
       "      <td>W</td>\n",
       "      <td>4.0</td>\n",
       "      <td>Sylvie Iskin</td>\n",
       "      <td>FRA</td>\n",
       "      <td>A</td>\n",
       "      <td>96.85</td>\n",
       "      <td>-100.0</td>\n",
       "      <td>100.0</td>\n",
       "      <td>102.5</td>\n",
       "      <td>102.5</td>\n",
       "      <td>2</td>\n",
       "      <td>117.5</td>\n",
       "      <td>-122.5</td>\n",
       "      <td>122.5</td>\n",
       "      <td>122.5</td>\n",
       "      <td>4</td>\n",
       "      <td>225.0</td>\n",
       "    </tr>\n",
       "    <tr>\n",
       "      <th>4</th>\n",
       "      <td>1996</td>\n",
       "      <td>iwf</td>\n",
       "      <td>W</td>\n",
       "      <td>5.0</td>\n",
       "      <td>Erika TakÃƒÂ¡cs</td>\n",
       "      <td>HUN</td>\n",
       "      <td>A</td>\n",
       "      <td>96.00</td>\n",
       "      <td>97.5</td>\n",
       "      <td>-100.0</td>\n",
       "      <td>-100.0</td>\n",
       "      <td>97.5</td>\n",
       "      <td>4</td>\n",
       "      <td>120.0</td>\n",
       "      <td>-125.0</td>\n",
       "      <td>-125.0</td>\n",
       "      <td>120.0</td>\n",
       "      <td>5</td>\n",
       "      <td>217.5</td>\n",
       "    </tr>\n",
       "  </tbody>\n",
       "</table>\n",
       "</div>"
      ],
      "text/plain": [
       "   Year Event Gender  Comp Rank       Athlete Name Nationality Group  \\\n",
       "0  1996   iwf      W        1.0             Wan Ni         CHN     A   \n",
       "1  1996   iwf      W        2.0  Karoliina Lundahl         FIN     A   \n",
       "2  1996   iwf      W        3.0    Chen Hsiao-lien         TPE     A   \n",
       "3  1996   iwf      W        4.0       Sylvie Iskin         FRA     A   \n",
       "4  1996   iwf      W        5.0    Erika TakÃƒÂ¡cs         HUN     A   \n",
       "\n",
       "   Body Weight (kg)  Snatch 1 (kg)  Snatch 2 (kg)  Snatch 3 (kg)  Max Snatch  \\\n",
       "0             84.40          102.5         -107.5         -110.0       102.5   \n",
       "1             83.10          100.0          105.0          107.5       107.5   \n",
       "2            100.40          -95.0          -97.5           97.5        97.5   \n",
       "3             96.85         -100.0          100.0          102.5       102.5   \n",
       "4             96.00           97.5         -100.0         -100.0        97.5   \n",
       "\n",
       "   Snatch Rank  C/J 1 (kg)  C/J 2 (kg)  C/J 3 (kg)  Max C/J  C/J Rank  Total  \n",
       "0            2       130.0       135.0       137.5    137.5         1  240.0  \n",
       "1            1       125.0      -127.5      -127.5    125.0         3  232.5  \n",
       "2            4       130.0      -137.5      -137.5    130.0         2  227.5  \n",
       "3            2       117.5      -122.5       122.5    122.5         4  225.0  \n",
       "4            4       120.0      -125.0      -125.0    120.0         5  217.5  "
      ]
     },
     "execution_count": 9,
     "metadata": {},
     "output_type": "execute_result"
    }
   ],
   "source": [
    "df_women = df[df[\"Gender\"] == \"W\"]\n",
    "df_women.head()"
   ]
  },
  {
   "cell_type": "code",
   "execution_count": 10,
   "metadata": {},
   "outputs": [
    {
     "data": {
      "text/html": [
       "<div>\n",
       "<style scoped>\n",
       "    .dataframe tbody tr th:only-of-type {\n",
       "        vertical-align: middle;\n",
       "    }\n",
       "\n",
       "    .dataframe tbody tr th {\n",
       "        vertical-align: top;\n",
       "    }\n",
       "\n",
       "    .dataframe thead th {\n",
       "        text-align: right;\n",
       "    }\n",
       "</style>\n",
       "<table border=\"1\" class=\"dataframe\">\n",
       "  <thead>\n",
       "    <tr style=\"text-align: right;\">\n",
       "      <th></th>\n",
       "      <th>Year</th>\n",
       "      <th>Event</th>\n",
       "      <th>Gender</th>\n",
       "      <th>Comp Rank</th>\n",
       "      <th>Athlete Name</th>\n",
       "      <th>Nationality</th>\n",
       "      <th>Group</th>\n",
       "      <th>Body Weight (kg)</th>\n",
       "      <th>Snatch 1 (kg)</th>\n",
       "      <th>Snatch 2 (kg)</th>\n",
       "      <th>Snatch 3 (kg)</th>\n",
       "      <th>Max Snatch</th>\n",
       "      <th>Snatch Rank</th>\n",
       "      <th>C/J 1 (kg)</th>\n",
       "      <th>C/J 2 (kg)</th>\n",
       "      <th>C/J 3 (kg)</th>\n",
       "      <th>Max C/J</th>\n",
       "      <th>C/J Rank</th>\n",
       "      <th>Total</th>\n",
       "    </tr>\n",
       "  </thead>\n",
       "  <tbody>\n",
       "    <tr>\n",
       "      <th>8044</th>\n",
       "      <td>1980</td>\n",
       "      <td>oly</td>\n",
       "      <td>M</td>\n",
       "      <td>1.0</td>\n",
       "      <td>Sultan Rakhmanov</td>\n",
       "      <td>URS</td>\n",
       "      <td>A</td>\n",
       "      <td>145.25</td>\n",
       "      <td>185.0</td>\n",
       "      <td>190.0</td>\n",
       "      <td>195.0</td>\n",
       "      <td>195.0</td>\n",
       "      <td>1</td>\n",
       "      <td>230.0</td>\n",
       "      <td>237.5</td>\n",
       "      <td>245.0</td>\n",
       "      <td>245.0</td>\n",
       "      <td>1</td>\n",
       "      <td>440.0</td>\n",
       "    </tr>\n",
       "    <tr>\n",
       "      <th>8045</th>\n",
       "      <td>1980</td>\n",
       "      <td>oly</td>\n",
       "      <td>M</td>\n",
       "      <td>2.0</td>\n",
       "      <td>JÃƒÂ¼rgen Heuser</td>\n",
       "      <td>GDR</td>\n",
       "      <td>A</td>\n",
       "      <td>133.95</td>\n",
       "      <td>-182.5</td>\n",
       "      <td>182.5</td>\n",
       "      <td>-187.5</td>\n",
       "      <td>182.5</td>\n",
       "      <td>2</td>\n",
       "      <td>-227.5</td>\n",
       "      <td>227.5</td>\n",
       "      <td>-242.5</td>\n",
       "      <td>227.5</td>\n",
       "      <td>2</td>\n",
       "      <td>410.0</td>\n",
       "    </tr>\n",
       "    <tr>\n",
       "      <th>8046</th>\n",
       "      <td>1980</td>\n",
       "      <td>oly</td>\n",
       "      <td>M</td>\n",
       "      <td>3.0</td>\n",
       "      <td>Tadeusz Rutkowski</td>\n",
       "      <td>POL</td>\n",
       "      <td>A</td>\n",
       "      <td>124.90</td>\n",
       "      <td>175.0</td>\n",
       "      <td>180.0</td>\n",
       "      <td>-182.5</td>\n",
       "      <td>180.0</td>\n",
       "      <td>4</td>\n",
       "      <td>222.5</td>\n",
       "      <td>227.5</td>\n",
       "      <td>-230.0</td>\n",
       "      <td>227.5</td>\n",
       "      <td>2</td>\n",
       "      <td>407.5</td>\n",
       "    </tr>\n",
       "    <tr>\n",
       "      <th>8047</th>\n",
       "      <td>1980</td>\n",
       "      <td>oly</td>\n",
       "      <td>M</td>\n",
       "      <td>4.0</td>\n",
       "      <td>Rudolf StrejÃ„ï¿½ek</td>\n",
       "      <td>TCH</td>\n",
       "      <td>A</td>\n",
       "      <td>133.10</td>\n",
       "      <td>182.5</td>\n",
       "      <td>-187.5</td>\n",
       "      <td>-187.5</td>\n",
       "      <td>182.5</td>\n",
       "      <td>2</td>\n",
       "      <td>220.0</td>\n",
       "      <td>-225.0</td>\n",
       "      <td>-225.0</td>\n",
       "      <td>220.0</td>\n",
       "      <td>4</td>\n",
       "      <td>402.5</td>\n",
       "    </tr>\n",
       "    <tr>\n",
       "      <th>8048</th>\n",
       "      <td>1980</td>\n",
       "      <td>oly</td>\n",
       "      <td>M</td>\n",
       "      <td>5.0</td>\n",
       "      <td>Bohuslav Braum</td>\n",
       "      <td>TCH</td>\n",
       "      <td>A</td>\n",
       "      <td>148.45</td>\n",
       "      <td>-180.0</td>\n",
       "      <td>-180.0</td>\n",
       "      <td>180.0</td>\n",
       "      <td>180.0</td>\n",
       "      <td>4</td>\n",
       "      <td>212.5</td>\n",
       "      <td>217.5</td>\n",
       "      <td>-222.5</td>\n",
       "      <td>217.5</td>\n",
       "      <td>6</td>\n",
       "      <td>397.5</td>\n",
       "    </tr>\n",
       "  </tbody>\n",
       "</table>\n",
       "</div>"
      ],
      "text/plain": [
       "      Year Event Gender  Comp Rank         Athlete Name Nationality Group  \\\n",
       "8044  1980   oly      M        1.0     Sultan Rakhmanov         URS     A   \n",
       "8045  1980   oly      M        2.0     JÃƒÂ¼rgen Heuser         GDR     A   \n",
       "8046  1980   oly      M        3.0    Tadeusz Rutkowski         POL     A   \n",
       "8047  1980   oly      M        4.0  Rudolf StrejÃ„ï¿½ek         TCH     A   \n",
       "8048  1980   oly      M        5.0       Bohuslav Braum         TCH     A   \n",
       "\n",
       "      Body Weight (kg)  Snatch 1 (kg)  Snatch 2 (kg)  Snatch 3 (kg)  \\\n",
       "8044            145.25          185.0          190.0          195.0   \n",
       "8045            133.95         -182.5          182.5         -187.5   \n",
       "8046            124.90          175.0          180.0         -182.5   \n",
       "8047            133.10          182.5         -187.5         -187.5   \n",
       "8048            148.45         -180.0         -180.0          180.0   \n",
       "\n",
       "      Max Snatch  Snatch Rank  C/J 1 (kg)  C/J 2 (kg)  C/J 3 (kg)  Max C/J  \\\n",
       "8044       195.0            1       230.0       237.5       245.0    245.0   \n",
       "8045       182.5            2      -227.5       227.5      -242.5    227.5   \n",
       "8046       180.0            4       222.5       227.5      -230.0    227.5   \n",
       "8047       182.5            2       220.0      -225.0      -225.0    220.0   \n",
       "8048       180.0            4       212.5       217.5      -222.5    217.5   \n",
       "\n",
       "      C/J Rank  Total  \n",
       "8044         1  440.0  \n",
       "8045         2  410.0  \n",
       "8046         2  407.5  \n",
       "8047         4  402.5  \n",
       "8048         6  397.5  "
      ]
     },
     "execution_count": 10,
     "metadata": {},
     "output_type": "execute_result"
    }
   ],
   "source": [
    "df_oly = df[df[\"Event\"] == \"oly\"]\n",
    "df_oly.head()"
   ]
  },
  {
   "cell_type": "code",
   "execution_count": 11,
   "metadata": {},
   "outputs": [
    {
     "data": {
      "text/html": [
       "<div>\n",
       "<style scoped>\n",
       "    .dataframe tbody tr th:only-of-type {\n",
       "        vertical-align: middle;\n",
       "    }\n",
       "\n",
       "    .dataframe tbody tr th {\n",
       "        vertical-align: top;\n",
       "    }\n",
       "\n",
       "    .dataframe thead th {\n",
       "        text-align: right;\n",
       "    }\n",
       "</style>\n",
       "<table border=\"1\" class=\"dataframe\">\n",
       "  <thead>\n",
       "    <tr style=\"text-align: right;\">\n",
       "      <th></th>\n",
       "      <th>Year</th>\n",
       "      <th>Event</th>\n",
       "      <th>Gender</th>\n",
       "      <th>Comp Rank</th>\n",
       "      <th>Athlete Name</th>\n",
       "      <th>Nationality</th>\n",
       "      <th>Group</th>\n",
       "      <th>Body Weight (kg)</th>\n",
       "      <th>Snatch 1 (kg)</th>\n",
       "      <th>Snatch 2 (kg)</th>\n",
       "      <th>Snatch 3 (kg)</th>\n",
       "      <th>Max Snatch</th>\n",
       "      <th>Snatch Rank</th>\n",
       "      <th>C/J 1 (kg)</th>\n",
       "      <th>C/J 2 (kg)</th>\n",
       "      <th>C/J 3 (kg)</th>\n",
       "      <th>Max C/J</th>\n",
       "      <th>C/J Rank</th>\n",
       "      <th>Total</th>\n",
       "    </tr>\n",
       "  </thead>\n",
       "  <tbody>\n",
       "    <tr>\n",
       "      <th>0</th>\n",
       "      <td>1996</td>\n",
       "      <td>iwf</td>\n",
       "      <td>W</td>\n",
       "      <td>1.0</td>\n",
       "      <td>Wan Ni</td>\n",
       "      <td>CHN</td>\n",
       "      <td>A</td>\n",
       "      <td>84.40</td>\n",
       "      <td>102.5</td>\n",
       "      <td>-107.5</td>\n",
       "      <td>-110.0</td>\n",
       "      <td>102.5</td>\n",
       "      <td>2</td>\n",
       "      <td>130.0</td>\n",
       "      <td>135.0</td>\n",
       "      <td>137.5</td>\n",
       "      <td>137.5</td>\n",
       "      <td>1</td>\n",
       "      <td>240.0</td>\n",
       "    </tr>\n",
       "    <tr>\n",
       "      <th>1</th>\n",
       "      <td>1996</td>\n",
       "      <td>iwf</td>\n",
       "      <td>W</td>\n",
       "      <td>2.0</td>\n",
       "      <td>Karoliina Lundahl</td>\n",
       "      <td>FIN</td>\n",
       "      <td>A</td>\n",
       "      <td>83.10</td>\n",
       "      <td>100.0</td>\n",
       "      <td>105.0</td>\n",
       "      <td>107.5</td>\n",
       "      <td>107.5</td>\n",
       "      <td>1</td>\n",
       "      <td>125.0</td>\n",
       "      <td>-127.5</td>\n",
       "      <td>-127.5</td>\n",
       "      <td>125.0</td>\n",
       "      <td>3</td>\n",
       "      <td>232.5</td>\n",
       "    </tr>\n",
       "    <tr>\n",
       "      <th>2</th>\n",
       "      <td>1996</td>\n",
       "      <td>iwf</td>\n",
       "      <td>W</td>\n",
       "      <td>3.0</td>\n",
       "      <td>Chen Hsiao-lien</td>\n",
       "      <td>TPE</td>\n",
       "      <td>A</td>\n",
       "      <td>100.40</td>\n",
       "      <td>-95.0</td>\n",
       "      <td>-97.5</td>\n",
       "      <td>97.5</td>\n",
       "      <td>97.5</td>\n",
       "      <td>4</td>\n",
       "      <td>130.0</td>\n",
       "      <td>-137.5</td>\n",
       "      <td>-137.5</td>\n",
       "      <td>130.0</td>\n",
       "      <td>2</td>\n",
       "      <td>227.5</td>\n",
       "    </tr>\n",
       "    <tr>\n",
       "      <th>3</th>\n",
       "      <td>1996</td>\n",
       "      <td>iwf</td>\n",
       "      <td>W</td>\n",
       "      <td>4.0</td>\n",
       "      <td>Sylvie Iskin</td>\n",
       "      <td>FRA</td>\n",
       "      <td>A</td>\n",
       "      <td>96.85</td>\n",
       "      <td>-100.0</td>\n",
       "      <td>100.0</td>\n",
       "      <td>102.5</td>\n",
       "      <td>102.5</td>\n",
       "      <td>2</td>\n",
       "      <td>117.5</td>\n",
       "      <td>-122.5</td>\n",
       "      <td>122.5</td>\n",
       "      <td>122.5</td>\n",
       "      <td>4</td>\n",
       "      <td>225.0</td>\n",
       "    </tr>\n",
       "    <tr>\n",
       "      <th>4</th>\n",
       "      <td>1996</td>\n",
       "      <td>iwf</td>\n",
       "      <td>W</td>\n",
       "      <td>5.0</td>\n",
       "      <td>Erika TakÃƒÂ¡cs</td>\n",
       "      <td>HUN</td>\n",
       "      <td>A</td>\n",
       "      <td>96.00</td>\n",
       "      <td>97.5</td>\n",
       "      <td>-100.0</td>\n",
       "      <td>-100.0</td>\n",
       "      <td>97.5</td>\n",
       "      <td>4</td>\n",
       "      <td>120.0</td>\n",
       "      <td>-125.0</td>\n",
       "      <td>-125.0</td>\n",
       "      <td>120.0</td>\n",
       "      <td>5</td>\n",
       "      <td>217.5</td>\n",
       "    </tr>\n",
       "  </tbody>\n",
       "</table>\n",
       "</div>"
      ],
      "text/plain": [
       "   Year Event Gender  Comp Rank       Athlete Name Nationality Group  \\\n",
       "0  1996   iwf      W        1.0             Wan Ni         CHN     A   \n",
       "1  1996   iwf      W        2.0  Karoliina Lundahl         FIN     A   \n",
       "2  1996   iwf      W        3.0    Chen Hsiao-lien         TPE     A   \n",
       "3  1996   iwf      W        4.0       Sylvie Iskin         FRA     A   \n",
       "4  1996   iwf      W        5.0    Erika TakÃƒÂ¡cs         HUN     A   \n",
       "\n",
       "   Body Weight (kg)  Snatch 1 (kg)  Snatch 2 (kg)  Snatch 3 (kg)  Max Snatch  \\\n",
       "0             84.40          102.5         -107.5         -110.0       102.5   \n",
       "1             83.10          100.0          105.0          107.5       107.5   \n",
       "2            100.40          -95.0          -97.5           97.5        97.5   \n",
       "3             96.85         -100.0          100.0          102.5       102.5   \n",
       "4             96.00           97.5         -100.0         -100.0        97.5   \n",
       "\n",
       "   Snatch Rank  C/J 1 (kg)  C/J 2 (kg)  C/J 3 (kg)  Max C/J  C/J Rank  Total  \n",
       "0            2       130.0       135.0       137.5    137.5         1  240.0  \n",
       "1            1       125.0      -127.5      -127.5    125.0         3  232.5  \n",
       "2            4       130.0      -137.5      -137.5    130.0         2  227.5  \n",
       "3            2       117.5      -122.5       122.5    122.5         4  225.0  \n",
       "4            4       120.0      -125.0      -125.0    120.0         5  217.5  "
      ]
     },
     "execution_count": 11,
     "metadata": {},
     "output_type": "execute_result"
    }
   ],
   "source": [
    "df_iwf = df[df[\"Event\"] == \"iwf\"]\n",
    "df_iwf.head()"
   ]
  },
  {
   "cell_type": "code",
   "execution_count": 28,
   "metadata": {},
   "outputs": [
    {
     "data": {
      "text/html": [
       "<div>\n",
       "<style scoped>\n",
       "    .dataframe tbody tr th:only-of-type {\n",
       "        vertical-align: middle;\n",
       "    }\n",
       "\n",
       "    .dataframe tbody tr th {\n",
       "        vertical-align: top;\n",
       "    }\n",
       "\n",
       "    .dataframe thead th {\n",
       "        text-align: right;\n",
       "    }\n",
       "</style>\n",
       "<table border=\"1\" class=\"dataframe\">\n",
       "  <thead>\n",
       "    <tr style=\"text-align: right;\">\n",
       "      <th></th>\n",
       "      <th>Body Weight (kg)</th>\n",
       "      <th>Max Snatch</th>\n",
       "    </tr>\n",
       "  </thead>\n",
       "  <tbody>\n",
       "    <tr>\n",
       "      <th>Body Weight (kg)</th>\n",
       "      <td>1.00000</td>\n",
       "      <td>0.19071</td>\n",
       "    </tr>\n",
       "    <tr>\n",
       "      <th>Max Snatch</th>\n",
       "      <td>0.19071</td>\n",
       "      <td>1.00000</td>\n",
       "    </tr>\n",
       "  </tbody>\n",
       "</table>\n",
       "</div>"
      ],
      "text/plain": [
       "                  Body Weight (kg)  Max Snatch\n",
       "Body Weight (kg)           1.00000     0.19071\n",
       "Max Snatch                 0.19071     1.00000"
      ]
     },
     "execution_count": 28,
     "metadata": {},
     "output_type": "execute_result"
    }
   ],
   "source": [
    "df[[\"Body Weight (kg)\", \"Max Snatch\"]].corr()"
   ]
  },
  {
   "cell_type": "code",
   "execution_count": 29,
   "metadata": {},
   "outputs": [
    {
     "data": {
      "text/html": [
       "<div>\n",
       "<style scoped>\n",
       "    .dataframe tbody tr th:only-of-type {\n",
       "        vertical-align: middle;\n",
       "    }\n",
       "\n",
       "    .dataframe tbody tr th {\n",
       "        vertical-align: top;\n",
       "    }\n",
       "\n",
       "    .dataframe thead th {\n",
       "        text-align: right;\n",
       "    }\n",
       "</style>\n",
       "<table border=\"1\" class=\"dataframe\">\n",
       "  <thead>\n",
       "    <tr style=\"text-align: right;\">\n",
       "      <th></th>\n",
       "      <th>Body Weight (kg)</th>\n",
       "      <th>Max C/J</th>\n",
       "    </tr>\n",
       "  </thead>\n",
       "  <tbody>\n",
       "    <tr>\n",
       "      <th>Body Weight (kg)</th>\n",
       "      <td>1.000000</td>\n",
       "      <td>0.158796</td>\n",
       "    </tr>\n",
       "    <tr>\n",
       "      <th>Max C/J</th>\n",
       "      <td>0.158796</td>\n",
       "      <td>1.000000</td>\n",
       "    </tr>\n",
       "  </tbody>\n",
       "</table>\n",
       "</div>"
      ],
      "text/plain": [
       "                  Body Weight (kg)   Max C/J\n",
       "Body Weight (kg)          1.000000  0.158796\n",
       "Max C/J                   0.158796  1.000000"
      ]
     },
     "execution_count": 29,
     "metadata": {},
     "output_type": "execute_result"
    }
   ],
   "source": [
    "df[[\"Body Weight (kg)\", \"Max C/J\"]].corr()"
   ]
  },
  {
   "cell_type": "code",
   "execution_count": 30,
   "metadata": {},
   "outputs": [
    {
     "data": {
      "text/html": [
       "<div>\n",
       "<style scoped>\n",
       "    .dataframe tbody tr th:only-of-type {\n",
       "        vertical-align: middle;\n",
       "    }\n",
       "\n",
       "    .dataframe tbody tr th {\n",
       "        vertical-align: top;\n",
       "    }\n",
       "\n",
       "    .dataframe thead th {\n",
       "        text-align: right;\n",
       "    }\n",
       "</style>\n",
       "<table border=\"1\" class=\"dataframe\">\n",
       "  <thead>\n",
       "    <tr style=\"text-align: right;\">\n",
       "      <th></th>\n",
       "      <th>Body Weight (kg)</th>\n",
       "      <th>Total</th>\n",
       "    </tr>\n",
       "  </thead>\n",
       "  <tbody>\n",
       "    <tr>\n",
       "      <th>Body Weight (kg)</th>\n",
       "      <td>1.000000</td>\n",
       "      <td>0.200243</td>\n",
       "    </tr>\n",
       "    <tr>\n",
       "      <th>Total</th>\n",
       "      <td>0.200243</td>\n",
       "      <td>1.000000</td>\n",
       "    </tr>\n",
       "  </tbody>\n",
       "</table>\n",
       "</div>"
      ],
      "text/plain": [
       "                  Body Weight (kg)     Total\n",
       "Body Weight (kg)          1.000000  0.200243\n",
       "Total                     0.200243  1.000000"
      ]
     },
     "execution_count": 30,
     "metadata": {},
     "output_type": "execute_result"
    }
   ],
   "source": [
    "df[[\"Body Weight (kg)\", \"Total\"]].corr()"
   ]
  },
  {
   "cell_type": "code",
   "execution_count": 31,
   "metadata": {},
   "outputs": [
    {
     "data": {
      "text/html": [
       "<div>\n",
       "<style scoped>\n",
       "    .dataframe tbody tr th:only-of-type {\n",
       "        vertical-align: middle;\n",
       "    }\n",
       "\n",
       "    .dataframe tbody tr th {\n",
       "        vertical-align: top;\n",
       "    }\n",
       "\n",
       "    .dataframe thead th {\n",
       "        text-align: right;\n",
       "    }\n",
       "</style>\n",
       "<table border=\"1\" class=\"dataframe\">\n",
       "  <thead>\n",
       "    <tr style=\"text-align: right;\">\n",
       "      <th></th>\n",
       "      <th>Max Snatch</th>\n",
       "      <th>Max C/J</th>\n",
       "    </tr>\n",
       "  </thead>\n",
       "  <tbody>\n",
       "    <tr>\n",
       "      <th>Max Snatch</th>\n",
       "      <td>1.000000</td>\n",
       "      <td>0.392043</td>\n",
       "    </tr>\n",
       "    <tr>\n",
       "      <th>Max C/J</th>\n",
       "      <td>0.392043</td>\n",
       "      <td>1.000000</td>\n",
       "    </tr>\n",
       "  </tbody>\n",
       "</table>\n",
       "</div>"
      ],
      "text/plain": [
       "            Max Snatch   Max C/J\n",
       "Max Snatch    1.000000  0.392043\n",
       "Max C/J       0.392043  1.000000"
      ]
     },
     "execution_count": 31,
     "metadata": {},
     "output_type": "execute_result"
    }
   ],
   "source": [
    "df[[\"Max Snatch\", \"Max C/J\"]].corr()"
   ]
  },
  {
   "cell_type": "code",
   "execution_count": null,
   "metadata": {},
   "outputs": [],
   "source": [
    "sns.hist("
   ]
  },
  {
   "cell_type": "code",
   "execution_count": 24,
   "metadata": {},
   "outputs": [
    {
     "name": "stderr",
     "output_type": "stream",
     "text": [
      "C:\\ProgramData\\Anaconda3\\lib\\site-packages\\scipy\\stats\\stats.py:1713: FutureWarning: Using a non-tuple sequence for multidimensional indexing is deprecated; use `arr[tuple(seq)]` instead of `arr[seq]`. In the future this will be interpreted as an array index, `arr[np.array(seq)]`, which will result either in an error or a different result.\n",
      "  return np.add.reduce(sorted[indexer] * weights, axis=axis) / sumval\n"
     ]
    },
    {
     "data": {
      "text/plain": [
       "<matplotlib.axes._subplots.AxesSubplot at 0x23ea95622e8>"
      ]
     },
     "execution_count": 24,
     "metadata": {},
     "output_type": "execute_result"
    },
    {
     "data": {
      "image/png": "[encoded data removed]",
      "text/plain": [
       "<Figure size 432x288 with 1 Axes>"
      ]
     },
     "metadata": {
      "needs_background": "light"
     },
     "output_type": "display_data"
    }
   ],
   "source": [
    "sns.distplot(df[\"Max Snatch\"])"
   ]
  },
  {
   "cell_type": "code",
   "execution_count": 40,
   "metadata": {},
   "outputs": [
    {
     "data": {
      "text/plain": [
       "<matplotlib.axes._subplots.AxesSubplot at 0x23ea9f22eb8>"
      ]
     },
     "execution_count": 40,
     "metadata": {},
     "output_type": "execute_result"
    },
    {
     "data": {
      "image/png": "[encoded data removed]",
      "text/plain": [
       "<Figure size 432x288 with 1 Axes>"
      ]
     },
     "metadata": {
      "needs_background": "light"
     },
     "output_type": "display_data"
    }
   ],
   "source": [
    "sns.distplot(df[\"Max Snatch\"])"
   ]
  },
  {
   "cell_type": "code",
   "execution_count": 27,
   "metadata": {},
   "outputs": [
    {
     "data": {
      "text/plain": [
       "<matplotlib.axes._subplots.AxesSubplot at 0x23ea9bd44a8>"
      ]
     },
     "execution_count": 27,
     "metadata": {},
     "output_type": "execute_result"
    },
    {
     "data": {
      "image/png": "[encoded data removed]",
      "text/plain": [
       "<Figure size 432x288 with 1 Axes>"
      ]
     },
     "metadata": {
      "needs_background": "light"
     },
     "output_type": "display_data"
    }
   ],
   "source": [
    "df.dropna(subset=[\"Max Snatch\"])\n",
    "sns.distplot(df[\"Max Snatch\"])"
   ]
  },
  {
   "cell_type": "code",
   "execution_count": 13,
   "metadata": {},
   "outputs": [
    {
     "data": {
      "text/plain": [
       "<matplotlib.axes._subplots.AxesSubplot at 0x23ea5cba860>"
      ]
     },
     "execution_count": 13,
     "metadata": {},
     "output_type": "execute_result"
    },
    {
     "data": {
      "image/png": "[encoded data removed]",
      "text/plain": [
       "<Figure size 432x288 with 1 Axes>"
      ]
     },
     "metadata": {
      "needs_background": "light"
     },
     "output_type": "display_data"
    }
   ],
   "source": [
    "sns.distplot(df[\"Max C/J\"])"
   ]
  },
  {
   "cell_type": "code",
   "execution_count": 25,
   "metadata": {},
   "outputs": [
    {
     "data": {
      "text/plain": [
       "<matplotlib.axes._subplots.AxesSubplot at 0x23ea9af92b0>"
      ]
     },
     "execution_count": 25,
     "metadata": {},
     "output_type": "execute_result"
    },
    {
     "data": {
      "image/png": "[encoded data removed]",
      "text/plain": [
       "<Figure size 432x288 with 1 Axes>"
      ]
     },
     "metadata": {
      "needs_background": "light"
     },
     "output_type": "display_data"
    }
   ],
   "source": [
    "sns.distplot(df[\"Total\"])"
   ]
  },
  {
   "cell_type": "code",
   "execution_count": 15,
   "metadata": {},
   "outputs": [
    {
     "data": {
      "text/plain": [
       "<matplotlib.axes._subplots.AxesSubplot at 0x23ea76edfd0>"
      ]
     },
     "execution_count": 15,
     "metadata": {},
     "output_type": "execute_result"
    },
    {
     "data": {
      "image/png": "[encoded data removed]",
      "text/plain": [
       "<Figure size 432x288 with 1 Axes>"
      ]
     },
     "metadata": {
      "needs_background": "light"
     },
     "output_type": "display_data"
    }
   ],
   "source": [
    "sns.distplot(df[\"Body Weight (kg)\"])"
   ]
  },
  {
   "cell_type": "code",
   "execution_count": 16,
   "metadata": {},
   "outputs": [
    {
     "data": {
      "text/plain": [
       "<matplotlib.axes._subplots.AxesSubplot at 0x23ea77ce3c8>"
      ]
     },
     "execution_count": 16,
     "metadata": {},
     "output_type": "execute_result"
    },
    {
     "data": {
      "image/png": "[encoded data removed]",
      "text/plain": [
       "<Figure size 432x288 with 1 Axes>"
      ]
     },
     "metadata": {
      "needs_background": "light"
     },
     "output_type": "display_data"
    }
   ],
   "source": [
    "sns.distplot(df_men[\"Max Snatch\"])"
   ]
  },
  {
   "cell_type": "code",
   "execution_count": 17,
   "metadata": {},
   "outputs": [
    {
     "data": {
      "text/plain": [
       "<matplotlib.axes._subplots.AxesSubplot at 0x23ea78a5ba8>"
      ]
     },
     "execution_count": 17,
     "metadata": {},
     "output_type": "execute_result"
    },
    {
     "data": {
      "image/png": "[encoded data removed]",
      "text/plain": [
       "<Figure size 432x288 with 1 Axes>"
      ]
     },
     "metadata": {
      "needs_background": "light"
     },
     "output_type": "display_data"
    }
   ],
   "source": [
    "sns.distplot(df_men[\"Max C/J\"])"
   ]
  },
  {
   "cell_type": "code",
   "execution_count": 18,
   "metadata": {},
   "outputs": [
    {
     "data": {
      "text/plain": [
       "<matplotlib.axes._subplots.AxesSubplot at 0x23ea79734e0>"
      ]
     },
     "execution_count": 18,
     "metadata": {},
     "output_type": "execute_result"
    },
    {
     "data": {
      "image/png": "[encoded data removed]",
      "text/plain": [
       "<Figure size 432x288 with 1 Axes>"
      ]
     },
     "metadata": {
      "needs_background": "light"
     },
     "output_type": "display_data"
    }
   ],
   "source": [
    "sns.distplot(df_men[\"Body Weight (kg)\"])"
   ]
  },
  {
   "cell_type": "code",
   "execution_count": 19,
   "metadata": {},
   "outputs": [
    {
     "data": {
      "text/plain": [
       "<matplotlib.axes._subplots.AxesSubplot at 0x23ea7957da0>"
      ]
     },
     "execution_count": 19,
     "metadata": {},
     "output_type": "execute_result"
    },
    {
     "data": {
      "image/png": "[encoded data removed]",
      "text/plain": [
       "<Figure size 432x288 with 1 Axes>"
      ]
     },
     "metadata": {
      "needs_background": "light"
     },
     "output_type": "display_data"
    }
   ],
   "source": [
    "sns.distplot(df_women[\"Max Snatch\"])"
   ]
  },
  {
   "cell_type": "code",
   "execution_count": 20,
   "metadata": {},
   "outputs": [
    {
     "data": {
      "text/plain": [
       "<matplotlib.axes._subplots.AxesSubplot at 0x23ea79736d8>"
      ]
     },
     "execution_count": 20,
     "metadata": {},
     "output_type": "execute_result"
    },
    {
     "data": {
      "image/png": "[encoded data removed]",
      "text/plain": [
       "<Figure size 432x288 with 1 Axes>"
      ]
     },
     "metadata": {
      "needs_background": "light"
     },
     "output_type": "display_data"
    }
   ],
   "source": [
    "sns.distplot(df_women[\"Max C/J\"])"
   ]
  },
  {
   "cell_type": "code",
   "execution_count": 21,
   "metadata": {},
   "outputs": [
    {
     "data": {
      "text/plain": [
       "<matplotlib.axes._subplots.AxesSubplot at 0x23ea7b39518>"
      ]
     },
     "execution_count": 21,
     "metadata": {},
     "output_type": "execute_result"
    },
    {
     "data": {
      "image/png": "[encoded data removed]",
      "text/plain": [
       "<Figure size 432x288 with 1 Axes>"
      ]
     },
     "metadata": {
      "needs_background": "light"
     },
     "output_type": "display_data"
    }
   ],
   "source": [
    "sns.distplot(df_women[\"Body Weight (kg)\"])"
   ]
  },
  {
   "cell_type": "code",
   "execution_count": 33,
   "metadata": {},
   "outputs": [
    {
     "data": {
      "text/plain": [
       "<matplotlib.axes._subplots.AxesSubplot at 0x23ea9c76668>"
      ]
     },
     "execution_count": 33,
     "metadata": {},
     "output_type": "execute_result"
    },
    {
     "data": {
      "image/png": "[encoded data removed]",
      "text/plain": [
       "<Figure size 432x288 with 1 Axes>"
      ]
     },
     "metadata": {
      "needs_background": "light"
     },
     "output_type": "display_data"
    }
   ],
   "source": [
    "sns.lineplot(x=\"Year\", y=\"Total\", data=df, hue=\"Gender\")"
   ]
  },
  {
   "cell_type": "code",
   "execution_count": 34,
   "metadata": {},
   "outputs": [
    {
     "data": {
      "text/plain": [
       "<matplotlib.axes._subplots.AxesSubplot at 0x23ea9d565c0>"
      ]
     },
     "execution_count": 34,
     "metadata": {},
     "output_type": "execute_result"
    },
    {
     "data": {
      "image/png": "[encoded data removed]",
      "text/plain": [
       "<Figure size 432x288 with 1 Axes>"
      ]
     },
     "metadata": {
      "needs_background": "light"
     },
     "output_type": "display_data"
    }
   ],
   "source": [
    "sns.lineplot(x=\"Year\", y=\"Max Snatch\", data=df, hue=\"Gender\")"
   ]
  },
  {
   "cell_type": "code",
   "execution_count": 35,
   "metadata": {},
   "outputs": [
    {
     "data": {
      "text/plain": [
       "<matplotlib.axes._subplots.AxesSubplot at 0x23ea9dddc88>"
      ]
     },
     "execution_count": 35,
     "metadata": {},
     "output_type": "execute_result"
    },
    {
     "data": {
      "image/png": "[encoded data removed]",
      "text/plain": [
       "<Figure size 432x288 with 1 Axes>"
      ]
     },
     "metadata": {
      "needs_background": "light"
     },
     "output_type": "display_data"
    }
   ],
   "source": [
    "sns.lineplot(x=\"Year\", y=\"Max C/J\", data=df, hue=\"Gender\")"
   ]
  },
  {
   "cell_type": "code",
   "execution_count": 36,
   "metadata": {},
   "outputs": [
    {
     "data": {
      "text/plain": [
       "<matplotlib.axes._subplots.AxesSubplot at 0x23ea9e5e518>"
      ]
     },
     "execution_count": 36,
     "metadata": {},
     "output_type": "execute_result"
    },
    {
     "data": {
      "image/png": "[encoded data removed]",
      "text/plain": [
       "<Figure size 432x288 with 1 Axes>"
      ]
     },
     "metadata": {
      "needs_background": "light"
     },
     "output_type": "display_data"
    }
   ],
   "source": [
    "sns.lineplot(x=\"Year\", y=\"Body Weight (kg)\", data=df, hue=\"Gender\")"
   ]
  },
  {
   "cell_type": "code",
   "execution_count": null,
   "metadata": {},
   "outputs": [],
   "source": [
    "# This changes the \"%Y-%m-%d %H:%M:%S\" string format in the list to datetime format \"%Y-%m-%d %H:%M:%S\" \n",
    "# to be able to use seaborn graphs below.\n",
    "for i in range(len(workout_data_list)):\n",
    "    try:\n",
    "        temp = datetime.strptime(workout_data_list[i][4], \"%Y-%m-%d %H:%M:%S\")\n",
    "        temp.strftime(\"%Y-%m-%d %H:%M:%S\")\n",
    "        workout_data_list[i][4] = temp\n",
    "    except:\n",
    "        pass"
   ]
  },
  {
   "cell_type": "code",
   "execution_count": null,
   "metadata": {},
   "outputs": [],
   "source": [
    "workout_data = pd.DataFrame(workout_data_list)\n",
    "workout_data.head()"
   ]
  },
  {
   "cell_type": "code",
   "execution_count": null,
   "metadata": {},
   "outputs": [],
   "source": [
    "workout_data.columns = \"exercise, sets, reps, weight_lbs, datetime, duration_minutes\".split(\", \")\n",
    "workout_data.head()"
   ]
  },
  {
   "cell_type": "code",
   "execution_count": null,
   "metadata": {},
   "outputs": [],
   "source": [
    "# A dataframe for total count of workouts for each exercise\n",
    "workout_count = workout_data[[\"exercise\", \"datetime\"]]\n",
    "workout_count.head()"
   ]
  },
  {
   "cell_type": "code",
   "execution_count": null,
   "metadata": {},
   "outputs": [],
   "source": [
    "# Plot for total count of workouts for each exercise\n",
    "plt.figure(figsize = (12,9))\n",
    "sns.set_context(\"paper\", font_scale = 2)\n",
    "graph = sns.swarmplot(\n",
    "    x=\"exercise\", \n",
    "    y=\"datetime\", \n",
    "    data=workout_count, \n",
    "    palette=colors, \n",
    "    order=exercise_names\n",
    "    )\n",
    "graph.set_xticklabels(graph.get_xticklabels(), rotation = 30)\n",
    "graph.yaxis.set_major_locator(mdates.WeekdayLocator(interval=5))\n",
    "graph.yaxis.set_major_formatter(mdates.DateFormatter(\"%b %d, %y\"))\n",
    "graph.set(\n",
    "    title=\"Workout Count per Exercise\", \n",
    "    xlabel=\"Exercise\", \n",
    "    ylabel=\"Date\"\n",
    "    )\n",
    "plt.savefig(\"Workout Count per Exercise.png\")"
   ]
  },
  {
   "cell_type": "code",
   "execution_count": null,
   "metadata": {},
   "outputs": [],
   "source": [
    "# A dataframe for max weight by each exercise. \n",
    "exercise_max = workout_data[[\"exercise\", \"weight_lbs\"]].groupby(\"exercise\").max()\n",
    "exercise_max[\"exercise\"] = exercise_max.index\n",
    "exercise_max"
   ]
  },
  {
   "cell_type": "code",
   "execution_count": null,
   "metadata": {},
   "outputs": [],
   "source": [
    "# Plot of max weight for each exercise\n",
    "plt.figure(figsize = (12,9))\n",
    "sns.set_context(\"paper\", font_scale = 2)\n",
    "graph = sns.barplot(\n",
    "    x=\"exercise\", \n",
    "    y=\"weight_lbs\", \n",
    "    data=exercise_max, \n",
    "    order=exercise_names\n",
    "    )\n",
    "graph.set_xticklabels(graph.get_xticklabels(), rotation = 30)\n",
    "graph.set(\n",
    "    title=\"Max Lifts per Exercise\", \n",
    "    xlabel=\"Exercise\", \n",
    "    ylabel=\"Weight (lbs)\", \n",
    "    yticks=np.arange(0, 300, 25)\n",
    "    )\n",
    "plt.savefig(\"Max Lifts per Exercise.png\")"
   ]
  },
  {
   "cell_type": "code",
   "execution_count": null,
   "metadata": {},
   "outputs": [],
   "source": [
    "# A dataframe for total intensity(total weight lifted) for each exercise\n",
    "total_intensity = workout_data[[\"exercise\", \"weight_lbs\"]].groupby(\"exercise\").sum()\n",
    "total_intensity[\"exercise\"] = total_intensity.index\n",
    "total_intensity"
   ]
  },
  {
   "cell_type": "code",
   "execution_count": null,
   "metadata": {},
   "outputs": [],
   "source": [
    "# Plot of total intensity for each exercise\n",
    "plt.figure(figsize = (12,9))\n",
    "sns.set_context(\"paper\", font_scale = 2)\n",
    "graph = sns.barplot(\n",
    "    x=\"exercise\", \n",
    "    y=\"weight_lbs\", \n",
    "    data=total_intensity, \n",
    "    order=exercise_names\n",
    "    )\n",
    "graph.set_xticklabels(graph.get_xticklabels(), rotation=30)\n",
    "graph.set(\n",
    "    title=\"Total Intensity\", \n",
    "    xlabel=\"Exercise\", \n",
    "    ylabel=\"Total Weight Lifted (lbs)\", \n",
    "    yticks=np.arange(0, 8000, 500)\n",
    "    )\n",
    "plt.savefig(\"Total Intensity.png\")"
   ]
  },
  {
   "cell_type": "code",
   "execution_count": null,
   "metadata": {},
   "outputs": [],
   "source": [
    "# A dataframe for total volume for each exercise\n",
    "total_reps = workout_data[\"sets\"]*workout_data[\"reps\"]\n",
    "workout_data[\"total volume\"] = total_reps\n",
    "total_volume = workout_data[[\"exercise\", \"total volume\"]].groupby(\"exercise\").sum()\n",
    "total_volume[\"exercise\"] = total_volume.index\n",
    "total_volume"
   ]
  },
  {
   "cell_type": "code",
   "execution_count": null,
   "metadata": {
    "scrolled": true
   },
   "outputs": [],
   "source": [
    "# Plot for total volume for each exercise\n",
    "plt.figure(figsize = (12,9))\n",
    "sns.set_context(\"paper\", font_scale = 2)\n",
    "graph = sns.barplot(\n",
    "    x=\"exercise\", \n",
    "    y=\"total volume\", \n",
    "    data=total_volume, \n",
    "    order=exercise_names\n",
    "    )\n",
    "graph.set_xticklabels(graph.get_xticklabels(), rotation = 30)\n",
    "graph.set(\n",
    "    title=\"Total Volume per Exercise\", \n",
    "    xlabel=\"Exercise\", \n",
    "    ylabel=\"Total Reps\", \n",
    "    yticks=np.arange(0, 1200, 100)\n",
    "    )\n",
    "plt.savefig(\"Total Volume.png\")"
   ]
  },
  {
   "cell_type": "code",
   "execution_count": null,
   "metadata": {},
   "outputs": [],
   "source": [
    "squats_intensity = workout_data[\n",
    "    [\"exercise\", \"datetime\", \"weight_lbs\"]\n",
    "    ].loc[\n",
    "    (workout_data[\"exercise\"] == \"BackSquat\") | \n",
    "    (workout_data[\"exercise\"] == \"OverheadSquat\") | \n",
    "    (workout_data[\"exercise\"] == \"FrontSquat\")\n",
    "    ]\n",
    "squats_intensity.head()"
   ]
  },
  {
   "cell_type": "code",
   "execution_count": null,
   "metadata": {},
   "outputs": [],
   "source": [
    "squats_volume = workout_data[\n",
    "    [\"exercise\", \"datetime\", \"total volume\"]\n",
    "    ].loc[\n",
    "    (workout_data[\"exercise\"] == \"BackSquat\") | \n",
    "    (workout_data[\"exercise\"] == \"OverheadSquat\") | \n",
    "    (workout_data[\"exercise\"] == \"FrontSquat\")\n",
    "    ]\n",
    "squats_volume.head()"
   ]
  },
  {
   "cell_type": "code",
   "execution_count": null,
   "metadata": {},
   "outputs": [],
   "source": [
    "presses_intensity = workout_data[\n",
    "    [\"exercise\", \"datetime\", \"weight_lbs\"]\n",
    "    ].loc[(workout_data[\"exercise\"] == \"BenchPress\") | \n",
    "    (workout_data[\"exercise\"] == \"ShoulderPress\")]\n",
    "presses_intensity.head()"
   ]
  },
  {
   "cell_type": "code",
   "execution_count": null,
   "metadata": {},
   "outputs": [],
   "source": [
    "presses_volume = workout_data[\n",
    "    [\"exercise\", \"datetime\", \"total volume\"]\n",
    "    ].loc[(workout_data[\"exercise\"] == \"BenchPress\") | \n",
    "    (workout_data[\"exercise\"] == \"ShoulderPress\")\n",
    "    ]\n",
    "presses_volume.head()"
   ]
  },
  {
   "cell_type": "code",
   "execution_count": null,
   "metadata": {},
   "outputs": [],
   "source": [
    "oly_lifts_intensity = workout_data[\n",
    "    [\"exercise\", \"datetime\", \"weight_lbs\"]\n",
    "    ].loc[\n",
    "    (workout_data[\"exercise\"] == \"Clean&Jerk\") | \n",
    "    (workout_data[\"exercise\"] == \"Snatch\")\n",
    "    ]\n",
    "oly_lifts_intensity.head()"
   ]
  },
  {
   "cell_type": "code",
   "execution_count": null,
   "metadata": {},
   "outputs": [],
   "source": [
    "oly_lifts_volume = workout_data[\n",
    "    [\"exercise\", \"datetime\", \"total volume\"]\n",
    "    ].loc[(workout_data[\"exercise\"] == \"Clean&Jerk\") | \n",
    "    (workout_data[\"exercise\"] == \"Snatch\")\n",
    "    ]\n",
    "oly_lifts_volume.head()"
   ]
  },
  {
   "cell_type": "code",
   "execution_count": null,
   "metadata": {},
   "outputs": [],
   "source": [
    "# Plot comparison for intensity for squats.\n",
    "plt.figure(figsize = (16,9))\n",
    "\n",
    "sns.set_context(\"paper\", font_scale = 2)\n",
    "graph = sns.lineplot(\n",
    "    x=\"datetime\", \n",
    "    y=\"weight_lbs\", \n",
    "    data=squats_intensity, \n",
    "    palette=colors[1:4], \n",
    "    hue=\"exercise\", \n",
    "    linewidth=3\n",
    "    )\n",
    "graph.set_xticklabels(squats_intensity[\"datetime\"].values, rotation = 30)\n",
    "graph.xaxis.set_major_locator(mdates.WeekdayLocator(interval=5))\n",
    "graph.xaxis.set_major_formatter(mdates.DateFormatter(\"%m/%d/%y\"))\n",
    "graph.set(\n",
    "    title=\"Squats Intensity vs. Time\", \n",
    "    xlabel=\"Time\", \n",
    "    ylabel=\"Weight (lbs)\", \n",
    "    yticks=np.arange(0, 250, 25)\n",
    "    )\n",
    "plt.legend(\n",
    "    title=\"Exercise\", \n",
    "    loc=\"upper right\", \n",
    "    labels=squats_intensity[\"exercise\"].unique()\n",
    "    )\n",
    "plt.savefig(\"Squats Intensity.png\")"
   ]
  },
  {
   "cell_type": "code",
   "execution_count": null,
   "metadata": {},
   "outputs": [],
   "source": [
    "# Plot comparison for intensity for squats.\n",
    "plt.figure(figsize = (16,9))\n",
    "\n",
    "sns.set_context(\"paper\", font_scale = 2)\n",
    "graph = sns.lineplot(\n",
    "    x=\"datetime\", \n",
    "    y=\"total volume\", \n",
    "    data=squats_volume, \n",
    "    palette=colors[1:4], \n",
    "    hue=\"exercise\", \n",
    "    linewidth=3\n",
    "    )\n",
    "graph.set_xticklabels(squats_volume[\"datetime\"].values, rotation = 30)\n",
    "graph.xaxis.set_major_locator(mdates.WeekdayLocator(interval=5))\n",
    "graph.xaxis.set_major_formatter(mdates.DateFormatter(\"%m/%d/%y\"))\n",
    "graph.set(\n",
    "    title=\"Squats Volume vs. Time\", \n",
    "    xlabel=\"Time\", \n",
    "    ylabel=\"Total Reps per Session\", \n",
    "    yticks=np.arange(0, 55, 5)\n",
    "    )\n",
    "plt.legend(\n",
    "    title=\"Exercise\", \n",
    "    loc=\"upper left\", \n",
    "    labels=squats_volume[\"exercise\"].unique()\n",
    "    )\n",
    "plt.savefig(\"Squats Volume.png\")"
   ]
  },
  {
   "cell_type": "code",
   "execution_count": null,
   "metadata": {
    "scrolled": true
   },
   "outputs": [],
   "source": [
    "# Plot comparison for intensity for squats.\n",
    "plt.figure(figsize = (16,9))\n",
    "\n",
    "sns.set_context(\"paper\", font_scale = 2)\n",
    "graph = sns.lineplot(\n",
    "    x=\"datetime\", \n",
    "    y=\"weight_lbs\", \n",
    "    data=presses_intensity, \n",
    "    palette=colors[4:6], \n",
    "    hue=\"exercise\", \n",
    "    linewidth=3\n",
    "    )\n",
    "graph.set_xticklabels(presses_intensity[\"datetime\"].values, rotation = 30)\n",
    "graph.xaxis.set_major_locator(mdates.WeekdayLocator(interval=5))\n",
    "graph.xaxis.set_major_formatter(mdates.DateFormatter(\"%m/%d/%y\"))\n",
    "graph.set(\n",
    "    title=\"Presses Intensity vs. Time\", \n",
    "    xlabel=\"Time\", \n",
    "    ylabel=\"Weight (lbs)\", \n",
    "    yticks=np.arange(0, 200, 25)\n",
    "    )\n",
    "plt.legend(\n",
    "    title=\"Exercise\", \n",
    "    loc=\"upper right\", \n",
    "    labels=presses_intensity[\"exercise\"].unique()\n",
    "    )\n",
    "plt.savefig(\"Presses Intensity.png\")"
   ]
  },
  {
   "cell_type": "code",
   "execution_count": null,
   "metadata": {
    "scrolled": true
   },
   "outputs": [],
   "source": [
    "# Plot comparison for intensity for squats.\n",
    "plt.figure(figsize = (16,9))\n",
    "\n",
    "sns.set_context(\"paper\", font_scale = 2)\n",
    "graph = sns.lineplot(\n",
    "    x=\"datetime\", \n",
    "    y=\"total volume\", \n",
    "    data=presses_volume, \n",
    "    palette=colors[4:6], \n",
    "    hue=\"exercise\", \n",
    "    linewidth=3\n",
    "    )\n",
    "graph.set_xticklabels(presses_volume[\"datetime\"].values, rotation = 30)\n",
    "graph.xaxis.set_major_locator(mdates.WeekdayLocator(interval=5))\n",
    "graph.xaxis.set_major_formatter(mdates.DateFormatter(\"%m/%d/%y\"))\n",
    "graph.set(\n",
    "    title=\"Presses Volume vs. Time\", \n",
    "    xlabel=\"Time\", \n",
    "    ylabel=\"Total Reps per Session\", \n",
    "    yticks=np.arange(0, 55, 5)\n",
    "    )\n",
    "plt.legend(\n",
    "    title=\"Exercise\", \n",
    "    loc=\"upper left\", \n",
    "    labels=presses_volume[\"exercise\"].unique()\n",
    "    )\n",
    "plt.savefig(\"Presses Volume.png\")"
   ]
  },
  {
   "cell_type": "code",
   "execution_count": null,
   "metadata": {
    "scrolled": true
   },
   "outputs": [],
   "source": [
    "# Plot comparison for intensity for squats.\n",
    "plt.figure(figsize = (16,9))\n",
    "\n",
    "sns.set_context(\"paper\", font_scale = 2)\n",
    "graph = sns.lineplot(\n",
    "    x=\"datetime\", \n",
    "    y=\"weight_lbs\", \n",
    "    data=oly_lifts_intensity, \n",
    "    palette=colors[7:9], \n",
    "    hue=\"exercise\", \n",
    "    linewidth=3\n",
    "    )\n",
    "graph.set_xticklabels(oly_lifts_intensity[\"datetime\"].values, rotation = 30)\n",
    "graph.xaxis.set_major_locator(mdates.WeekdayLocator(interval=5))\n",
    "graph.xaxis.set_major_formatter(mdates.DateFormatter(\"%m/%d/%y\"))\n",
    "graph.set(\n",
    "    title=\"Olympic Lifts Intensity vs. Time\", \n",
    "    xlabel=\"Time\", \n",
    "    ylabel=\"Weight (lbs)\",\n",
    "    yticks=np.arange(0, 150, 25)\n",
    "    )\n",
    "plt.legend(\n",
    "    title=\"Exercise\", \n",
    "    loc=\"upper right\", \n",
    "    labels=oly_lifts_intensity[\"exercise\"].unique()\n",
    "    )\n",
    "plt.savefig(\"Olympic Lifts Intensity.png\")"
   ]
  },
  {
   "cell_type": "code",
   "execution_count": null,
   "metadata": {
    "scrolled": true
   },
   "outputs": [],
   "source": [
    "# Plot comparison for intensity for squats.\n",
    "plt.figure(figsize = (16,9))\n",
    "\n",
    "sns.set_context(\"paper\", font_scale = 2)\n",
    "graph = sns.lineplot(\n",
    "    x=\"datetime\", \n",
    "    y=\"total volume\", \n",
    "    data=oly_lifts_volume, \n",
    "    palette=colors[7:9], \n",
    "    hue=\"exercise\", \n",
    "    linewidth=3\n",
    "    )\n",
    "graph.set_xticklabels(oly_lifts_volume[\"datetime\"].values, rotation = 30)\n",
    "graph.xaxis.set_major_locator(mdates.WeekdayLocator(interval=5))\n",
    "graph.xaxis.set_major_formatter(mdates.DateFormatter(\"%m/%d/%y\"))\n",
    "graph.set(\n",
    "    title=\"Olympic Lifts Volume vs. Time\", \n",
    "    xlabel=\"Time\", \n",
    "    ylabel=\"Total Reps per Session\",\n",
    "    yticks=np.arange(0, 30, 3)\n",
    "    )\n",
    "plt.legend(\n",
    "    title=\"Exercise\", \n",
    "    loc=\"upper right\", \n",
    "    labels=oly_lifts_volume[\"exercise\"].unique()\n",
    "    )\n",
    "plt.savefig(\"Olympic Lifts Volume.png\")"
   ]
  },
  {
   "cell_type": "code",
   "execution_count": null,
   "metadata": {},
   "outputs": [],
   "source": [
    "\"\"\" Analytics Below \"\"\""
   ]
  },
  {
   "cell_type": "code",
   "execution_count": null,
   "metadata": {},
   "outputs": [],
   "source": [
    "# Shoulder Press Volume to Deadlift Volme Percent Ratio\n",
    "dl = total_volume.loc[\"Deadlift\"][0]\n",
    "sp = total_volume.loc[\"ShoulderPress\"][0]\n",
    "\n",
    "round(sp/dl*100, 2)"
   ]
  },
  {
   "cell_type": "code",
   "execution_count": null,
   "metadata": {},
   "outputs": [],
   "source": [
    "# Deadlift Max to Shoulder Press Max Percent Ratio\n",
    "dl = exercise_max.loc[\"Deadlift\"][0]\n",
    "sp = exercise_max.loc[\"ShoulderPress\"][0]\n",
    "\n",
    "round(dl/sp*100, 2)"
   ]
  },
  {
   "cell_type": "code",
   "execution_count": null,
   "metadata": {},
   "outputs": [],
   "source": [
    "# Squats Total Volume to Presses Total Volume Percent Ratio\n",
    "sq = squats_volume[\"total volume\"].sum()\n",
    "pr = presses_volume[\"total volume\"].sum()\n",
    "\n",
    "round(sq/pr*100, 2)"
   ]
  },
  {
   "cell_type": "code",
   "execution_count": null,
   "metadata": {},
   "outputs": [],
   "source": [
    "# Squts Total Intensity to Presses Total Intensity Percent Ratio\n",
    "sq = squats_intensity[\"weight_lbs\"].sum()\n",
    "pr = presses_intensity[\"weight_lbs\"].sum()\n",
    "\n",
    "round(sq/pr*100, 2)"
   ]
  },
  {
   "cell_type": "code",
   "execution_count": null,
   "metadata": {},
   "outputs": [],
   "source": [
    "# Snatch Total Volume to Clean&Jerk Total Volume Percent Ratio\n",
    "cj = total_volume.loc[\"Clean&Jerk\"][0]\n",
    "sn = total_volume.loc[\"Snatch\"][0]\n",
    "\n",
    "round(sn/cj*100, 2)"
   ]
  },
  {
   "cell_type": "code",
   "execution_count": null,
   "metadata": {},
   "outputs": [],
   "source": [
    "# Snatch Total Intensity to Clean&Jerk Total Intensity Percent Ratio\n",
    "cj = total_intensity.loc[\"Clean&Jerk\"][0]\n",
    "sn = total_intensity.loc[\"Snatch\"][0]\n",
    "\n",
    "round(sn/cj*100, 2)"
   ]
  },
  {
   "cell_type": "code",
   "execution_count": null,
   "metadata": {},
   "outputs": [],
   "source": [
    "# Front Squat Max to Back Squat Max Percent Ratio\n",
    "fs = exercise_max.loc[\"FrontSquat\"][0]\n",
    "bs = exercise_max.loc[\"BackSquat\"][0]\n",
    "\n",
    "round(fs/bs*100, 2)"
   ]
  },
  {
   "cell_type": "code",
   "execution_count": null,
   "metadata": {},
   "outputs": [],
   "source": [
    "# Average duration of workouts out of 111 workouts with non-null data in duration_minutes\n",
    "len(workout_data[\"duration_minutes\"].loc[workout_data[\"duration_minutes\"] != -1]) # No. workouts with non-null duration\n",
    "\n",
    "avg_duration = workout_data[\"duration_minutes\"].loc[workout_data[\"duration_minutes\"] != -1].mean()\n",
    "round(avg_duration, 2)"
   ]
  },
  {
   "cell_type": "code",
   "execution_count": null,
   "metadata": {},
   "outputs": [],
   "source": [
    "# Average number of sets in workouts\n",
    "avg_sets = workout_data[\"sets\"].mean()\n",
    "round(avg_sets, 2)"
   ]
  },
  {
   "cell_type": "code",
   "execution_count": null,
   "metadata": {},
   "outputs": [],
   "source": [
    "# Average number of reps in workouts\n",
    "avg_reps = workout_data[\"reps\"].mean()\n",
    "round(avg_reps, 2)"
   ]
  },
  {
   "cell_type": "code",
   "execution_count": null,
   "metadata": {},
   "outputs": [],
   "source": [
    "# Average weight lifted in workouts\n",
    "avg_weight = workout_data[\"weight_lbs\"].mean()\n",
    "round(avg_weight, 2)"
   ]
  }
 ],
 "metadata": {
  "kernelspec": {
   "display_name": "Python 3",
   "language": "python",
   "name": "python3"
  },
  "language_info": {
   "codemirror_mode": {
    "name": "ipython",
    "version": 3
   },
   "file_extension": ".py",
   "mimetype": "text/x-python",
   "name": "python",
   "nbconvert_exporter": "python",
   "pygments_lexer": "ipython3",
   "version": "3.7.1"
  }
 },
 "nbformat": 4,
 "nbformat_minor": 2
}
