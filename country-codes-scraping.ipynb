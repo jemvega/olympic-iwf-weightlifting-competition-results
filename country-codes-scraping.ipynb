{
 "cells": [
  {
   "cell_type": "code",
   "execution_count": 1,
   "metadata": {},
   "outputs": [],
   "source": [
    "import requests\n",
    "from bs4 import BeautifulSoup\n",
    "import pandas as pd"
   ]
  },
  {
   "cell_type": "code",
   "execution_count": 96,
   "metadata": {},
   "outputs": [],
   "source": [
    "def iso_country_codes(website_url):\n",
    "    code_text = []\n",
    "    url = requests.get(website_url)\n",
    "    page = BeautifulSoup(url.text, 'lxml')\n",
    "    wiki_table = page.find(\"div\", class_= \"plainlist\")\n",
    "    code_data = wiki_table.find_all([\"span\", \"a\"])\n",
    "    for text in code_data:\n",
    "        code_text.append(text.get_text())\n",
    "    return code_text"
   ]
  },
  {
   "cell_type": "code",
   "execution_count": 30,
   "metadata": {},
   "outputs": [],
   "source": [
    "def ioc_country_codes(website_url, header_name):\n",
    "    # parse html; find table; find table rows\n",
    "    url = requests.get(website_url)\n",
    "    page = BeautifulSoup(url.text, 'lxml')\n",
    "    header_id = page.find(\"span\", id=header_name)\n",
    "    wiki_table = header_id.parent.find_next_sibling(\"table\", class_=\"wikitable\")\n",
    "    table_cells = wiki_table.find('td')\n",
    "    table_rows = wiki_table.find_all(\"tr\")\n",
    "    # Iterate through rows and load text into a list\n",
    "    results_table = []\n",
    "    for row in table_rows:\n",
    "        table_tags = row.find_all([\"th\", \"td\"])\n",
    "        td = list(item.text for item in table_tags)\n",
    "        results_table.append(td)\n",
    "    results_df = pd.DataFrame(results_table)\n",
    "    return results_df"
   ]
  },
  {
   "cell_type": "code",
   "execution_count": 97,
   "metadata": {},
   "outputs": [],
   "source": [
    "website_url = \"https://en.wikipedia.org/wiki/ISO_3166-1_alpha-3\"\n",
    "table_data = iso_country_codes(website_url)\n",
    "\n",
    "table_data[457] = \"Taiwan, Province of China\"\n",
    "\n",
    "table_data.pop(458)\n",
    "\n",
    "code_names = []\n",
    "country_names = []\n",
    "for elem in table_data:\n",
    "    if len(elem) == 3:\n",
    "        code_names.append(elem)\n",
    "    else: \n",
    "        country_names.append(elem)\n",
    "\n",
    "iso_code_list = list(zip(code_names, country_names))\n",
    "iso_code_dataframe = pd.DataFrame(code_country_list)\n",
    "iso_code_dataframe.columns = [\"Alpha-3 code\", \"Country\"]\n",
    "iso_code_dataframe.to_csv(\"country-codes-alpha-3-only.csv\")"
   ]
  },
  {
   "cell_type": "code",
   "execution_count": 109,
   "metadata": {},
   "outputs": [],
   "source": [
    "website_url1 = \"https://en.wikipedia.org/wiki/List_of_IOC_country_codes\"\n",
    "header_name1 = \"Current_NOCs\"\n",
    "ioc_dataframe = ioc_country_codes(website_url1, header_name1)\n",
    "\n",
    "ioc_dataframe.drop(3, axis=1, inplace=True)\n",
    "ioc_dataframe.columns = [\"IOC code\", \"Country\", \"Other codes used\"]\n",
    "ioc_dataframe.replace(\"\\n\", \"\", regex=True, inplace=True)\n",
    "new_col = ioc_dataframe[\"Country\"].str.split(\"[\", 1, expand=True)\n",
    "ioc_dataframe[\"Country\"] = new_col[0]\n",
    "ioc_dataframe.drop(0, inplace=True)\n",
    "ioc_dataframe.reset_index(inplace=True)\n",
    "ioc_dataframe.drop(\"index\", axis=1, inplace=True)\n",
    "ioc_dataframe.iloc[0].values[0] = ioc_dataframe.iloc[0].values[0].split(\"}\")[1]\n",
    "\n",
    "ioc_dataframe.to_csv(\"country-codes-ioc.csv\")\n",
    "\n",
    "\n",
    "\n",
    "ioc_dataframe"
   ]
  },
  {
   "cell_type": "code",
   "execution_count": 112,
   "metadata": {},
   "outputs": [],
   "source": [
    "website_url1 = \"https://en.wikipedia.org/wiki/List_of_IOC_country_codes\"\n",
    "header_name1 = \"Current_NOCs\"\n",
    "ioc_dataframe = ioc_country_codes(website_url1, header_name1)\n",
    "\n",
    "ioc_dataframe.drop(3, axis=1, inplace=True)\n",
    "ioc_dataframe.columns = [\"IOC code\", \"Country\", \"Other codes used\"]\n",
    "ioc_dataframe.replace(\"\\n\", \"\", regex=True, inplace=True)\n",
    "ioc_dataframe.replace(\"\\xa0\", \"\", regex=True, inplace=True)\n",
    "new_col = ioc_dataframe[\"Country\"].str.split(\"[\", 1, expand=True)\n",
    "ioc_dataframe[\"Country\"] = new_col[0]\n",
    "ioc_dataframe.drop(0, inplace=True)\n",
    "ioc_dataframe.reset_index(inplace=True)\n",
    "ioc_dataframe.drop(\"index\", axis=1, inplace=True)\n",
    "ioc_dataframe.iloc[0].values[0] = ioc_dataframe.iloc[0].values[0].split(\"}\")[1]\n",
    "\n",
    "ioc_dataframe.to_csv(\"country-codes-ioc.csv\")"
   ]
  },
  {
   "cell_type": "code",
   "execution_count": 113,
   "metadata": {},
   "outputs": [
    {
     "name": "stderr",
     "output_type": "stream",
     "text": [
      "[NbConvertApp] Converting notebook country-codes-scraping.ipynb to script\n",
      "[NbConvertApp] Writing 3332 bytes to country-codes-scraping.py\n"
     ]
    }
   ],
   "source": [
    "!jupyter nbconvert --to script country-codes-scraping.ipynb"
   ]
  }
 ],
 "metadata": {
  "kernelspec": {
   "display_name": "Python 3",
   "language": "python",
   "name": "python3"
  },
  "language_info": {
   "codemirror_mode": {
    "name": "ipython",
    "version": 3
   },
   "file_extension": ".py",
   "mimetype": "text/x-python",
   "name": "python",
   "nbconvert_exporter": "python",
   "pygments_lexer": "ipython3",
   "version": "3.7.1"
  }
 },
 "nbformat": 4,
 "nbformat_minor": 2
}
